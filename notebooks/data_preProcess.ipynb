{
 "cells": [
  {
   "cell_type": "code",
   "execution_count": 3,
   "id": "d14d207a",
   "metadata": {},
   "outputs": [],
   "source": [
    "#Importing libraries that we will be using\n",
    "%matplotlib inline\n",
    "import statsmodels.api as sm\n",
    "import numpy as np \n",
    "import scipy\n",
    "import plotly.express as px\n",
    "import matplotlib.pyplot as plt\n",
    "import pandas as pd\n",
    "import seaborn as sns\n",
    "from sklearn.impute import SimpleImputer\n",
    "import warnings\n",
    "warnings.filterwarnings(action=\"ignore\")\n",
    "import seaborn as sns"
   ]
  },
  {
   "cell_type": "code",
   "execution_count": 4,
   "id": "b9cf21c3",
   "metadata": {},
   "outputs": [
    {
     "data": {
      "text/html": [
       "<div>\n",
       "<style scoped>\n",
       "    .dataframe tbody tr th:only-of-type {\n",
       "        vertical-align: middle;\n",
       "    }\n",
       "\n",
       "    .dataframe tbody tr th {\n",
       "        vertical-align: top;\n",
       "    }\n",
       "\n",
       "    .dataframe thead th {\n",
       "        text-align: right;\n",
       "    }\n",
       "</style>\n",
       "<table border=\"1\" class=\"dataframe\">\n",
       "  <thead>\n",
       "    <tr style=\"text-align: right;\">\n",
       "      <th></th>\n",
       "      <th>auction_id</th>\n",
       "      <th>experiment</th>\n",
       "      <th>date</th>\n",
       "      <th>hour</th>\n",
       "      <th>device_make</th>\n",
       "      <th>platform_os</th>\n",
       "      <th>browser</th>\n",
       "      <th>yes</th>\n",
       "      <th>no</th>\n",
       "    </tr>\n",
       "  </thead>\n",
       "  <tbody>\n",
       "    <tr>\n",
       "      <th>0</th>\n",
       "      <td>0008ef63-77a7-448b-bd1e-075f42c55e39</td>\n",
       "      <td>exposed</td>\n",
       "      <td>2020-07-10</td>\n",
       "      <td>8</td>\n",
       "      <td>Generic Smartphone</td>\n",
       "      <td>6</td>\n",
       "      <td>Chrome Mobile</td>\n",
       "      <td>0</td>\n",
       "      <td>0</td>\n",
       "    </tr>\n",
       "    <tr>\n",
       "      <th>1</th>\n",
       "      <td>000eabc5-17ce-4137-8efe-44734d914446</td>\n",
       "      <td>exposed</td>\n",
       "      <td>2020-07-07</td>\n",
       "      <td>10</td>\n",
       "      <td>Generic Smartphone</td>\n",
       "      <td>6</td>\n",
       "      <td>Chrome Mobile</td>\n",
       "      <td>0</td>\n",
       "      <td>0</td>\n",
       "    </tr>\n",
       "    <tr>\n",
       "      <th>2</th>\n",
       "      <td>0016d14a-ae18-4a02-a204-6ba53b52f2ed</td>\n",
       "      <td>exposed</td>\n",
       "      <td>2020-07-05</td>\n",
       "      <td>2</td>\n",
       "      <td>E5823</td>\n",
       "      <td>6</td>\n",
       "      <td>Chrome Mobile WebView</td>\n",
       "      <td>0</td>\n",
       "      <td>1</td>\n",
       "    </tr>\n",
       "    <tr>\n",
       "      <th>3</th>\n",
       "      <td>00187412-2932-4542-a8ef-3633901c98d9</td>\n",
       "      <td>control</td>\n",
       "      <td>2020-07-03</td>\n",
       "      <td>15</td>\n",
       "      <td>Samsung SM-A705FN</td>\n",
       "      <td>6</td>\n",
       "      <td>Facebook</td>\n",
       "      <td>0</td>\n",
       "      <td>0</td>\n",
       "    </tr>\n",
       "    <tr>\n",
       "      <th>4</th>\n",
       "      <td>001a7785-d3fe-4e11-a344-c8735acacc2c</td>\n",
       "      <td>control</td>\n",
       "      <td>2020-07-03</td>\n",
       "      <td>15</td>\n",
       "      <td>Generic Smartphone</td>\n",
       "      <td>6</td>\n",
       "      <td>Chrome Mobile</td>\n",
       "      <td>0</td>\n",
       "      <td>0</td>\n",
       "    </tr>\n",
       "  </tbody>\n",
       "</table>\n",
       "</div>"
      ],
      "text/plain": [
       "                             auction_id experiment        date  hour  \\\n",
       "0  0008ef63-77a7-448b-bd1e-075f42c55e39    exposed  2020-07-10     8   \n",
       "1  000eabc5-17ce-4137-8efe-44734d914446    exposed  2020-07-07    10   \n",
       "2  0016d14a-ae18-4a02-a204-6ba53b52f2ed    exposed  2020-07-05     2   \n",
       "3  00187412-2932-4542-a8ef-3633901c98d9    control  2020-07-03    15   \n",
       "4  001a7785-d3fe-4e11-a344-c8735acacc2c    control  2020-07-03    15   \n",
       "\n",
       "          device_make  platform_os                browser  yes  no  \n",
       "0  Generic Smartphone            6          Chrome Mobile    0   0  \n",
       "1  Generic Smartphone            6          Chrome Mobile    0   0  \n",
       "2               E5823            6  Chrome Mobile WebView    0   1  \n",
       "3   Samsung SM-A705FN            6               Facebook    0   0  \n",
       "4  Generic Smartphone            6          Chrome Mobile    0   0  "
      ]
     },
     "execution_count": 4,
     "metadata": {},
     "output_type": "execute_result"
    }
   ],
   "source": [
    "#Reading our data\n",
    "df=pd.read_csv('../data/AdSmartABdata.csv')\n",
    "df.head()"
   ]
  },
  {
   "cell_type": "markdown",
   "id": "3b09e1bb",
   "metadata": {},
   "source": [
    "# Data prep"
   ]
  },
  {
   "cell_type": "code",
   "execution_count": 5,
   "id": "9becd9be",
   "metadata": {},
   "outputs": [],
   "source": [
    "#Adding scripts path\n",
    "import sys\n",
    "sys.path.insert(0,'../scripts/')\n",
    "from data_preProcess import data_preProcess\n",
    "from data_info import dataframeInfo "
   ]
  },
  {
   "cell_type": "code",
   "execution_count": 6,
   "id": "bcbf72bd",
   "metadata": {},
   "outputs": [],
   "source": [
    "data_preProcess = data_preProcess(df)\n",
    "data_info = dataframeInfo(df)"
   ]
  },
  {
   "cell_type": "code",
   "execution_count": 7,
   "id": "a7529f2d",
   "metadata": {},
   "outputs": [
    {
     "name": "stdout",
     "output_type": "stream",
     "text": [
      "<class 'pandas.core.frame.DataFrame'>\n",
      "RangeIndex: 8077 entries, 0 to 8076\n",
      "Data columns (total 9 columns):\n",
      " #   Column       Non-Null Count  Dtype \n",
      "---  ------       --------------  ----- \n",
      " 0   auction_id   8077 non-null   object\n",
      " 1   experiment   8077 non-null   object\n",
      " 2   date         8077 non-null   object\n",
      " 3   hour         8077 non-null   int64 \n",
      " 4   device_make  8077 non-null   object\n",
      " 5   platform_os  8077 non-null   int64 \n",
      " 6   browser      8077 non-null   object\n",
      " 7   yes          8077 non-null   int64 \n",
      " 8   no           8077 non-null   int64 \n",
      "dtypes: int64(4), object(5)\n",
      "memory usage: 568.0+ KB\n"
     ]
    }
   ],
   "source": [
    "df.info()"
   ]
  },
  {
   "cell_type": "code",
   "execution_count": 8,
   "id": "2e7ad830",
   "metadata": {},
   "outputs": [
    {
     "data": {
      "text/html": [
       "<div>\n",
       "<style scoped>\n",
       "    .dataframe tbody tr th:only-of-type {\n",
       "        vertical-align: middle;\n",
       "    }\n",
       "\n",
       "    .dataframe tbody tr th {\n",
       "        vertical-align: top;\n",
       "    }\n",
       "\n",
       "    .dataframe thead th {\n",
       "        text-align: right;\n",
       "    }\n",
       "</style>\n",
       "<table border=\"1\" class=\"dataframe\">\n",
       "  <thead>\n",
       "    <tr style=\"text-align: right;\">\n",
       "      <th></th>\n",
       "      <th>total_missing_values</th>\n",
       "      <th>missing_percentage</th>\n",
       "    </tr>\n",
       "  </thead>\n",
       "  <tbody>\n",
       "    <tr>\n",
       "      <th>auction_id</th>\n",
       "      <td>0</td>\n",
       "      <td>0.0 %</td>\n",
       "    </tr>\n",
       "    <tr>\n",
       "      <th>experiment</th>\n",
       "      <td>0</td>\n",
       "      <td>0.0 %</td>\n",
       "    </tr>\n",
       "    <tr>\n",
       "      <th>date</th>\n",
       "      <td>0</td>\n",
       "      <td>0.0 %</td>\n",
       "    </tr>\n",
       "    <tr>\n",
       "      <th>hour</th>\n",
       "      <td>0</td>\n",
       "      <td>0.0 %</td>\n",
       "    </tr>\n",
       "    <tr>\n",
       "      <th>device_make</th>\n",
       "      <td>0</td>\n",
       "      <td>0.0 %</td>\n",
       "    </tr>\n",
       "    <tr>\n",
       "      <th>platform_os</th>\n",
       "      <td>0</td>\n",
       "      <td>0.0 %</td>\n",
       "    </tr>\n",
       "    <tr>\n",
       "      <th>browser</th>\n",
       "      <td>0</td>\n",
       "      <td>0.0 %</td>\n",
       "    </tr>\n",
       "    <tr>\n",
       "      <th>yes</th>\n",
       "      <td>0</td>\n",
       "      <td>0.0 %</td>\n",
       "    </tr>\n",
       "    <tr>\n",
       "      <th>no</th>\n",
       "      <td>0</td>\n",
       "      <td>0.0 %</td>\n",
       "    </tr>\n",
       "  </tbody>\n",
       "</table>\n",
       "</div>"
      ],
      "text/plain": [
       "             total_missing_values missing_percentage\n",
       "auction_id                      0              0.0 %\n",
       "experiment                      0              0.0 %\n",
       "date                            0              0.0 %\n",
       "hour                            0              0.0 %\n",
       "device_make                     0              0.0 %\n",
       "platform_os                     0              0.0 %\n",
       "browser                         0              0.0 %\n",
       "yes                             0              0.0 %\n",
       "no                              0              0.0 %"
      ]
     },
     "execution_count": 8,
     "metadata": {},
     "output_type": "execute_result"
    }
   ],
   "source": [
    "data_info.find_column_based_missing_percentage()"
   ]
  },
  {
   "cell_type": "code",
   "execution_count": 9,
   "id": "9ec0e299",
   "metadata": {},
   "outputs": [
    {
     "data": {
      "text/html": [
       "<div>\n",
       "<style scoped>\n",
       "    .dataframe tbody tr th:only-of-type {\n",
       "        vertical-align: middle;\n",
       "    }\n",
       "\n",
       "    .dataframe tbody tr th {\n",
       "        vertical-align: top;\n",
       "    }\n",
       "\n",
       "    .dataframe thead th {\n",
       "        text-align: right;\n",
       "    }\n",
       "</style>\n",
       "<table border=\"1\" class=\"dataframe\">\n",
       "  <thead>\n",
       "    <tr style=\"text-align: right;\">\n",
       "      <th></th>\n",
       "      <th>auction_id</th>\n",
       "      <th>experiment</th>\n",
       "      <th>date</th>\n",
       "      <th>hour</th>\n",
       "      <th>device_make</th>\n",
       "      <th>platform_os</th>\n",
       "      <th>browser</th>\n",
       "      <th>yes</th>\n",
       "      <th>no</th>\n",
       "    </tr>\n",
       "  </thead>\n",
       "  <tbody>\n",
       "  </tbody>\n",
       "</table>\n",
       "</div>"
      ],
      "text/plain": [
       "Empty DataFrame\n",
       "Columns: [auction_id, experiment, date, hour, device_make, platform_os, browser, yes, no]\n",
       "Index: []"
      ]
     },
     "execution_count": 9,
     "metadata": {},
     "output_type": "execute_result"
    }
   ],
   "source": [
    "data_info.find_duplicates()"
   ]
  },
  {
   "cell_type": "code",
   "execution_count": 10,
   "id": "2bc7edc7",
   "metadata": {},
   "outputs": [
    {
     "data": {
      "text/html": [
       "<div>\n",
       "<style scoped>\n",
       "    .dataframe tbody tr th:only-of-type {\n",
       "        vertical-align: middle;\n",
       "    }\n",
       "\n",
       "    .dataframe tbody tr th {\n",
       "        vertical-align: top;\n",
       "    }\n",
       "\n",
       "    .dataframe thead th {\n",
       "        text-align: right;\n",
       "    }\n",
       "</style>\n",
       "<table border=\"1\" class=\"dataframe\">\n",
       "  <thead>\n",
       "    <tr style=\"text-align: right;\">\n",
       "      <th></th>\n",
       "      <th>Unique Value Count</th>\n",
       "    </tr>\n",
       "  </thead>\n",
       "  <tbody>\n",
       "    <tr>\n",
       "      <th>experiment</th>\n",
       "      <td>2</td>\n",
       "    </tr>\n",
       "    <tr>\n",
       "      <th>yes</th>\n",
       "      <td>2</td>\n",
       "    </tr>\n",
       "    <tr>\n",
       "      <th>no</th>\n",
       "      <td>2</td>\n",
       "    </tr>\n",
       "    <tr>\n",
       "      <th>platform_os</th>\n",
       "      <td>3</td>\n",
       "    </tr>\n",
       "    <tr>\n",
       "      <th>date</th>\n",
       "      <td>8</td>\n",
       "    </tr>\n",
       "    <tr>\n",
       "      <th>browser</th>\n",
       "      <td>15</td>\n",
       "    </tr>\n",
       "    <tr>\n",
       "      <th>hour</th>\n",
       "      <td>24</td>\n",
       "    </tr>\n",
       "    <tr>\n",
       "      <th>device_make</th>\n",
       "      <td>270</td>\n",
       "    </tr>\n",
       "    <tr>\n",
       "      <th>auction_id</th>\n",
       "      <td>8077</td>\n",
       "    </tr>\n",
       "  </tbody>\n",
       "</table>\n",
       "</div>"
      ],
      "text/plain": [
       "             Unique Value Count\n",
       "experiment                    2\n",
       "yes                           2\n",
       "no                            2\n",
       "platform_os                   3\n",
       "date                          8\n",
       "browser                      15\n",
       "hour                         24\n",
       "device_make                 270\n",
       "auction_id                 8077"
      ]
     },
     "execution_count": 10,
     "metadata": {},
     "output_type": "execute_result"
    }
   ],
   "source": [
    "data_info.find_dataframe_columns_unique_value_count()"
   ]
  },
  {
   "cell_type": "code",
   "execution_count": 11,
   "id": "74c7c41b",
   "metadata": {},
   "outputs": [
    {
     "data": {
      "text/plain": [
       "(8077, 9)"
      ]
     },
     "execution_count": 11,
     "metadata": {},
     "output_type": "execute_result"
    }
   ],
   "source": [
    "df.shape"
   ]
  },
  {
   "cell_type": "code",
   "execution_count": 14,
   "id": "7813b605",
   "metadata": {},
   "outputs": [
    {
     "name": "stdout",
     "output_type": "stream",
     "text": [
      "Current DataFrame Memory Usage of columns is :\n"
     ]
    },
    {
     "data": {
      "text/plain": [
       "Index            128\n",
       "auction_id     64616\n",
       "experiment     64616\n",
       "date           64616\n",
       "hour           64616\n",
       "device_make    64616\n",
       "platform_os    64616\n",
       "browser        64616\n",
       "yes            64616\n",
       "no             64616\n",
       "dtype: int64"
      ]
     },
     "execution_count": 14,
     "metadata": {},
     "output_type": "execute_result"
    }
   ],
   "source": [
    "data_info.find_memory_usage()"
   ]
  },
  {
   "cell_type": "code",
   "execution_count": 15,
   "id": "4098c94a",
   "metadata": {},
   "outputs": [
    {
     "data": {
      "text/html": [
       "<div>\n",
       "<style scoped>\n",
       "    .dataframe tbody tr th:only-of-type {\n",
       "        vertical-align: middle;\n",
       "    }\n",
       "\n",
       "    .dataframe tbody tr th {\n",
       "        vertical-align: top;\n",
       "    }\n",
       "\n",
       "    .dataframe thead th {\n",
       "        text-align: right;\n",
       "    }\n",
       "</style>\n",
       "<table border=\"1\" class=\"dataframe\">\n",
       "  <thead>\n",
       "    <tr style=\"text-align: right;\">\n",
       "      <th></th>\n",
       "      <th>hour</th>\n",
       "      <th>platform_os</th>\n",
       "      <th>yes</th>\n",
       "      <th>no</th>\n",
       "    </tr>\n",
       "  </thead>\n",
       "  <tbody>\n",
       "    <tr>\n",
       "      <th>hour</th>\n",
       "      <td>1.000000</td>\n",
       "      <td>0.000062</td>\n",
       "      <td>0.013481</td>\n",
       "      <td>-0.021725</td>\n",
       "    </tr>\n",
       "    <tr>\n",
       "      <th>platform_os</th>\n",
       "      <td>0.000062</td>\n",
       "      <td>1.000000</td>\n",
       "      <td>0.054305</td>\n",
       "      <td>0.046941</td>\n",
       "    </tr>\n",
       "    <tr>\n",
       "      <th>yes</th>\n",
       "      <td>0.013481</td>\n",
       "      <td>0.054305</td>\n",
       "      <td>1.000000</td>\n",
       "      <td>-0.083098</td>\n",
       "    </tr>\n",
       "    <tr>\n",
       "      <th>no</th>\n",
       "      <td>-0.021725</td>\n",
       "      <td>0.046941</td>\n",
       "      <td>-0.083098</td>\n",
       "      <td>1.000000</td>\n",
       "    </tr>\n",
       "  </tbody>\n",
       "</table>\n",
       "</div>"
      ],
      "text/plain": [
       "                 hour  platform_os       yes        no\n",
       "hour         1.000000     0.000062  0.013481 -0.021725\n",
       "platform_os  0.000062     1.000000  0.054305  0.046941\n",
       "yes          0.013481     0.054305  1.000000 -0.083098\n",
       "no          -0.021725     0.046941 -0.083098  1.000000"
      ]
     },
     "execution_count": 15,
     "metadata": {},
     "output_type": "execute_result"
    }
   ],
   "source": [
    "data_info.find_matrix_correlation()"
   ]
  },
  {
   "cell_type": "markdown",
   "id": "87599901",
   "metadata": {},
   "source": [
    "#### * Data is clean no further operation"
   ]
  },
  {
   "cell_type": "markdown",
   "id": "5a957f82",
   "metadata": {},
   "source": [
    "# Data Exploration"
   ]
  },
  {
   "cell_type": "code",
   "execution_count": 16,
   "id": "471542c7",
   "metadata": {},
   "outputs": [
    {
     "data": {
      "text/html": [
       "<div>\n",
       "<style scoped>\n",
       "    .dataframe tbody tr th:only-of-type {\n",
       "        vertical-align: middle;\n",
       "    }\n",
       "\n",
       "    .dataframe tbody tr th {\n",
       "        vertical-align: top;\n",
       "    }\n",
       "\n",
       "    .dataframe thead th {\n",
       "        text-align: right;\n",
       "    }\n",
       "</style>\n",
       "<table border=\"1\" class=\"dataframe\">\n",
       "  <thead>\n",
       "    <tr style=\"text-align: right;\">\n",
       "      <th></th>\n",
       "      <th>auction_id</th>\n",
       "      <th>experiment</th>\n",
       "      <th>date</th>\n",
       "      <th>hour</th>\n",
       "      <th>device_make</th>\n",
       "      <th>platform_os</th>\n",
       "      <th>browser</th>\n",
       "      <th>yes</th>\n",
       "      <th>no</th>\n",
       "    </tr>\n",
       "  </thead>\n",
       "  <tbody>\n",
       "    <tr>\n",
       "      <th>0</th>\n",
       "      <td>0008ef63-77a7-448b-bd1e-075f42c55e39</td>\n",
       "      <td>exposed</td>\n",
       "      <td>2020-07-10</td>\n",
       "      <td>8</td>\n",
       "      <td>Generic Smartphone</td>\n",
       "      <td>6</td>\n",
       "      <td>Chrome Mobile</td>\n",
       "      <td>0</td>\n",
       "      <td>0</td>\n",
       "    </tr>\n",
       "    <tr>\n",
       "      <th>1</th>\n",
       "      <td>000eabc5-17ce-4137-8efe-44734d914446</td>\n",
       "      <td>exposed</td>\n",
       "      <td>2020-07-07</td>\n",
       "      <td>10</td>\n",
       "      <td>Generic Smartphone</td>\n",
       "      <td>6</td>\n",
       "      <td>Chrome Mobile</td>\n",
       "      <td>0</td>\n",
       "      <td>0</td>\n",
       "    </tr>\n",
       "    <tr>\n",
       "      <th>2</th>\n",
       "      <td>0016d14a-ae18-4a02-a204-6ba53b52f2ed</td>\n",
       "      <td>exposed</td>\n",
       "      <td>2020-07-05</td>\n",
       "      <td>2</td>\n",
       "      <td>E5823</td>\n",
       "      <td>6</td>\n",
       "      <td>Chrome Mobile WebView</td>\n",
       "      <td>0</td>\n",
       "      <td>1</td>\n",
       "    </tr>\n",
       "    <tr>\n",
       "      <th>3</th>\n",
       "      <td>00187412-2932-4542-a8ef-3633901c98d9</td>\n",
       "      <td>control</td>\n",
       "      <td>2020-07-03</td>\n",
       "      <td>15</td>\n",
       "      <td>Samsung SM-A705FN</td>\n",
       "      <td>6</td>\n",
       "      <td>Facebook</td>\n",
       "      <td>0</td>\n",
       "      <td>0</td>\n",
       "    </tr>\n",
       "    <tr>\n",
       "      <th>4</th>\n",
       "      <td>001a7785-d3fe-4e11-a344-c8735acacc2c</td>\n",
       "      <td>control</td>\n",
       "      <td>2020-07-03</td>\n",
       "      <td>15</td>\n",
       "      <td>Generic Smartphone</td>\n",
       "      <td>6</td>\n",
       "      <td>Chrome Mobile</td>\n",
       "      <td>0</td>\n",
       "      <td>0</td>\n",
       "    </tr>\n",
       "  </tbody>\n",
       "</table>\n",
       "</div>"
      ],
      "text/plain": [
       "                             auction_id experiment        date  hour  \\\n",
       "0  0008ef63-77a7-448b-bd1e-075f42c55e39    exposed  2020-07-10     8   \n",
       "1  000eabc5-17ce-4137-8efe-44734d914446    exposed  2020-07-07    10   \n",
       "2  0016d14a-ae18-4a02-a204-6ba53b52f2ed    exposed  2020-07-05     2   \n",
       "3  00187412-2932-4542-a8ef-3633901c98d9    control  2020-07-03    15   \n",
       "4  001a7785-d3fe-4e11-a344-c8735acacc2c    control  2020-07-03    15   \n",
       "\n",
       "          device_make  platform_os                browser  yes  no  \n",
       "0  Generic Smartphone            6          Chrome Mobile    0   0  \n",
       "1  Generic Smartphone            6          Chrome Mobile    0   0  \n",
       "2               E5823            6  Chrome Mobile WebView    0   1  \n",
       "3   Samsung SM-A705FN            6               Facebook    0   0  \n",
       "4  Generic Smartphone            6          Chrome Mobile    0   0  "
      ]
     },
     "execution_count": 16,
     "metadata": {},
     "output_type": "execute_result"
    }
   ],
   "source": [
    "df.head()"
   ]
  },
  {
   "cell_type": "code",
   "execution_count": 17,
   "id": "2cb891fb",
   "metadata": {},
   "outputs": [
    {
     "name": "stdout",
     "output_type": "stream",
     "text": [
      "<class 'pandas.core.frame.DataFrame'>\n",
      "RangeIndex: 8077 entries, 0 to 8076\n",
      "Data columns (total 9 columns):\n",
      " #   Column       Non-Null Count  Dtype \n",
      "---  ------       --------------  ----- \n",
      " 0   auction_id   8077 non-null   object\n",
      " 1   experiment   8077 non-null   object\n",
      " 2   date         8077 non-null   object\n",
      " 3   hour         8077 non-null   int64 \n",
      " 4   device_make  8077 non-null   object\n",
      " 5   platform_os  8077 non-null   int64 \n",
      " 6   browser      8077 non-null   object\n",
      " 7   yes          8077 non-null   int64 \n",
      " 8   no           8077 non-null   int64 \n",
      "dtypes: int64(4), object(5)\n",
      "memory usage: 568.0+ KB\n"
     ]
    }
   ],
   "source": [
    "df.info()"
   ]
  },
  {
   "cell_type": "code",
   "execution_count": 18,
   "id": "65ca2892",
   "metadata": {},
   "outputs": [
    {
     "data": {
      "text/plain": [
       "Index(['auction_id', 'experiment', 'date', 'hour', 'device_make',\n",
       "       'platform_os', 'browser', 'yes', 'no'],\n",
       "      dtype='object')"
      ]
     },
     "execution_count": 18,
     "metadata": {},
     "output_type": "execute_result"
    }
   ],
   "source": [
    "df.columns"
   ]
  },
  {
   "cell_type": "code",
   "execution_count": 19,
   "id": "5892ed92",
   "metadata": {},
   "outputs": [
    {
     "data": {
      "text/plain": [
       "(8077, 9)"
      ]
     },
     "execution_count": 19,
     "metadata": {},
     "output_type": "execute_result"
    }
   ],
   "source": [
    "df.shape"
   ]
  },
  {
   "cell_type": "code",
   "execution_count": 20,
   "id": "a346c218",
   "metadata": {},
   "outputs": [],
   "source": [
    "response = df.copy(deep=True)"
   ]
  },
  {
   "cell_type": "code",
   "execution_count": 21,
   "id": "83373408",
   "metadata": {},
   "outputs": [
    {
     "data": {
      "text/html": [
       "<div>\n",
       "<style scoped>\n",
       "    .dataframe tbody tr th:only-of-type {\n",
       "        vertical-align: middle;\n",
       "    }\n",
       "\n",
       "    .dataframe tbody tr th {\n",
       "        vertical-align: top;\n",
       "    }\n",
       "\n",
       "    .dataframe thead th {\n",
       "        text-align: right;\n",
       "    }\n",
       "</style>\n",
       "<table border=\"1\" class=\"dataframe\">\n",
       "  <thead>\n",
       "    <tr style=\"text-align: right;\">\n",
       "      <th></th>\n",
       "      <th>auction_id</th>\n",
       "      <th>experiment</th>\n",
       "      <th>date</th>\n",
       "      <th>hour</th>\n",
       "      <th>device_make</th>\n",
       "      <th>platform_os</th>\n",
       "      <th>browser</th>\n",
       "      <th>yes</th>\n",
       "      <th>no</th>\n",
       "    </tr>\n",
       "  </thead>\n",
       "  <tbody>\n",
       "    <tr>\n",
       "      <th>16</th>\n",
       "      <td>008aafdf-deef-4482-8fec-d98e3da054da</td>\n",
       "      <td>exposed</td>\n",
       "      <td>2020-07-04</td>\n",
       "      <td>16</td>\n",
       "      <td>Generic Smartphone</td>\n",
       "      <td>6</td>\n",
       "      <td>Chrome Mobile</td>\n",
       "      <td>1</td>\n",
       "      <td>0</td>\n",
       "    </tr>\n",
       "    <tr>\n",
       "      <th>23</th>\n",
       "      <td>00b6fadb-10bd-49e3-a778-290da82f7a8d</td>\n",
       "      <td>control</td>\n",
       "      <td>2020-07-08</td>\n",
       "      <td>4</td>\n",
       "      <td>Samsung SM-A202F</td>\n",
       "      <td>6</td>\n",
       "      <td>Facebook</td>\n",
       "      <td>1</td>\n",
       "      <td>0</td>\n",
       "    </tr>\n",
       "    <tr>\n",
       "      <th>45</th>\n",
       "      <td>018af862-486e-4da1-a85b-71872120e57c</td>\n",
       "      <td>control</td>\n",
       "      <td>2020-07-03</td>\n",
       "      <td>15</td>\n",
       "      <td>Generic Smartphone</td>\n",
       "      <td>6</td>\n",
       "      <td>Chrome Mobile</td>\n",
       "      <td>1</td>\n",
       "      <td>0</td>\n",
       "    </tr>\n",
       "    <tr>\n",
       "      <th>65</th>\n",
       "      <td>023ec7b5-cb8f-49a5-995f-e0d7c2f702e5</td>\n",
       "      <td>exposed</td>\n",
       "      <td>2020-07-09</td>\n",
       "      <td>13</td>\n",
       "      <td>Samsung SM-G935F</td>\n",
       "      <td>6</td>\n",
       "      <td>Facebook</td>\n",
       "      <td>1</td>\n",
       "      <td>0</td>\n",
       "    </tr>\n",
       "    <tr>\n",
       "      <th>89</th>\n",
       "      <td>02efdb70-8596-4f3f-b0b2-b91e194f61f7</td>\n",
       "      <td>exposed</td>\n",
       "      <td>2020-07-05</td>\n",
       "      <td>6</td>\n",
       "      <td>Generic Smartphone</td>\n",
       "      <td>6</td>\n",
       "      <td>Chrome Mobile</td>\n",
       "      <td>1</td>\n",
       "      <td>0</td>\n",
       "    </tr>\n",
       "  </tbody>\n",
       "</table>\n",
       "</div>"
      ],
      "text/plain": [
       "                              auction_id experiment        date  hour  \\\n",
       "16  008aafdf-deef-4482-8fec-d98e3da054da    exposed  2020-07-04    16   \n",
       "23  00b6fadb-10bd-49e3-a778-290da82f7a8d    control  2020-07-08     4   \n",
       "45  018af862-486e-4da1-a85b-71872120e57c    control  2020-07-03    15   \n",
       "65  023ec7b5-cb8f-49a5-995f-e0d7c2f702e5    exposed  2020-07-09    13   \n",
       "89  02efdb70-8596-4f3f-b0b2-b91e194f61f7    exposed  2020-07-05     6   \n",
       "\n",
       "           device_make  platform_os        browser  yes  no  \n",
       "16  Generic Smartphone            6  Chrome Mobile    1   0  \n",
       "23    Samsung SM-A202F            6       Facebook    1   0  \n",
       "45  Generic Smartphone            6  Chrome Mobile    1   0  \n",
       "65    Samsung SM-G935F            6       Facebook    1   0  \n",
       "89  Generic Smartphone            6  Chrome Mobile    1   0  "
      ]
     },
     "execution_count": 21,
     "metadata": {},
     "output_type": "execute_result"
    }
   ],
   "source": [
    "# getting users who only selects yes or no\n",
    "response = response[response['yes'] == 1].append(response[response['no'] == 1])\n",
    "response.head(5)"
   ]
  },
  {
   "cell_type": "code",
   "execution_count": 22,
   "id": "771a66ed",
   "metadata": {},
   "outputs": [
    {
     "data": {
      "text/plain": [
       "(1243, 9)"
      ]
     },
     "execution_count": 22,
     "metadata": {},
     "output_type": "execute_result"
    }
   ],
   "source": [
    "response.shape"
   ]
  },
  {
   "cell_type": "code",
   "execution_count": 23,
   "id": "1f0f0d93",
   "metadata": {},
   "outputs": [
    {
     "data": {
      "text/html": [
       "<div>\n",
       "<style scoped>\n",
       "    .dataframe tbody tr th:only-of-type {\n",
       "        vertical-align: middle;\n",
       "    }\n",
       "\n",
       "    .dataframe tbody tr th {\n",
       "        vertical-align: top;\n",
       "    }\n",
       "\n",
       "    .dataframe thead th {\n",
       "        text-align: right;\n",
       "    }\n",
       "</style>\n",
       "<table border=\"1\" class=\"dataframe\">\n",
       "  <thead>\n",
       "    <tr style=\"text-align: right;\">\n",
       "      <th></th>\n",
       "      <th>auction_id</th>\n",
       "      <th>experiment</th>\n",
       "      <th>date</th>\n",
       "      <th>hour</th>\n",
       "      <th>device_make</th>\n",
       "      <th>platform_os</th>\n",
       "      <th>browser</th>\n",
       "      <th>yes</th>\n",
       "      <th>no</th>\n",
       "    </tr>\n",
       "  </thead>\n",
       "  <tbody>\n",
       "    <tr>\n",
       "      <th>23</th>\n",
       "      <td>00b6fadb-10bd-49e3-a778-290da82f7a8d</td>\n",
       "      <td>control</td>\n",
       "      <td>2020-07-08</td>\n",
       "      <td>4</td>\n",
       "      <td>Samsung SM-A202F</td>\n",
       "      <td>6</td>\n",
       "      <td>Facebook</td>\n",
       "      <td>1</td>\n",
       "      <td>0</td>\n",
       "    </tr>\n",
       "    <tr>\n",
       "      <th>45</th>\n",
       "      <td>018af862-486e-4da1-a85b-71872120e57c</td>\n",
       "      <td>control</td>\n",
       "      <td>2020-07-03</td>\n",
       "      <td>15</td>\n",
       "      <td>Generic Smartphone</td>\n",
       "      <td>6</td>\n",
       "      <td>Chrome Mobile</td>\n",
       "      <td>1</td>\n",
       "      <td>0</td>\n",
       "    </tr>\n",
       "    <tr>\n",
       "      <th>100</th>\n",
       "      <td>0332a7f7-0336-4d48-96ad-75da00d916c0</td>\n",
       "      <td>control</td>\n",
       "      <td>2020-07-04</td>\n",
       "      <td>16</td>\n",
       "      <td>Generic Smartphone</td>\n",
       "      <td>6</td>\n",
       "      <td>Chrome Mobile</td>\n",
       "      <td>1</td>\n",
       "      <td>0</td>\n",
       "    </tr>\n",
       "    <tr>\n",
       "      <th>118</th>\n",
       "      <td>03948b84-b5b1-4f26-81fc-e953218aef1a</td>\n",
       "      <td>control</td>\n",
       "      <td>2020-07-09</td>\n",
       "      <td>20</td>\n",
       "      <td>Samsung SM-G930F</td>\n",
       "      <td>6</td>\n",
       "      <td>Facebook</td>\n",
       "      <td>1</td>\n",
       "      <td>0</td>\n",
       "    </tr>\n",
       "    <tr>\n",
       "      <th>157</th>\n",
       "      <td>04b69bd8-4849-4489-adcf-08b96a265c40</td>\n",
       "      <td>control</td>\n",
       "      <td>2020-07-07</td>\n",
       "      <td>15</td>\n",
       "      <td>Generic Smartphone</td>\n",
       "      <td>6</td>\n",
       "      <td>Chrome Mobile</td>\n",
       "      <td>1</td>\n",
       "      <td>0</td>\n",
       "    </tr>\n",
       "  </tbody>\n",
       "</table>\n",
       "</div>"
      ],
      "text/plain": [
       "                               auction_id experiment        date  hour  \\\n",
       "23   00b6fadb-10bd-49e3-a778-290da82f7a8d    control  2020-07-08     4   \n",
       "45   018af862-486e-4da1-a85b-71872120e57c    control  2020-07-03    15   \n",
       "100  0332a7f7-0336-4d48-96ad-75da00d916c0    control  2020-07-04    16   \n",
       "118  03948b84-b5b1-4f26-81fc-e953218aef1a    control  2020-07-09    20   \n",
       "157  04b69bd8-4849-4489-adcf-08b96a265c40    control  2020-07-07    15   \n",
       "\n",
       "            device_make  platform_os        browser  yes  no  \n",
       "23     Samsung SM-A202F            6       Facebook    1   0  \n",
       "45   Generic Smartphone            6  Chrome Mobile    1   0  \n",
       "100  Generic Smartphone            6  Chrome Mobile    1   0  \n",
       "118    Samsung SM-G930F            6       Facebook    1   0  \n",
       "157  Generic Smartphone            6  Chrome Mobile    1   0  "
      ]
     },
     "execution_count": 23,
     "metadata": {},
     "output_type": "execute_result"
    }
   ],
   "source": [
    "# finding the control group\n",
    "control_df = response[response['experiment'] == 'control']\n",
    "control_df.head(5)"
   ]
  },
  {
   "cell_type": "code",
   "execution_count": 24,
   "id": "b1527d7a",
   "metadata": {},
   "outputs": [
    {
     "data": {
      "text/plain": [
       "(586, 9)"
      ]
     },
     "execution_count": 24,
     "metadata": {},
     "output_type": "execute_result"
    }
   ],
   "source": [
    "control_df.shape"
   ]
  },
  {
   "cell_type": "markdown",
   "id": "e3361d03",
   "metadata": {},
   "source": [
    "#### * there are 586 peoples with control group"
   ]
  },
  {
   "cell_type": "code",
   "execution_count": 25,
   "id": "f6083b2c",
   "metadata": {},
   "outputs": [
    {
     "data": {
      "text/html": [
       "<div>\n",
       "<style scoped>\n",
       "    .dataframe tbody tr th:only-of-type {\n",
       "        vertical-align: middle;\n",
       "    }\n",
       "\n",
       "    .dataframe tbody tr th {\n",
       "        vertical-align: top;\n",
       "    }\n",
       "\n",
       "    .dataframe thead th {\n",
       "        text-align: right;\n",
       "    }\n",
       "</style>\n",
       "<table border=\"1\" class=\"dataframe\">\n",
       "  <thead>\n",
       "    <tr style=\"text-align: right;\">\n",
       "      <th></th>\n",
       "      <th>auction_id</th>\n",
       "      <th>experiment</th>\n",
       "      <th>date</th>\n",
       "      <th>hour</th>\n",
       "      <th>device_make</th>\n",
       "      <th>platform_os</th>\n",
       "      <th>browser</th>\n",
       "      <th>yes</th>\n",
       "      <th>no</th>\n",
       "    </tr>\n",
       "  </thead>\n",
       "  <tbody>\n",
       "    <tr>\n",
       "      <th>16</th>\n",
       "      <td>008aafdf-deef-4482-8fec-d98e3da054da</td>\n",
       "      <td>exposed</td>\n",
       "      <td>2020-07-04</td>\n",
       "      <td>16</td>\n",
       "      <td>Generic Smartphone</td>\n",
       "      <td>6</td>\n",
       "      <td>Chrome Mobile</td>\n",
       "      <td>1</td>\n",
       "      <td>0</td>\n",
       "    </tr>\n",
       "    <tr>\n",
       "      <th>65</th>\n",
       "      <td>023ec7b5-cb8f-49a5-995f-e0d7c2f702e5</td>\n",
       "      <td>exposed</td>\n",
       "      <td>2020-07-09</td>\n",
       "      <td>13</td>\n",
       "      <td>Samsung SM-G935F</td>\n",
       "      <td>6</td>\n",
       "      <td>Facebook</td>\n",
       "      <td>1</td>\n",
       "      <td>0</td>\n",
       "    </tr>\n",
       "    <tr>\n",
       "      <th>89</th>\n",
       "      <td>02efdb70-8596-4f3f-b0b2-b91e194f61f7</td>\n",
       "      <td>exposed</td>\n",
       "      <td>2020-07-05</td>\n",
       "      <td>6</td>\n",
       "      <td>Generic Smartphone</td>\n",
       "      <td>6</td>\n",
       "      <td>Chrome Mobile</td>\n",
       "      <td>1</td>\n",
       "      <td>0</td>\n",
       "    </tr>\n",
       "    <tr>\n",
       "      <th>128</th>\n",
       "      <td>03ee1780-1fa3-4bec-926c-d543a81a6653</td>\n",
       "      <td>exposed</td>\n",
       "      <td>2020-07-04</td>\n",
       "      <td>11</td>\n",
       "      <td>Samsung SM-G981B</td>\n",
       "      <td>6</td>\n",
       "      <td>Chrome Mobile WebView</td>\n",
       "      <td>1</td>\n",
       "      <td>0</td>\n",
       "    </tr>\n",
       "    <tr>\n",
       "      <th>144</th>\n",
       "      <td>046644f4-b30c-48f9-b069-f804a97b77d9</td>\n",
       "      <td>exposed</td>\n",
       "      <td>2020-07-05</td>\n",
       "      <td>2</td>\n",
       "      <td>Generic Smartphone</td>\n",
       "      <td>6</td>\n",
       "      <td>Chrome Mobile WebView</td>\n",
       "      <td>1</td>\n",
       "      <td>0</td>\n",
       "    </tr>\n",
       "  </tbody>\n",
       "</table>\n",
       "</div>"
      ],
      "text/plain": [
       "                               auction_id experiment        date  hour  \\\n",
       "16   008aafdf-deef-4482-8fec-d98e3da054da    exposed  2020-07-04    16   \n",
       "65   023ec7b5-cb8f-49a5-995f-e0d7c2f702e5    exposed  2020-07-09    13   \n",
       "89   02efdb70-8596-4f3f-b0b2-b91e194f61f7    exposed  2020-07-05     6   \n",
       "128  03ee1780-1fa3-4bec-926c-d543a81a6653    exposed  2020-07-04    11   \n",
       "144  046644f4-b30c-48f9-b069-f804a97b77d9    exposed  2020-07-05     2   \n",
       "\n",
       "            device_make  platform_os                browser  yes  no  \n",
       "16   Generic Smartphone            6          Chrome Mobile    1   0  \n",
       "65     Samsung SM-G935F            6               Facebook    1   0  \n",
       "89   Generic Smartphone            6          Chrome Mobile    1   0  \n",
       "128    Samsung SM-G981B            6  Chrome Mobile WebView    1   0  \n",
       "144  Generic Smartphone            6  Chrome Mobile WebView    1   0  "
      ]
     },
     "execution_count": 25,
     "metadata": {},
     "output_type": "execute_result"
    }
   ],
   "source": [
    "# finding the exposed group\n",
    "exposed_df = response[response['experiment'] == 'exposed']\n",
    "exposed_df.head(5)"
   ]
  },
  {
   "cell_type": "code",
   "execution_count": 41,
   "id": "fae619d2",
   "metadata": {},
   "outputs": [
    {
     "data": {
      "text/plain": [
       "(657, 9)"
      ]
     },
     "execution_count": 41,
     "metadata": {},
     "output_type": "execute_result"
    }
   ],
   "source": [
    "exposed_df.shape"
   ]
  },
  {
   "cell_type": "markdown",
   "id": "e9fc1715",
   "metadata": {},
   "source": [
    "#### * there are 657 peoples with exposed group"
   ]
  },
  {
   "cell_type": "code",
   "execution_count": 42,
   "id": "81d04911",
   "metadata": {},
   "outputs": [
    {
     "data": {
      "text/html": [
       "<div>\n",
       "<style scoped>\n",
       "    .dataframe tbody tr th:only-of-type {\n",
       "        vertical-align: middle;\n",
       "    }\n",
       "\n",
       "    .dataframe tbody tr th {\n",
       "        vertical-align: top;\n",
       "    }\n",
       "\n",
       "    .dataframe thead th {\n",
       "        text-align: right;\n",
       "    }\n",
       "</style>\n",
       "<table border=\"1\" class=\"dataframe\">\n",
       "  <thead>\n",
       "    <tr style=\"text-align: right;\">\n",
       "      <th></th>\n",
       "      <th>experiment</th>\n",
       "      <th>count</th>\n",
       "    </tr>\n",
       "  </thead>\n",
       "  <tbody>\n",
       "    <tr>\n",
       "      <th>0</th>\n",
       "      <td>control</td>\n",
       "      <td>586</td>\n",
       "    </tr>\n",
       "    <tr>\n",
       "      <th>1</th>\n",
       "      <td>exposed</td>\n",
       "      <td>657</td>\n",
       "    </tr>\n",
       "  </tbody>\n",
       "</table>\n",
       "</div>"
      ],
      "text/plain": [
       "  experiment  count\n",
       "0    control    586\n",
       "1    exposed    657"
      ]
     },
     "execution_count": 42,
     "metadata": {},
     "output_type": "execute_result"
    }
   ],
   "source": [
    "experiment_groups = response.groupby(['experiment']).agg({'experiment': ['count']})\n",
    "experiment_groups.columns = ['count']\n",
    "experiment_groups = experiment_groups.reset_index()\n",
    "experiment_groups"
   ]
  },
  {
   "cell_type": "code",
   "execution_count": 30,
   "id": "7d5a7009",
   "metadata": {},
   "outputs": [
    {
     "data": {
      "application/vnd.plotly.v1+json": {
       "config": {
        "plotlyServerURL": "https://plot.ly"
       },
       "data": [
        {
         "alignmentgroup": "True",
         "bingroup": "x",
         "hovertemplate": "experiment=%{x}<br>count=%{y}<extra></extra>",
         "legendgroup": "",
         "marker": {
          "color": "#636efa",
          "pattern": {
           "shape": ""
          }
         },
         "name": "",
         "offsetgroup": "",
         "orientation": "v",
         "showlegend": false,
         "type": "histogram",
         "x": [
          "exposed",
          "control",
          "control",
          "exposed",
          "exposed",
          "control",
          "control",
          "exposed",
          "exposed",
          "control",
          "control",
          "exposed",
          "control",
          "control",
          "exposed",
          "exposed",
          "control",
          "exposed",
          "exposed",
          "exposed",
          "exposed",
          "exposed",
          "control",
          "control",
          "control",
          "exposed",
          "control",
          "exposed",
          "exposed",
          "control",
          "exposed",
          "control",
          "exposed",
          "control",
          "control",
          "control",
          "exposed",
          "control",
          "control",
          "control",
          "exposed",
          "control",
          "exposed",
          "exposed",
          "exposed",
          "control",
          "exposed",
          "control",
          "exposed",
          "control",
          "control",
          "control",
          "exposed",
          "control",
          "exposed",
          "control",
          "exposed",
          "exposed",
          "control",
          "exposed",
          "control",
          "control",
          "exposed",
          "exposed",
          "control",
          "exposed",
          "control",
          "exposed",
          "exposed",
          "exposed",
          "exposed",
          "exposed",
          "control",
          "exposed",
          "control",
          "exposed",
          "control",
          "control",
          "exposed",
          "control",
          "exposed",
          "exposed",
          "exposed",
          "control",
          "exposed",
          "control",
          "control",
          "control",
          "exposed",
          "control",
          "control",
          "exposed",
          "exposed",
          "control",
          "control",
          "exposed",
          "exposed",
          "control",
          "exposed",
          "exposed",
          "exposed",
          "exposed",
          "control",
          "control",
          "exposed",
          "exposed",
          "exposed",
          "exposed",
          "control",
          "exposed",
          "control",
          "control",
          "exposed",
          "exposed",
          "exposed",
          "control",
          "control",
          "exposed",
          "exposed",
          "exposed",
          "control",
          "control",
          "exposed",
          "control",
          "control",
          "control",
          "exposed",
          "exposed",
          "exposed",
          "exposed",
          "control",
          "exposed",
          "control",
          "control",
          "exposed",
          "exposed",
          "control",
          "control",
          "control",
          "control",
          "control",
          "control",
          "exposed",
          "control",
          "control",
          "control",
          "control",
          "control",
          "control",
          "control",
          "exposed",
          "exposed",
          "exposed",
          "control",
          "exposed",
          "exposed",
          "control",
          "control",
          "exposed",
          "exposed",
          "control",
          "control",
          "exposed",
          "exposed",
          "control",
          "exposed",
          "exposed",
          "exposed",
          "exposed",
          "exposed",
          "control",
          "exposed",
          "exposed",
          "exposed",
          "control",
          "control",
          "control",
          "exposed",
          "control",
          "control",
          "exposed",
          "exposed",
          "exposed",
          "control",
          "exposed",
          "exposed",
          "control",
          "control",
          "control",
          "exposed",
          "exposed",
          "control",
          "exposed",
          "exposed",
          "exposed",
          "exposed",
          "control",
          "exposed",
          "control",
          "control",
          "control",
          "exposed",
          "control",
          "control",
          "exposed",
          "control",
          "control",
          "control",
          "control",
          "exposed",
          "exposed",
          "exposed",
          "exposed",
          "control",
          "control",
          "control",
          "control",
          "exposed",
          "exposed",
          "exposed",
          "control",
          "exposed",
          "control",
          "control",
          "control",
          "control",
          "control",
          "control",
          "control",
          "control",
          "control",
          "control",
          "exposed",
          "control",
          "control",
          "exposed",
          "control",
          "exposed",
          "exposed",
          "exposed",
          "control",
          "exposed",
          "control",
          "control",
          "control",
          "control",
          "exposed",
          "control",
          "control",
          "exposed",
          "exposed",
          "exposed",
          "exposed",
          "exposed",
          "exposed",
          "exposed",
          "exposed",
          "control",
          "exposed",
          "control",
          "control",
          "control",
          "exposed",
          "control",
          "control",
          "exposed",
          "control",
          "control",
          "exposed",
          "control",
          "exposed",
          "exposed",
          "exposed",
          "exposed",
          "control",
          "control",
          "exposed",
          "control",
          "control",
          "exposed",
          "exposed",
          "exposed",
          "exposed",
          "exposed",
          "control",
          "exposed",
          "exposed",
          "exposed",
          "control",
          "exposed",
          "control",
          "exposed",
          "exposed",
          "exposed",
          "exposed",
          "exposed",
          "exposed",
          "control",
          "control",
          "exposed",
          "exposed",
          "control",
          "exposed",
          "control",
          "control",
          "control",
          "control",
          "exposed",
          "exposed",
          "control",
          "control",
          "exposed",
          "exposed",
          "exposed",
          "exposed",
          "control",
          "control",
          "control",
          "control",
          "control",
          "exposed",
          "exposed",
          "exposed",
          "control",
          "control",
          "control",
          "exposed",
          "control",
          "exposed",
          "control",
          "exposed",
          "exposed",
          "exposed",
          "control",
          "exposed",
          "exposed",
          "control",
          "exposed",
          "exposed",
          "control",
          "exposed",
          "exposed",
          "control",
          "exposed",
          "control",
          "exposed",
          "exposed",
          "control",
          "control",
          "control",
          "exposed",
          "control",
          "control",
          "exposed",
          "control",
          "exposed",
          "exposed",
          "exposed",
          "control",
          "exposed",
          "control",
          "exposed",
          "exposed",
          "exposed",
          "exposed",
          "exposed",
          "control",
          "control",
          "control",
          "exposed",
          "control",
          "control",
          "control",
          "exposed",
          "control",
          "exposed",
          "exposed",
          "exposed",
          "exposed",
          "exposed",
          "control",
          "exposed",
          "exposed",
          "exposed",
          "exposed",
          "control",
          "exposed",
          "exposed",
          "control",
          "exposed",
          "control",
          "exposed",
          "exposed",
          "exposed",
          "exposed",
          "exposed",
          "exposed",
          "control",
          "exposed",
          "control",
          "exposed",
          "control",
          "control",
          "exposed",
          "control",
          "exposed",
          "exposed",
          "exposed",
          "control",
          "exposed",
          "exposed",
          "exposed",
          "control",
          "exposed",
          "control",
          "exposed",
          "exposed",
          "control",
          "exposed",
          "control",
          "exposed",
          "exposed",
          "exposed",
          "exposed",
          "exposed",
          "exposed",
          "exposed",
          "control",
          "control",
          "exposed",
          "exposed",
          "control",
          "control",
          "control",
          "exposed",
          "exposed",
          "exposed",
          "control",
          "exposed",
          "exposed",
          "control",
          "control",
          "control",
          "exposed",
          "exposed",
          "control",
          "exposed",
          "exposed",
          "exposed",
          "control",
          "control",
          "control",
          "exposed",
          "control",
          "exposed",
          "exposed",
          "exposed",
          "control",
          "control",
          "exposed",
          "exposed",
          "exposed",
          "exposed",
          "exposed",
          "control",
          "control",
          "control",
          "control",
          "exposed",
          "exposed",
          "exposed",
          "exposed",
          "exposed",
          "control",
          "exposed",
          "exposed",
          "exposed",
          "exposed",
          "control",
          "control",
          "exposed",
          "exposed",
          "exposed",
          "exposed",
          "control",
          "exposed",
          "exposed",
          "control",
          "control",
          "control",
          "control",
          "control",
          "control",
          "control",
          "control",
          "exposed",
          "exposed",
          "control",
          "control",
          "control",
          "exposed",
          "exposed",
          "control",
          "control",
          "control",
          "exposed",
          "exposed",
          "exposed",
          "exposed",
          "exposed",
          "control",
          "exposed",
          "exposed",
          "exposed",
          "control",
          "exposed",
          "exposed",
          "control",
          "control",
          "control",
          "exposed",
          "control",
          "exposed",
          "exposed",
          "control",
          "exposed",
          "exposed",
          "control",
          "exposed",
          "control",
          "exposed",
          "control",
          "control",
          "exposed",
          "exposed",
          "exposed",
          "control",
          "control",
          "control",
          "control",
          "exposed",
          "exposed",
          "exposed",
          "exposed",
          "exposed",
          "exposed",
          "exposed",
          "control",
          "exposed",
          "control",
          "exposed",
          "control",
          "exposed",
          "control",
          "control",
          "exposed",
          "control",
          "control",
          "exposed",
          "control",
          "control",
          "control",
          "exposed",
          "control",
          "control",
          "control",
          "exposed",
          "control",
          "exposed",
          "exposed",
          "exposed",
          "exposed",
          "exposed",
          "exposed",
          "control",
          "exposed",
          "exposed",
          "control",
          "exposed",
          "control",
          "exposed",
          "exposed",
          "control",
          "control",
          "exposed",
          "exposed",
          "exposed",
          "control",
          "exposed",
          "exposed",
          "control",
          "control",
          "exposed",
          "exposed",
          "exposed",
          "control",
          "exposed",
          "control",
          "exposed",
          "control",
          "exposed",
          "exposed",
          "exposed",
          "control",
          "control",
          "exposed",
          "exposed",
          "control",
          "exposed",
          "control",
          "control",
          "control",
          "control",
          "control",
          "control",
          "exposed",
          "control",
          "control",
          "exposed",
          "control",
          "control",
          "exposed",
          "control",
          "control",
          "exposed",
          "exposed",
          "control",
          "exposed",
          "control",
          "control",
          "exposed",
          "exposed",
          "exposed",
          "exposed",
          "exposed",
          "control",
          "control",
          "exposed",
          "control",
          "exposed",
          "control",
          "exposed",
          "exposed",
          "control",
          "control",
          "exposed",
          "exposed",
          "control",
          "exposed",
          "control",
          "control",
          "control",
          "exposed",
          "exposed",
          "exposed",
          "exposed",
          "exposed",
          "exposed",
          "exposed",
          "control",
          "exposed",
          "control",
          "control",
          "control",
          "control",
          "exposed",
          "exposed",
          "control",
          "exposed",
          "exposed",
          "exposed",
          "exposed",
          "exposed",
          "control",
          "control",
          "exposed",
          "control",
          "exposed",
          "control",
          "control",
          "control",
          "control",
          "control",
          "exposed",
          "exposed",
          "control",
          "control",
          "exposed",
          "control",
          "exposed",
          "control",
          "control",
          "exposed",
          "control",
          "control",
          "control",
          "exposed",
          "exposed",
          "control",
          "exposed",
          "exposed",
          "control",
          "exposed",
          "control",
          "exposed",
          "control",
          "control",
          "exposed",
          "control",
          "exposed",
          "exposed",
          "exposed",
          "control",
          "exposed",
          "exposed",
          "control",
          "exposed",
          "exposed",
          "exposed",
          "control",
          "control",
          "control",
          "exposed",
          "control",
          "exposed",
          "control",
          "exposed",
          "control",
          "exposed",
          "exposed",
          "control",
          "control",
          "exposed",
          "exposed",
          "exposed",
          "control",
          "exposed",
          "exposed",
          "exposed",
          "exposed",
          "exposed",
          "control",
          "exposed",
          "exposed",
          "exposed",
          "control",
          "control",
          "exposed",
          "control",
          "control",
          "control",
          "control",
          "exposed",
          "exposed",
          "exposed",
          "exposed",
          "exposed",
          "control",
          "exposed",
          "exposed",
          "exposed",
          "exposed",
          "control",
          "exposed",
          "exposed",
          "control",
          "exposed",
          "exposed",
          "control",
          "exposed",
          "exposed",
          "control",
          "control",
          "exposed",
          "control",
          "exposed",
          "exposed",
          "exposed",
          "control",
          "exposed",
          "exposed",
          "exposed",
          "control",
          "control",
          "exposed",
          "control",
          "control",
          "exposed",
          "exposed",
          "exposed",
          "control",
          "exposed",
          "control",
          "control",
          "control",
          "control",
          "control",
          "exposed",
          "control",
          "exposed",
          "control",
          "exposed",
          "control",
          "exposed",
          "exposed",
          "control",
          "exposed",
          "exposed",
          "control",
          "exposed",
          "control",
          "exposed",
          "exposed",
          "control",
          "control",
          "exposed",
          "exposed",
          "exposed",
          "exposed",
          "exposed",
          "exposed",
          "exposed",
          "exposed",
          "exposed",
          "exposed",
          "exposed",
          "control",
          "exposed",
          "exposed",
          "exposed",
          "control",
          "exposed",
          "control",
          "exposed",
          "control",
          "exposed",
          "exposed",
          "control",
          "control",
          "exposed",
          "exposed",
          "exposed",
          "control",
          "exposed",
          "control",
          "control",
          "exposed",
          "control",
          "exposed",
          "control",
          "control",
          "control",
          "exposed",
          "exposed",
          "control",
          "exposed",
          "exposed",
          "control",
          "exposed",
          "exposed",
          "control",
          "exposed",
          "control",
          "control",
          "control",
          "control",
          "control",
          "control",
          "exposed",
          "control",
          "control",
          "control",
          "control",
          "control",
          "exposed",
          "exposed",
          "exposed",
          "control",
          "exposed",
          "exposed",
          "control",
          "exposed",
          "control",
          "control",
          "exposed",
          "exposed",
          "control",
          "exposed",
          "exposed",
          "exposed",
          "control",
          "exposed",
          "control",
          "control",
          "exposed",
          "exposed",
          "control",
          "exposed",
          "control",
          "control",
          "exposed",
          "exposed",
          "exposed",
          "exposed",
          "control",
          "control",
          "exposed",
          "control",
          "exposed",
          "exposed",
          "control",
          "exposed",
          "exposed",
          "control",
          "control",
          "exposed",
          "control",
          "exposed",
          "exposed",
          "exposed",
          "exposed",
          "control",
          "control",
          "exposed",
          "exposed",
          "exposed",
          "exposed",
          "exposed",
          "control",
          "control",
          "exposed",
          "exposed",
          "exposed",
          "control",
          "exposed",
          "exposed",
          "exposed",
          "exposed",
          "exposed",
          "control",
          "control",
          "exposed",
          "exposed",
          "exposed",
          "control",
          "control",
          "exposed",
          "control",
          "exposed",
          "control",
          "control",
          "control",
          "exposed",
          "exposed",
          "exposed",
          "exposed",
          "exposed",
          "control",
          "control",
          "control",
          "control",
          "exposed",
          "exposed",
          "control",
          "control",
          "exposed",
          "exposed",
          "control",
          "exposed",
          "control",
          "exposed",
          "exposed",
          "exposed",
          "control",
          "control",
          "exposed",
          "exposed",
          "control",
          "control",
          "exposed",
          "control",
          "exposed",
          "exposed",
          "exposed",
          "control",
          "exposed",
          "exposed",
          "control",
          "control",
          "exposed",
          "exposed",
          "exposed",
          "control",
          "control",
          "control",
          "control",
          "control",
          "control",
          "exposed",
          "exposed",
          "exposed",
          "control",
          "exposed",
          "exposed",
          "control",
          "control",
          "control",
          "exposed",
          "control",
          "exposed",
          "exposed",
          "control",
          "control",
          "control",
          "control",
          "exposed",
          "exposed",
          "control",
          "exposed",
          "exposed",
          "exposed",
          "exposed",
          "exposed",
          "exposed",
          "exposed",
          "exposed",
          "exposed",
          "control",
          "exposed",
          "exposed",
          "exposed",
          "control",
          "exposed",
          "control",
          "exposed",
          "control",
          "control",
          "exposed",
          "exposed",
          "control",
          "exposed",
          "control",
          "control",
          "control",
          "control",
          "control",
          "exposed",
          "control",
          "control",
          "control",
          "exposed",
          "control",
          "exposed",
          "exposed",
          "exposed",
          "control",
          "exposed",
          "control",
          "exposed",
          "exposed",
          "control",
          "exposed",
          "control",
          "exposed",
          "exposed",
          "exposed",
          "control",
          "control",
          "control",
          "control",
          "control",
          "control",
          "exposed",
          "exposed",
          "exposed",
          "exposed",
          "exposed",
          "control",
          "control",
          "control",
          "control",
          "control",
          "control",
          "control",
          "control",
          "control",
          "control",
          "control",
          "control",
          "exposed",
          "exposed",
          "exposed",
          "control",
          "control",
          "exposed",
          "control",
          "control",
          "control",
          "control",
          "control",
          "control",
          "control",
          "exposed",
          "exposed",
          "control",
          "control",
          "control",
          "exposed",
          "exposed",
          "exposed",
          "control",
          "control",
          "control",
          "exposed",
          "control",
          "control",
          "control",
          "control",
          "control",
          "exposed",
          "exposed",
          "control",
          "exposed",
          "control",
          "exposed",
          "exposed",
          "control",
          "control",
          "control",
          "control",
          "control",
          "control",
          "control",
          "exposed",
          "exposed",
          "exposed",
          "exposed",
          "control",
          "control",
          "control",
          "exposed",
          "control",
          "control",
          "exposed",
          "exposed",
          "control",
          "control",
          "control",
          "exposed",
          "exposed",
          "control",
          "control",
          "exposed",
          "control",
          "exposed",
          "control",
          "control",
          "exposed",
          "exposed",
          "exposed",
          "control",
          "control",
          "control",
          "exposed",
          "exposed",
          "control",
          "control",
          "control",
          "control",
          "control",
          "control",
          "exposed",
          "exposed",
          "exposed",
          "exposed",
          "exposed",
          "control",
          "exposed",
          "control",
          "exposed",
          "control",
          "exposed",
          "control",
          "control",
          "exposed",
          "exposed",
          "control",
          "exposed",
          "exposed",
          "exposed",
          "control",
          "control",
          "exposed",
          "exposed",
          "control",
          "exposed",
          "exposed",
          "exposed",
          "exposed",
          "exposed",
          "control",
          "exposed",
          "exposed",
          "control",
          "control",
          "control",
          "control",
          "exposed",
          "control",
          "control",
          "exposed",
          "exposed",
          "control",
          "exposed",
          "control",
          "exposed",
          "exposed",
          "control",
          "control",
          "exposed",
          "control",
          "control",
          "exposed",
          "control",
          "control",
          "exposed",
          "exposed",
          "exposed",
          "exposed",
          "control",
          "exposed",
          "control",
          "exposed",
          "control",
          "control",
          "control",
          "control",
          "control",
          "exposed",
          "exposed",
          "control",
          "control",
          "exposed"
         ],
         "xaxis": "x",
         "yaxis": "y"
        }
       ],
       "layout": {
        "barmode": "relative",
        "legend": {
         "tracegroupgap": 0
        },
        "margin": {
         "t": 60
        },
        "template": {
         "data": {
          "bar": [
           {
            "error_x": {
             "color": "#2a3f5f"
            },
            "error_y": {
             "color": "#2a3f5f"
            },
            "marker": {
             "line": {
              "color": "#E5ECF6",
              "width": 0.5
             },
             "pattern": {
              "fillmode": "overlay",
              "size": 10,
              "solidity": 0.2
             }
            },
            "type": "bar"
           }
          ],
          "barpolar": [
           {
            "marker": {
             "line": {
              "color": "#E5ECF6",
              "width": 0.5
             },
             "pattern": {
              "fillmode": "overlay",
              "size": 10,
              "solidity": 0.2
             }
            },
            "type": "barpolar"
           }
          ],
          "carpet": [
           {
            "aaxis": {
             "endlinecolor": "#2a3f5f",
             "gridcolor": "white",
             "linecolor": "white",
             "minorgridcolor": "white",
             "startlinecolor": "#2a3f5f"
            },
            "baxis": {
             "endlinecolor": "#2a3f5f",
             "gridcolor": "white",
             "linecolor": "white",
             "minorgridcolor": "white",
             "startlinecolor": "#2a3f5f"
            },
            "type": "carpet"
           }
          ],
          "choropleth": [
           {
            "colorbar": {
             "outlinewidth": 0,
             "ticks": ""
            },
            "type": "choropleth"
           }
          ],
          "contour": [
           {
            "colorbar": {
             "outlinewidth": 0,
             "ticks": ""
            },
            "colorscale": [
             [
              0,
              "#0d0887"
             ],
             [
              0.1111111111111111,
              "#46039f"
             ],
             [
              0.2222222222222222,
              "#7201a8"
             ],
             [
              0.3333333333333333,
              "#9c179e"
             ],
             [
              0.4444444444444444,
              "#bd3786"
             ],
             [
              0.5555555555555556,
              "#d8576b"
             ],
             [
              0.6666666666666666,
              "#ed7953"
             ],
             [
              0.7777777777777778,
              "#fb9f3a"
             ],
             [
              0.8888888888888888,
              "#fdca26"
             ],
             [
              1,
              "#f0f921"
             ]
            ],
            "type": "contour"
           }
          ],
          "contourcarpet": [
           {
            "colorbar": {
             "outlinewidth": 0,
             "ticks": ""
            },
            "type": "contourcarpet"
           }
          ],
          "heatmap": [
           {
            "colorbar": {
             "outlinewidth": 0,
             "ticks": ""
            },
            "colorscale": [
             [
              0,
              "#0d0887"
             ],
             [
              0.1111111111111111,
              "#46039f"
             ],
             [
              0.2222222222222222,
              "#7201a8"
             ],
             [
              0.3333333333333333,
              "#9c179e"
             ],
             [
              0.4444444444444444,
              "#bd3786"
             ],
             [
              0.5555555555555556,
              "#d8576b"
             ],
             [
              0.6666666666666666,
              "#ed7953"
             ],
             [
              0.7777777777777778,
              "#fb9f3a"
             ],
             [
              0.8888888888888888,
              "#fdca26"
             ],
             [
              1,
              "#f0f921"
             ]
            ],
            "type": "heatmap"
           }
          ],
          "heatmapgl": [
           {
            "colorbar": {
             "outlinewidth": 0,
             "ticks": ""
            },
            "colorscale": [
             [
              0,
              "#0d0887"
             ],
             [
              0.1111111111111111,
              "#46039f"
             ],
             [
              0.2222222222222222,
              "#7201a8"
             ],
             [
              0.3333333333333333,
              "#9c179e"
             ],
             [
              0.4444444444444444,
              "#bd3786"
             ],
             [
              0.5555555555555556,
              "#d8576b"
             ],
             [
              0.6666666666666666,
              "#ed7953"
             ],
             [
              0.7777777777777778,
              "#fb9f3a"
             ],
             [
              0.8888888888888888,
              "#fdca26"
             ],
             [
              1,
              "#f0f921"
             ]
            ],
            "type": "heatmapgl"
           }
          ],
          "histogram": [
           {
            "marker": {
             "pattern": {
              "fillmode": "overlay",
              "size": 10,
              "solidity": 0.2
             }
            },
            "type": "histogram"
           }
          ],
          "histogram2d": [
           {
            "colorbar": {
             "outlinewidth": 0,
             "ticks": ""
            },
            "colorscale": [
             [
              0,
              "#0d0887"
             ],
             [
              0.1111111111111111,
              "#46039f"
             ],
             [
              0.2222222222222222,
              "#7201a8"
             ],
             [
              0.3333333333333333,
              "#9c179e"
             ],
             [
              0.4444444444444444,
              "#bd3786"
             ],
             [
              0.5555555555555556,
              "#d8576b"
             ],
             [
              0.6666666666666666,
              "#ed7953"
             ],
             [
              0.7777777777777778,
              "#fb9f3a"
             ],
             [
              0.8888888888888888,
              "#fdca26"
             ],
             [
              1,
              "#f0f921"
             ]
            ],
            "type": "histogram2d"
           }
          ],
          "histogram2dcontour": [
           {
            "colorbar": {
             "outlinewidth": 0,
             "ticks": ""
            },
            "colorscale": [
             [
              0,
              "#0d0887"
             ],
             [
              0.1111111111111111,
              "#46039f"
             ],
             [
              0.2222222222222222,
              "#7201a8"
             ],
             [
              0.3333333333333333,
              "#9c179e"
             ],
             [
              0.4444444444444444,
              "#bd3786"
             ],
             [
              0.5555555555555556,
              "#d8576b"
             ],
             [
              0.6666666666666666,
              "#ed7953"
             ],
             [
              0.7777777777777778,
              "#fb9f3a"
             ],
             [
              0.8888888888888888,
              "#fdca26"
             ],
             [
              1,
              "#f0f921"
             ]
            ],
            "type": "histogram2dcontour"
           }
          ],
          "mesh3d": [
           {
            "colorbar": {
             "outlinewidth": 0,
             "ticks": ""
            },
            "type": "mesh3d"
           }
          ],
          "parcoords": [
           {
            "line": {
             "colorbar": {
              "outlinewidth": 0,
              "ticks": ""
             }
            },
            "type": "parcoords"
           }
          ],
          "pie": [
           {
            "automargin": true,
            "type": "pie"
           }
          ],
          "scatter": [
           {
            "fillpattern": {
             "fillmode": "overlay",
             "size": 10,
             "solidity": 0.2
            },
            "type": "scatter"
           }
          ],
          "scatter3d": [
           {
            "line": {
             "colorbar": {
              "outlinewidth": 0,
              "ticks": ""
             }
            },
            "marker": {
             "colorbar": {
              "outlinewidth": 0,
              "ticks": ""
             }
            },
            "type": "scatter3d"
           }
          ],
          "scattercarpet": [
           {
            "marker": {
             "colorbar": {
              "outlinewidth": 0,
              "ticks": ""
             }
            },
            "type": "scattercarpet"
           }
          ],
          "scattergeo": [
           {
            "marker": {
             "colorbar": {
              "outlinewidth": 0,
              "ticks": ""
             }
            },
            "type": "scattergeo"
           }
          ],
          "scattergl": [
           {
            "marker": {
             "colorbar": {
              "outlinewidth": 0,
              "ticks": ""
             }
            },
            "type": "scattergl"
           }
          ],
          "scattermapbox": [
           {
            "marker": {
             "colorbar": {
              "outlinewidth": 0,
              "ticks": ""
             }
            },
            "type": "scattermapbox"
           }
          ],
          "scatterpolar": [
           {
            "marker": {
             "colorbar": {
              "outlinewidth": 0,
              "ticks": ""
             }
            },
            "type": "scatterpolar"
           }
          ],
          "scatterpolargl": [
           {
            "marker": {
             "colorbar": {
              "outlinewidth": 0,
              "ticks": ""
             }
            },
            "type": "scatterpolargl"
           }
          ],
          "scatterternary": [
           {
            "marker": {
             "colorbar": {
              "outlinewidth": 0,
              "ticks": ""
             }
            },
            "type": "scatterternary"
           }
          ],
          "surface": [
           {
            "colorbar": {
             "outlinewidth": 0,
             "ticks": ""
            },
            "colorscale": [
             [
              0,
              "#0d0887"
             ],
             [
              0.1111111111111111,
              "#46039f"
             ],
             [
              0.2222222222222222,
              "#7201a8"
             ],
             [
              0.3333333333333333,
              "#9c179e"
             ],
             [
              0.4444444444444444,
              "#bd3786"
             ],
             [
              0.5555555555555556,
              "#d8576b"
             ],
             [
              0.6666666666666666,
              "#ed7953"
             ],
             [
              0.7777777777777778,
              "#fb9f3a"
             ],
             [
              0.8888888888888888,
              "#fdca26"
             ],
             [
              1,
              "#f0f921"
             ]
            ],
            "type": "surface"
           }
          ],
          "table": [
           {
            "cells": {
             "fill": {
              "color": "#EBF0F8"
             },
             "line": {
              "color": "white"
             }
            },
            "header": {
             "fill": {
              "color": "#C8D4E3"
             },
             "line": {
              "color": "white"
             }
            },
            "type": "table"
           }
          ]
         },
         "layout": {
          "annotationdefaults": {
           "arrowcolor": "#2a3f5f",
           "arrowhead": 0,
           "arrowwidth": 1
          },
          "autotypenumbers": "strict",
          "coloraxis": {
           "colorbar": {
            "outlinewidth": 0,
            "ticks": ""
           }
          },
          "colorscale": {
           "diverging": [
            [
             0,
             "#8e0152"
            ],
            [
             0.1,
             "#c51b7d"
            ],
            [
             0.2,
             "#de77ae"
            ],
            [
             0.3,
             "#f1b6da"
            ],
            [
             0.4,
             "#fde0ef"
            ],
            [
             0.5,
             "#f7f7f7"
            ],
            [
             0.6,
             "#e6f5d0"
            ],
            [
             0.7,
             "#b8e186"
            ],
            [
             0.8,
             "#7fbc41"
            ],
            [
             0.9,
             "#4d9221"
            ],
            [
             1,
             "#276419"
            ]
           ],
           "sequential": [
            [
             0,
             "#0d0887"
            ],
            [
             0.1111111111111111,
             "#46039f"
            ],
            [
             0.2222222222222222,
             "#7201a8"
            ],
            [
             0.3333333333333333,
             "#9c179e"
            ],
            [
             0.4444444444444444,
             "#bd3786"
            ],
            [
             0.5555555555555556,
             "#d8576b"
            ],
            [
             0.6666666666666666,
             "#ed7953"
            ],
            [
             0.7777777777777778,
             "#fb9f3a"
            ],
            [
             0.8888888888888888,
             "#fdca26"
            ],
            [
             1,
             "#f0f921"
            ]
           ],
           "sequentialminus": [
            [
             0,
             "#0d0887"
            ],
            [
             0.1111111111111111,
             "#46039f"
            ],
            [
             0.2222222222222222,
             "#7201a8"
            ],
            [
             0.3333333333333333,
             "#9c179e"
            ],
            [
             0.4444444444444444,
             "#bd3786"
            ],
            [
             0.5555555555555556,
             "#d8576b"
            ],
            [
             0.6666666666666666,
             "#ed7953"
            ],
            [
             0.7777777777777778,
             "#fb9f3a"
            ],
            [
             0.8888888888888888,
             "#fdca26"
            ],
            [
             1,
             "#f0f921"
            ]
           ]
          },
          "colorway": [
           "#636efa",
           "#EF553B",
           "#00cc96",
           "#ab63fa",
           "#FFA15A",
           "#19d3f3",
           "#FF6692",
           "#B6E880",
           "#FF97FF",
           "#FECB52"
          ],
          "font": {
           "color": "#2a3f5f"
          },
          "geo": {
           "bgcolor": "white",
           "lakecolor": "white",
           "landcolor": "#E5ECF6",
           "showlakes": true,
           "showland": true,
           "subunitcolor": "white"
          },
          "hoverlabel": {
           "align": "left"
          },
          "hovermode": "closest",
          "mapbox": {
           "style": "light"
          },
          "paper_bgcolor": "white",
          "plot_bgcolor": "#E5ECF6",
          "polar": {
           "angularaxis": {
            "gridcolor": "white",
            "linecolor": "white",
            "ticks": ""
           },
           "bgcolor": "#E5ECF6",
           "radialaxis": {
            "gridcolor": "white",
            "linecolor": "white",
            "ticks": ""
           }
          },
          "scene": {
           "xaxis": {
            "backgroundcolor": "#E5ECF6",
            "gridcolor": "white",
            "gridwidth": 2,
            "linecolor": "white",
            "showbackground": true,
            "ticks": "",
            "zerolinecolor": "white"
           },
           "yaxis": {
            "backgroundcolor": "#E5ECF6",
            "gridcolor": "white",
            "gridwidth": 2,
            "linecolor": "white",
            "showbackground": true,
            "ticks": "",
            "zerolinecolor": "white"
           },
           "zaxis": {
            "backgroundcolor": "#E5ECF6",
            "gridcolor": "white",
            "gridwidth": 2,
            "linecolor": "white",
            "showbackground": true,
            "ticks": "",
            "zerolinecolor": "white"
           }
          },
          "shapedefaults": {
           "line": {
            "color": "#2a3f5f"
           }
          },
          "ternary": {
           "aaxis": {
            "gridcolor": "white",
            "linecolor": "white",
            "ticks": ""
           },
           "baxis": {
            "gridcolor": "white",
            "linecolor": "white",
            "ticks": ""
           },
           "bgcolor": "#E5ECF6",
           "caxis": {
            "gridcolor": "white",
            "linecolor": "white",
            "ticks": ""
           }
          },
          "title": {
           "x": 0.05
          },
          "xaxis": {
           "automargin": true,
           "gridcolor": "white",
           "linecolor": "white",
           "ticks": "",
           "title": {
            "standoff": 15
           },
           "zerolinecolor": "white",
           "zerolinewidth": 2
          },
          "yaxis": {
           "automargin": true,
           "gridcolor": "white",
           "linecolor": "white",
           "ticks": "",
           "title": {
            "standoff": 15
           },
           "zerolinecolor": "white",
           "zerolinewidth": 2
          }
         }
        },
        "xaxis": {
         "anchor": "y",
         "domain": [
          0,
          1
         ],
         "title": {
          "text": "experiment"
         }
        },
        "yaxis": {
         "anchor": "x",
         "domain": [
          0,
          1
         ],
         "title": {
          "text": "count"
         }
        }
       }
      },
      "text/html": [
       "<div>                            <div id=\"6d5d7136-a53c-499e-810d-e7e53e59225f\" class=\"plotly-graph-div\" style=\"height:525px; width:100%;\"></div>            <script type=\"text/javascript\">                require([\"plotly\"], function(Plotly) {                    window.PLOTLYENV=window.PLOTLYENV || {};                                    if (document.getElementById(\"6d5d7136-a53c-499e-810d-e7e53e59225f\")) {                    Plotly.newPlot(                        \"6d5d7136-a53c-499e-810d-e7e53e59225f\",                        [{\"alignmentgroup\":\"True\",\"bingroup\":\"x\",\"hovertemplate\":\"experiment=%{x}<br>count=%{y}<extra></extra>\",\"legendgroup\":\"\",\"marker\":{\"color\":\"#636efa\",\"pattern\":{\"shape\":\"\"}},\"name\":\"\",\"offsetgroup\":\"\",\"orientation\":\"v\",\"showlegend\":false,\"x\":[\"exposed\",\"control\",\"control\",\"exposed\",\"exposed\",\"control\",\"control\",\"exposed\",\"exposed\",\"control\",\"control\",\"exposed\",\"control\",\"control\",\"exposed\",\"exposed\",\"control\",\"exposed\",\"exposed\",\"exposed\",\"exposed\",\"exposed\",\"control\",\"control\",\"control\",\"exposed\",\"control\",\"exposed\",\"exposed\",\"control\",\"exposed\",\"control\",\"exposed\",\"control\",\"control\",\"control\",\"exposed\",\"control\",\"control\",\"control\",\"exposed\",\"control\",\"exposed\",\"exposed\",\"exposed\",\"control\",\"exposed\",\"control\",\"exposed\",\"control\",\"control\",\"control\",\"exposed\",\"control\",\"exposed\",\"control\",\"exposed\",\"exposed\",\"control\",\"exposed\",\"control\",\"control\",\"exposed\",\"exposed\",\"control\",\"exposed\",\"control\",\"exposed\",\"exposed\",\"exposed\",\"exposed\",\"exposed\",\"control\",\"exposed\",\"control\",\"exposed\",\"control\",\"control\",\"exposed\",\"control\",\"exposed\",\"exposed\",\"exposed\",\"control\",\"exposed\",\"control\",\"control\",\"control\",\"exposed\",\"control\",\"control\",\"exposed\",\"exposed\",\"control\",\"control\",\"exposed\",\"exposed\",\"control\",\"exposed\",\"exposed\",\"exposed\",\"exposed\",\"control\",\"control\",\"exposed\",\"exposed\",\"exposed\",\"exposed\",\"control\",\"exposed\",\"control\",\"control\",\"exposed\",\"exposed\",\"exposed\",\"control\",\"control\",\"exposed\",\"exposed\",\"exposed\",\"control\",\"control\",\"exposed\",\"control\",\"control\",\"control\",\"exposed\",\"exposed\",\"exposed\",\"exposed\",\"control\",\"exposed\",\"control\",\"control\",\"exposed\",\"exposed\",\"control\",\"control\",\"control\",\"control\",\"control\",\"control\",\"exposed\",\"control\",\"control\",\"control\",\"control\",\"control\",\"control\",\"control\",\"exposed\",\"exposed\",\"exposed\",\"control\",\"exposed\",\"exposed\",\"control\",\"control\",\"exposed\",\"exposed\",\"control\",\"control\",\"exposed\",\"exposed\",\"control\",\"exposed\",\"exposed\",\"exposed\",\"exposed\",\"exposed\",\"control\",\"exposed\",\"exposed\",\"exposed\",\"control\",\"control\",\"control\",\"exposed\",\"control\",\"control\",\"exposed\",\"exposed\",\"exposed\",\"control\",\"exposed\",\"exposed\",\"control\",\"control\",\"control\",\"exposed\",\"exposed\",\"control\",\"exposed\",\"exposed\",\"exposed\",\"exposed\",\"control\",\"exposed\",\"control\",\"control\",\"control\",\"exposed\",\"control\",\"control\",\"exposed\",\"control\",\"control\",\"control\",\"control\",\"exposed\",\"exposed\",\"exposed\",\"exposed\",\"control\",\"control\",\"control\",\"control\",\"exposed\",\"exposed\",\"exposed\",\"control\",\"exposed\",\"control\",\"control\",\"control\",\"control\",\"control\",\"control\",\"control\",\"control\",\"control\",\"control\",\"exposed\",\"control\",\"control\",\"exposed\",\"control\",\"exposed\",\"exposed\",\"exposed\",\"control\",\"exposed\",\"control\",\"control\",\"control\",\"control\",\"exposed\",\"control\",\"control\",\"exposed\",\"exposed\",\"exposed\",\"exposed\",\"exposed\",\"exposed\",\"exposed\",\"exposed\",\"control\",\"exposed\",\"control\",\"control\",\"control\",\"exposed\",\"control\",\"control\",\"exposed\",\"control\",\"control\",\"exposed\",\"control\",\"exposed\",\"exposed\",\"exposed\",\"exposed\",\"control\",\"control\",\"exposed\",\"control\",\"control\",\"exposed\",\"exposed\",\"exposed\",\"exposed\",\"exposed\",\"control\",\"exposed\",\"exposed\",\"exposed\",\"control\",\"exposed\",\"control\",\"exposed\",\"exposed\",\"exposed\",\"exposed\",\"exposed\",\"exposed\",\"control\",\"control\",\"exposed\",\"exposed\",\"control\",\"exposed\",\"control\",\"control\",\"control\",\"control\",\"exposed\",\"exposed\",\"control\",\"control\",\"exposed\",\"exposed\",\"exposed\",\"exposed\",\"control\",\"control\",\"control\",\"control\",\"control\",\"exposed\",\"exposed\",\"exposed\",\"control\",\"control\",\"control\",\"exposed\",\"control\",\"exposed\",\"control\",\"exposed\",\"exposed\",\"exposed\",\"control\",\"exposed\",\"exposed\",\"control\",\"exposed\",\"exposed\",\"control\",\"exposed\",\"exposed\",\"control\",\"exposed\",\"control\",\"exposed\",\"exposed\",\"control\",\"control\",\"control\",\"exposed\",\"control\",\"control\",\"exposed\",\"control\",\"exposed\",\"exposed\",\"exposed\",\"control\",\"exposed\",\"control\",\"exposed\",\"exposed\",\"exposed\",\"exposed\",\"exposed\",\"control\",\"control\",\"control\",\"exposed\",\"control\",\"control\",\"control\",\"exposed\",\"control\",\"exposed\",\"exposed\",\"exposed\",\"exposed\",\"exposed\",\"control\",\"exposed\",\"exposed\",\"exposed\",\"exposed\",\"control\",\"exposed\",\"exposed\",\"control\",\"exposed\",\"control\",\"exposed\",\"exposed\",\"exposed\",\"exposed\",\"exposed\",\"exposed\",\"control\",\"exposed\",\"control\",\"exposed\",\"control\",\"control\",\"exposed\",\"control\",\"exposed\",\"exposed\",\"exposed\",\"control\",\"exposed\",\"exposed\",\"exposed\",\"control\",\"exposed\",\"control\",\"exposed\",\"exposed\",\"control\",\"exposed\",\"control\",\"exposed\",\"exposed\",\"exposed\",\"exposed\",\"exposed\",\"exposed\",\"exposed\",\"control\",\"control\",\"exposed\",\"exposed\",\"control\",\"control\",\"control\",\"exposed\",\"exposed\",\"exposed\",\"control\",\"exposed\",\"exposed\",\"control\",\"control\",\"control\",\"exposed\",\"exposed\",\"control\",\"exposed\",\"exposed\",\"exposed\",\"control\",\"control\",\"control\",\"exposed\",\"control\",\"exposed\",\"exposed\",\"exposed\",\"control\",\"control\",\"exposed\",\"exposed\",\"exposed\",\"exposed\",\"exposed\",\"control\",\"control\",\"control\",\"control\",\"exposed\",\"exposed\",\"exposed\",\"exposed\",\"exposed\",\"control\",\"exposed\",\"exposed\",\"exposed\",\"exposed\",\"control\",\"control\",\"exposed\",\"exposed\",\"exposed\",\"exposed\",\"control\",\"exposed\",\"exposed\",\"control\",\"control\",\"control\",\"control\",\"control\",\"control\",\"control\",\"control\",\"exposed\",\"exposed\",\"control\",\"control\",\"control\",\"exposed\",\"exposed\",\"control\",\"control\",\"control\",\"exposed\",\"exposed\",\"exposed\",\"exposed\",\"exposed\",\"control\",\"exposed\",\"exposed\",\"exposed\",\"control\",\"exposed\",\"exposed\",\"control\",\"control\",\"control\",\"exposed\",\"control\",\"exposed\",\"exposed\",\"control\",\"exposed\",\"exposed\",\"control\",\"exposed\",\"control\",\"exposed\",\"control\",\"control\",\"exposed\",\"exposed\",\"exposed\",\"control\",\"control\",\"control\",\"control\",\"exposed\",\"exposed\",\"exposed\",\"exposed\",\"exposed\",\"exposed\",\"exposed\",\"control\",\"exposed\",\"control\",\"exposed\",\"control\",\"exposed\",\"control\",\"control\",\"exposed\",\"control\",\"control\",\"exposed\",\"control\",\"control\",\"control\",\"exposed\",\"control\",\"control\",\"control\",\"exposed\",\"control\",\"exposed\",\"exposed\",\"exposed\",\"exposed\",\"exposed\",\"exposed\",\"control\",\"exposed\",\"exposed\",\"control\",\"exposed\",\"control\",\"exposed\",\"exposed\",\"control\",\"control\",\"exposed\",\"exposed\",\"exposed\",\"control\",\"exposed\",\"exposed\",\"control\",\"control\",\"exposed\",\"exposed\",\"exposed\",\"control\",\"exposed\",\"control\",\"exposed\",\"control\",\"exposed\",\"exposed\",\"exposed\",\"control\",\"control\",\"exposed\",\"exposed\",\"control\",\"exposed\",\"control\",\"control\",\"control\",\"control\",\"control\",\"control\",\"exposed\",\"control\",\"control\",\"exposed\",\"control\",\"control\",\"exposed\",\"control\",\"control\",\"exposed\",\"exposed\",\"control\",\"exposed\",\"control\",\"control\",\"exposed\",\"exposed\",\"exposed\",\"exposed\",\"exposed\",\"control\",\"control\",\"exposed\",\"control\",\"exposed\",\"control\",\"exposed\",\"exposed\",\"control\",\"control\",\"exposed\",\"exposed\",\"control\",\"exposed\",\"control\",\"control\",\"control\",\"exposed\",\"exposed\",\"exposed\",\"exposed\",\"exposed\",\"exposed\",\"exposed\",\"control\",\"exposed\",\"control\",\"control\",\"control\",\"control\",\"exposed\",\"exposed\",\"control\",\"exposed\",\"exposed\",\"exposed\",\"exposed\",\"exposed\",\"control\",\"control\",\"exposed\",\"control\",\"exposed\",\"control\",\"control\",\"control\",\"control\",\"control\",\"exposed\",\"exposed\",\"control\",\"control\",\"exposed\",\"control\",\"exposed\",\"control\",\"control\",\"exposed\",\"control\",\"control\",\"control\",\"exposed\",\"exposed\",\"control\",\"exposed\",\"exposed\",\"control\",\"exposed\",\"control\",\"exposed\",\"control\",\"control\",\"exposed\",\"control\",\"exposed\",\"exposed\",\"exposed\",\"control\",\"exposed\",\"exposed\",\"control\",\"exposed\",\"exposed\",\"exposed\",\"control\",\"control\",\"control\",\"exposed\",\"control\",\"exposed\",\"control\",\"exposed\",\"control\",\"exposed\",\"exposed\",\"control\",\"control\",\"exposed\",\"exposed\",\"exposed\",\"control\",\"exposed\",\"exposed\",\"exposed\",\"exposed\",\"exposed\",\"control\",\"exposed\",\"exposed\",\"exposed\",\"control\",\"control\",\"exposed\",\"control\",\"control\",\"control\",\"control\",\"exposed\",\"exposed\",\"exposed\",\"exposed\",\"exposed\",\"control\",\"exposed\",\"exposed\",\"exposed\",\"exposed\",\"control\",\"exposed\",\"exposed\",\"control\",\"exposed\",\"exposed\",\"control\",\"exposed\",\"exposed\",\"control\",\"control\",\"exposed\",\"control\",\"exposed\",\"exposed\",\"exposed\",\"control\",\"exposed\",\"exposed\",\"exposed\",\"control\",\"control\",\"exposed\",\"control\",\"control\",\"exposed\",\"exposed\",\"exposed\",\"control\",\"exposed\",\"control\",\"control\",\"control\",\"control\",\"control\",\"exposed\",\"control\",\"exposed\",\"control\",\"exposed\",\"control\",\"exposed\",\"exposed\",\"control\",\"exposed\",\"exposed\",\"control\",\"exposed\",\"control\",\"exposed\",\"exposed\",\"control\",\"control\",\"exposed\",\"exposed\",\"exposed\",\"exposed\",\"exposed\",\"exposed\",\"exposed\",\"exposed\",\"exposed\",\"exposed\",\"exposed\",\"control\",\"exposed\",\"exposed\",\"exposed\",\"control\",\"exposed\",\"control\",\"exposed\",\"control\",\"exposed\",\"exposed\",\"control\",\"control\",\"exposed\",\"exposed\",\"exposed\",\"control\",\"exposed\",\"control\",\"control\",\"exposed\",\"control\",\"exposed\",\"control\",\"control\",\"control\",\"exposed\",\"exposed\",\"control\",\"exposed\",\"exposed\",\"control\",\"exposed\",\"exposed\",\"control\",\"exposed\",\"control\",\"control\",\"control\",\"control\",\"control\",\"control\",\"exposed\",\"control\",\"control\",\"control\",\"control\",\"control\",\"exposed\",\"exposed\",\"exposed\",\"control\",\"exposed\",\"exposed\",\"control\",\"exposed\",\"control\",\"control\",\"exposed\",\"exposed\",\"control\",\"exposed\",\"exposed\",\"exposed\",\"control\",\"exposed\",\"control\",\"control\",\"exposed\",\"exposed\",\"control\",\"exposed\",\"control\",\"control\",\"exposed\",\"exposed\",\"exposed\",\"exposed\",\"control\",\"control\",\"exposed\",\"control\",\"exposed\",\"exposed\",\"control\",\"exposed\",\"exposed\",\"control\",\"control\",\"exposed\",\"control\",\"exposed\",\"exposed\",\"exposed\",\"exposed\",\"control\",\"control\",\"exposed\",\"exposed\",\"exposed\",\"exposed\",\"exposed\",\"control\",\"control\",\"exposed\",\"exposed\",\"exposed\",\"control\",\"exposed\",\"exposed\",\"exposed\",\"exposed\",\"exposed\",\"control\",\"control\",\"exposed\",\"exposed\",\"exposed\",\"control\",\"control\",\"exposed\",\"control\",\"exposed\",\"control\",\"control\",\"control\",\"exposed\",\"exposed\",\"exposed\",\"exposed\",\"exposed\",\"control\",\"control\",\"control\",\"control\",\"exposed\",\"exposed\",\"control\",\"control\",\"exposed\",\"exposed\",\"control\",\"exposed\",\"control\",\"exposed\",\"exposed\",\"exposed\",\"control\",\"control\",\"exposed\",\"exposed\",\"control\",\"control\",\"exposed\",\"control\",\"exposed\",\"exposed\",\"exposed\",\"control\",\"exposed\",\"exposed\",\"control\",\"control\",\"exposed\",\"exposed\",\"exposed\",\"control\",\"control\",\"control\",\"control\",\"control\",\"control\",\"exposed\",\"exposed\",\"exposed\",\"control\",\"exposed\",\"exposed\",\"control\",\"control\",\"control\",\"exposed\",\"control\",\"exposed\",\"exposed\",\"control\",\"control\",\"control\",\"control\",\"exposed\",\"exposed\",\"control\",\"exposed\",\"exposed\",\"exposed\",\"exposed\",\"exposed\",\"exposed\",\"exposed\",\"exposed\",\"exposed\",\"control\",\"exposed\",\"exposed\",\"exposed\",\"control\",\"exposed\",\"control\",\"exposed\",\"control\",\"control\",\"exposed\",\"exposed\",\"control\",\"exposed\",\"control\",\"control\",\"control\",\"control\",\"control\",\"exposed\",\"control\",\"control\",\"control\",\"exposed\",\"control\",\"exposed\",\"exposed\",\"exposed\",\"control\",\"exposed\",\"control\",\"exposed\",\"exposed\",\"control\",\"exposed\",\"control\",\"exposed\",\"exposed\",\"exposed\",\"control\",\"control\",\"control\",\"control\",\"control\",\"control\",\"exposed\",\"exposed\",\"exposed\",\"exposed\",\"exposed\",\"control\",\"control\",\"control\",\"control\",\"control\",\"control\",\"control\",\"control\",\"control\",\"control\",\"control\",\"control\",\"exposed\",\"exposed\",\"exposed\",\"control\",\"control\",\"exposed\",\"control\",\"control\",\"control\",\"control\",\"control\",\"control\",\"control\",\"exposed\",\"exposed\",\"control\",\"control\",\"control\",\"exposed\",\"exposed\",\"exposed\",\"control\",\"control\",\"control\",\"exposed\",\"control\",\"control\",\"control\",\"control\",\"control\",\"exposed\",\"exposed\",\"control\",\"exposed\",\"control\",\"exposed\",\"exposed\",\"control\",\"control\",\"control\",\"control\",\"control\",\"control\",\"control\",\"exposed\",\"exposed\",\"exposed\",\"exposed\",\"control\",\"control\",\"control\",\"exposed\",\"control\",\"control\",\"exposed\",\"exposed\",\"control\",\"control\",\"control\",\"exposed\",\"exposed\",\"control\",\"control\",\"exposed\",\"control\",\"exposed\",\"control\",\"control\",\"exposed\",\"exposed\",\"exposed\",\"control\",\"control\",\"control\",\"exposed\",\"exposed\",\"control\",\"control\",\"control\",\"control\",\"control\",\"control\",\"exposed\",\"exposed\",\"exposed\",\"exposed\",\"exposed\",\"control\",\"exposed\",\"control\",\"exposed\",\"control\",\"exposed\",\"control\",\"control\",\"exposed\",\"exposed\",\"control\",\"exposed\",\"exposed\",\"exposed\",\"control\",\"control\",\"exposed\",\"exposed\",\"control\",\"exposed\",\"exposed\",\"exposed\",\"exposed\",\"exposed\",\"control\",\"exposed\",\"exposed\",\"control\",\"control\",\"control\",\"control\",\"exposed\",\"control\",\"control\",\"exposed\",\"exposed\",\"control\",\"exposed\",\"control\",\"exposed\",\"exposed\",\"control\",\"control\",\"exposed\",\"control\",\"control\",\"exposed\",\"control\",\"control\",\"exposed\",\"exposed\",\"exposed\",\"exposed\",\"control\",\"exposed\",\"control\",\"exposed\",\"control\",\"control\",\"control\",\"control\",\"control\",\"exposed\",\"exposed\",\"control\",\"control\",\"exposed\"],\"xaxis\":\"x\",\"yaxis\":\"y\",\"type\":\"histogram\"}],                        {\"template\":{\"data\":{\"histogram2dcontour\":[{\"type\":\"histogram2dcontour\",\"colorbar\":{\"outlinewidth\":0,\"ticks\":\"\"},\"colorscale\":[[0.0,\"#0d0887\"],[0.1111111111111111,\"#46039f\"],[0.2222222222222222,\"#7201a8\"],[0.3333333333333333,\"#9c179e\"],[0.4444444444444444,\"#bd3786\"],[0.5555555555555556,\"#d8576b\"],[0.6666666666666666,\"#ed7953\"],[0.7777777777777778,\"#fb9f3a\"],[0.8888888888888888,\"#fdca26\"],[1.0,\"#f0f921\"]]}],\"choropleth\":[{\"type\":\"choropleth\",\"colorbar\":{\"outlinewidth\":0,\"ticks\":\"\"}}],\"histogram2d\":[{\"type\":\"histogram2d\",\"colorbar\":{\"outlinewidth\":0,\"ticks\":\"\"},\"colorscale\":[[0.0,\"#0d0887\"],[0.1111111111111111,\"#46039f\"],[0.2222222222222222,\"#7201a8\"],[0.3333333333333333,\"#9c179e\"],[0.4444444444444444,\"#bd3786\"],[0.5555555555555556,\"#d8576b\"],[0.6666666666666666,\"#ed7953\"],[0.7777777777777778,\"#fb9f3a\"],[0.8888888888888888,\"#fdca26\"],[1.0,\"#f0f921\"]]}],\"heatmap\":[{\"type\":\"heatmap\",\"colorbar\":{\"outlinewidth\":0,\"ticks\":\"\"},\"colorscale\":[[0.0,\"#0d0887\"],[0.1111111111111111,\"#46039f\"],[0.2222222222222222,\"#7201a8\"],[0.3333333333333333,\"#9c179e\"],[0.4444444444444444,\"#bd3786\"],[0.5555555555555556,\"#d8576b\"],[0.6666666666666666,\"#ed7953\"],[0.7777777777777778,\"#fb9f3a\"],[0.8888888888888888,\"#fdca26\"],[1.0,\"#f0f921\"]]}],\"heatmapgl\":[{\"type\":\"heatmapgl\",\"colorbar\":{\"outlinewidth\":0,\"ticks\":\"\"},\"colorscale\":[[0.0,\"#0d0887\"],[0.1111111111111111,\"#46039f\"],[0.2222222222222222,\"#7201a8\"],[0.3333333333333333,\"#9c179e\"],[0.4444444444444444,\"#bd3786\"],[0.5555555555555556,\"#d8576b\"],[0.6666666666666666,\"#ed7953\"],[0.7777777777777778,\"#fb9f3a\"],[0.8888888888888888,\"#fdca26\"],[1.0,\"#f0f921\"]]}],\"contourcarpet\":[{\"type\":\"contourcarpet\",\"colorbar\":{\"outlinewidth\":0,\"ticks\":\"\"}}],\"contour\":[{\"type\":\"contour\",\"colorbar\":{\"outlinewidth\":0,\"ticks\":\"\"},\"colorscale\":[[0.0,\"#0d0887\"],[0.1111111111111111,\"#46039f\"],[0.2222222222222222,\"#7201a8\"],[0.3333333333333333,\"#9c179e\"],[0.4444444444444444,\"#bd3786\"],[0.5555555555555556,\"#d8576b\"],[0.6666666666666666,\"#ed7953\"],[0.7777777777777778,\"#fb9f3a\"],[0.8888888888888888,\"#fdca26\"],[1.0,\"#f0f921\"]]}],\"surface\":[{\"type\":\"surface\",\"colorbar\":{\"outlinewidth\":0,\"ticks\":\"\"},\"colorscale\":[[0.0,\"#0d0887\"],[0.1111111111111111,\"#46039f\"],[0.2222222222222222,\"#7201a8\"],[0.3333333333333333,\"#9c179e\"],[0.4444444444444444,\"#bd3786\"],[0.5555555555555556,\"#d8576b\"],[0.6666666666666666,\"#ed7953\"],[0.7777777777777778,\"#fb9f3a\"],[0.8888888888888888,\"#fdca26\"],[1.0,\"#f0f921\"]]}],\"mesh3d\":[{\"type\":\"mesh3d\",\"colorbar\":{\"outlinewidth\":0,\"ticks\":\"\"}}],\"scatter\":[{\"fillpattern\":{\"fillmode\":\"overlay\",\"size\":10,\"solidity\":0.2},\"type\":\"scatter\"}],\"parcoords\":[{\"type\":\"parcoords\",\"line\":{\"colorbar\":{\"outlinewidth\":0,\"ticks\":\"\"}}}],\"scatterpolargl\":[{\"type\":\"scatterpolargl\",\"marker\":{\"colorbar\":{\"outlinewidth\":0,\"ticks\":\"\"}}}],\"bar\":[{\"error_x\":{\"color\":\"#2a3f5f\"},\"error_y\":{\"color\":\"#2a3f5f\"},\"marker\":{\"line\":{\"color\":\"#E5ECF6\",\"width\":0.5},\"pattern\":{\"fillmode\":\"overlay\",\"size\":10,\"solidity\":0.2}},\"type\":\"bar\"}],\"scattergeo\":[{\"type\":\"scattergeo\",\"marker\":{\"colorbar\":{\"outlinewidth\":0,\"ticks\":\"\"}}}],\"scatterpolar\":[{\"type\":\"scatterpolar\",\"marker\":{\"colorbar\":{\"outlinewidth\":0,\"ticks\":\"\"}}}],\"histogram\":[{\"marker\":{\"pattern\":{\"fillmode\":\"overlay\",\"size\":10,\"solidity\":0.2}},\"type\":\"histogram\"}],\"scattergl\":[{\"type\":\"scattergl\",\"marker\":{\"colorbar\":{\"outlinewidth\":0,\"ticks\":\"\"}}}],\"scatter3d\":[{\"type\":\"scatter3d\",\"line\":{\"colorbar\":{\"outlinewidth\":0,\"ticks\":\"\"}},\"marker\":{\"colorbar\":{\"outlinewidth\":0,\"ticks\":\"\"}}}],\"scattermapbox\":[{\"type\":\"scattermapbox\",\"marker\":{\"colorbar\":{\"outlinewidth\":0,\"ticks\":\"\"}}}],\"scatterternary\":[{\"type\":\"scatterternary\",\"marker\":{\"colorbar\":{\"outlinewidth\":0,\"ticks\":\"\"}}}],\"scattercarpet\":[{\"type\":\"scattercarpet\",\"marker\":{\"colorbar\":{\"outlinewidth\":0,\"ticks\":\"\"}}}],\"carpet\":[{\"aaxis\":{\"endlinecolor\":\"#2a3f5f\",\"gridcolor\":\"white\",\"linecolor\":\"white\",\"minorgridcolor\":\"white\",\"startlinecolor\":\"#2a3f5f\"},\"baxis\":{\"endlinecolor\":\"#2a3f5f\",\"gridcolor\":\"white\",\"linecolor\":\"white\",\"minorgridcolor\":\"white\",\"startlinecolor\":\"#2a3f5f\"},\"type\":\"carpet\"}],\"table\":[{\"cells\":{\"fill\":{\"color\":\"#EBF0F8\"},\"line\":{\"color\":\"white\"}},\"header\":{\"fill\":{\"color\":\"#C8D4E3\"},\"line\":{\"color\":\"white\"}},\"type\":\"table\"}],\"barpolar\":[{\"marker\":{\"line\":{\"color\":\"#E5ECF6\",\"width\":0.5},\"pattern\":{\"fillmode\":\"overlay\",\"size\":10,\"solidity\":0.2}},\"type\":\"barpolar\"}],\"pie\":[{\"automargin\":true,\"type\":\"pie\"}]},\"layout\":{\"autotypenumbers\":\"strict\",\"colorway\":[\"#636efa\",\"#EF553B\",\"#00cc96\",\"#ab63fa\",\"#FFA15A\",\"#19d3f3\",\"#FF6692\",\"#B6E880\",\"#FF97FF\",\"#FECB52\"],\"font\":{\"color\":\"#2a3f5f\"},\"hovermode\":\"closest\",\"hoverlabel\":{\"align\":\"left\"},\"paper_bgcolor\":\"white\",\"plot_bgcolor\":\"#E5ECF6\",\"polar\":{\"bgcolor\":\"#E5ECF6\",\"angularaxis\":{\"gridcolor\":\"white\",\"linecolor\":\"white\",\"ticks\":\"\"},\"radialaxis\":{\"gridcolor\":\"white\",\"linecolor\":\"white\",\"ticks\":\"\"}},\"ternary\":{\"bgcolor\":\"#E5ECF6\",\"aaxis\":{\"gridcolor\":\"white\",\"linecolor\":\"white\",\"ticks\":\"\"},\"baxis\":{\"gridcolor\":\"white\",\"linecolor\":\"white\",\"ticks\":\"\"},\"caxis\":{\"gridcolor\":\"white\",\"linecolor\":\"white\",\"ticks\":\"\"}},\"coloraxis\":{\"colorbar\":{\"outlinewidth\":0,\"ticks\":\"\"}},\"colorscale\":{\"sequential\":[[0.0,\"#0d0887\"],[0.1111111111111111,\"#46039f\"],[0.2222222222222222,\"#7201a8\"],[0.3333333333333333,\"#9c179e\"],[0.4444444444444444,\"#bd3786\"],[0.5555555555555556,\"#d8576b\"],[0.6666666666666666,\"#ed7953\"],[0.7777777777777778,\"#fb9f3a\"],[0.8888888888888888,\"#fdca26\"],[1.0,\"#f0f921\"]],\"sequentialminus\":[[0.0,\"#0d0887\"],[0.1111111111111111,\"#46039f\"],[0.2222222222222222,\"#7201a8\"],[0.3333333333333333,\"#9c179e\"],[0.4444444444444444,\"#bd3786\"],[0.5555555555555556,\"#d8576b\"],[0.6666666666666666,\"#ed7953\"],[0.7777777777777778,\"#fb9f3a\"],[0.8888888888888888,\"#fdca26\"],[1.0,\"#f0f921\"]],\"diverging\":[[0,\"#8e0152\"],[0.1,\"#c51b7d\"],[0.2,\"#de77ae\"],[0.3,\"#f1b6da\"],[0.4,\"#fde0ef\"],[0.5,\"#f7f7f7\"],[0.6,\"#e6f5d0\"],[0.7,\"#b8e186\"],[0.8,\"#7fbc41\"],[0.9,\"#4d9221\"],[1,\"#276419\"]]},\"xaxis\":{\"gridcolor\":\"white\",\"linecolor\":\"white\",\"ticks\":\"\",\"title\":{\"standoff\":15},\"zerolinecolor\":\"white\",\"automargin\":true,\"zerolinewidth\":2},\"yaxis\":{\"gridcolor\":\"white\",\"linecolor\":\"white\",\"ticks\":\"\",\"title\":{\"standoff\":15},\"zerolinecolor\":\"white\",\"automargin\":true,\"zerolinewidth\":2},\"scene\":{\"xaxis\":{\"backgroundcolor\":\"#E5ECF6\",\"gridcolor\":\"white\",\"linecolor\":\"white\",\"showbackground\":true,\"ticks\":\"\",\"zerolinecolor\":\"white\",\"gridwidth\":2},\"yaxis\":{\"backgroundcolor\":\"#E5ECF6\",\"gridcolor\":\"white\",\"linecolor\":\"white\",\"showbackground\":true,\"ticks\":\"\",\"zerolinecolor\":\"white\",\"gridwidth\":2},\"zaxis\":{\"backgroundcolor\":\"#E5ECF6\",\"gridcolor\":\"white\",\"linecolor\":\"white\",\"showbackground\":true,\"ticks\":\"\",\"zerolinecolor\":\"white\",\"gridwidth\":2}},\"shapedefaults\":{\"line\":{\"color\":\"#2a3f5f\"}},\"annotationdefaults\":{\"arrowcolor\":\"#2a3f5f\",\"arrowhead\":0,\"arrowwidth\":1},\"geo\":{\"bgcolor\":\"white\",\"landcolor\":\"#E5ECF6\",\"subunitcolor\":\"white\",\"showland\":true,\"showlakes\":true,\"lakecolor\":\"white\"},\"title\":{\"x\":0.05},\"mapbox\":{\"style\":\"light\"}}},\"xaxis\":{\"anchor\":\"y\",\"domain\":[0.0,1.0],\"title\":{\"text\":\"experiment\"}},\"yaxis\":{\"anchor\":\"x\",\"domain\":[0.0,1.0],\"title\":{\"text\":\"count\"}},\"legend\":{\"tracegroupgap\":0},\"margin\":{\"t\":60},\"barmode\":\"relative\"},                        {\"responsive\": true}                    ).then(function(){\n",
       "                            \n",
       "var gd = document.getElementById('6d5d7136-a53c-499e-810d-e7e53e59225f');\n",
       "var x = new MutationObserver(function (mutations, observer) {{\n",
       "        var display = window.getComputedStyle(gd).display;\n",
       "        if (!display || display === 'none') {{\n",
       "            console.log([gd, 'removed!']);\n",
       "            Plotly.purge(gd);\n",
       "            observer.disconnect();\n",
       "        }}\n",
       "}});\n",
       "\n",
       "// Listen for the removal of the full notebook cells\n",
       "var notebookContainer = gd.closest('#notebook-container');\n",
       "if (notebookContainer) {{\n",
       "    x.observe(notebookContainer, {childList: true});\n",
       "}}\n",
       "\n",
       "// Listen for the clearing of the current output cell\n",
       "var outputEl = gd.closest('.output');\n",
       "if (outputEl) {{\n",
       "    x.observe(outputEl, {childList: true});\n",
       "}}\n",
       "\n",
       "                        })                };                });            </script>        </div>"
      ]
     },
     "metadata": {},
     "output_type": "display_data"
    }
   ],
   "source": [
    "fig = px.histogram(response, x=\"experiment\")\n",
    "fig.show()"
   ]
  },
  {
   "cell_type": "code",
   "execution_count": 32,
   "id": "b03cd62e",
   "metadata": {},
   "outputs": [
    {
     "data": {
      "text/html": [
       "<div>\n",
       "<style scoped>\n",
       "    .dataframe tbody tr th:only-of-type {\n",
       "        vertical-align: middle;\n",
       "    }\n",
       "\n",
       "    .dataframe tbody tr th {\n",
       "        vertical-align: top;\n",
       "    }\n",
       "\n",
       "    .dataframe thead th {\n",
       "        text-align: right;\n",
       "    }\n",
       "</style>\n",
       "<table border=\"1\" class=\"dataframe\">\n",
       "  <thead>\n",
       "    <tr style=\"text-align: right;\">\n",
       "      <th></th>\n",
       "      <th>date</th>\n",
       "      <th>count</th>\n",
       "    </tr>\n",
       "  </thead>\n",
       "  <tbody>\n",
       "    <tr>\n",
       "      <th>0</th>\n",
       "      <td>2020-07-03</td>\n",
       "      <td>325</td>\n",
       "    </tr>\n",
       "    <tr>\n",
       "      <th>1</th>\n",
       "      <td>2020-07-04</td>\n",
       "      <td>159</td>\n",
       "    </tr>\n",
       "    <tr>\n",
       "      <th>2</th>\n",
       "      <td>2020-07-05</td>\n",
       "      <td>117</td>\n",
       "    </tr>\n",
       "    <tr>\n",
       "      <th>3</th>\n",
       "      <td>2020-07-06</td>\n",
       "      <td>74</td>\n",
       "    </tr>\n",
       "    <tr>\n",
       "      <th>4</th>\n",
       "      <td>2020-07-07</td>\n",
       "      <td>83</td>\n",
       "    </tr>\n",
       "    <tr>\n",
       "      <th>5</th>\n",
       "      <td>2020-07-08</td>\n",
       "      <td>177</td>\n",
       "    </tr>\n",
       "    <tr>\n",
       "      <th>6</th>\n",
       "      <td>2020-07-09</td>\n",
       "      <td>184</td>\n",
       "    </tr>\n",
       "    <tr>\n",
       "      <th>7</th>\n",
       "      <td>2020-07-10</td>\n",
       "      <td>124</td>\n",
       "    </tr>\n",
       "  </tbody>\n",
       "</table>\n",
       "</div>"
      ],
      "text/plain": [
       "         date  count\n",
       "0  2020-07-03    325\n",
       "1  2020-07-04    159\n",
       "2  2020-07-05    117\n",
       "3  2020-07-06     74\n",
       "4  2020-07-07     83\n",
       "5  2020-07-08    177\n",
       "6  2020-07-09    184\n",
       "7  2020-07-10    124"
      ]
     },
     "execution_count": 32,
     "metadata": {},
     "output_type": "execute_result"
    }
   ],
   "source": [
    "date_data = response.groupby(['date']).agg({'date': ['count']})\n",
    "date_data.columns = ['count']\n",
    "date_data = date_data.reset_index()\n",
    "date_data"
   ]
  },
  {
   "cell_type": "code",
   "execution_count": 29,
   "id": "6cdbb0c9",
   "metadata": {},
   "outputs": [
    {
     "data": {
      "application/vnd.plotly.v1+json": {
       "config": {
        "plotlyServerURL": "https://plot.ly"
       },
       "data": [
        {
         "alignmentgroup": "True",
         "bingroup": "x",
         "hovertemplate": "date=%{x}<br>count=%{y}<extra></extra>",
         "legendgroup": "",
         "marker": {
          "color": "#636efa",
          "pattern": {
           "shape": ""
          }
         },
         "name": "",
         "offsetgroup": "",
         "orientation": "v",
         "showlegend": false,
         "type": "histogram",
         "x": [
          "2020-07-04",
          "2020-07-08",
          "2020-07-03",
          "2020-07-09",
          "2020-07-05",
          "2020-07-04",
          "2020-07-09",
          "2020-07-04",
          "2020-07-05",
          "2020-07-07",
          "2020-07-03",
          "2020-07-09",
          "2020-07-08",
          "2020-07-04",
          "2020-07-08",
          "2020-07-08",
          "2020-07-03",
          "2020-07-10",
          "2020-07-08",
          "2020-07-08",
          "2020-07-08",
          "2020-07-05",
          "2020-07-05",
          "2020-07-08",
          "2020-07-03",
          "2020-07-08",
          "2020-07-03",
          "2020-07-04",
          "2020-07-05",
          "2020-07-03",
          "2020-07-08",
          "2020-07-03",
          "2020-07-09",
          "2020-07-03",
          "2020-07-05",
          "2020-07-09",
          "2020-07-09",
          "2020-07-08",
          "2020-07-07",
          "2020-07-10",
          "2020-07-03",
          "2020-07-03",
          "2020-07-03",
          "2020-07-08",
          "2020-07-10",
          "2020-07-03",
          "2020-07-09",
          "2020-07-03",
          "2020-07-04",
          "2020-07-10",
          "2020-07-03",
          "2020-07-03",
          "2020-07-04",
          "2020-07-03",
          "2020-07-10",
          "2020-07-03",
          "2020-07-06",
          "2020-07-08",
          "2020-07-06",
          "2020-07-07",
          "2020-07-08",
          "2020-07-03",
          "2020-07-04",
          "2020-07-09",
          "2020-07-03",
          "2020-07-07",
          "2020-07-05",
          "2020-07-09",
          "2020-07-04",
          "2020-07-04",
          "2020-07-10",
          "2020-07-06",
          "2020-07-04",
          "2020-07-03",
          "2020-07-03",
          "2020-07-04",
          "2020-07-03",
          "2020-07-10",
          "2020-07-05",
          "2020-07-10",
          "2020-07-09",
          "2020-07-09",
          "2020-07-04",
          "2020-07-03",
          "2020-07-09",
          "2020-07-03",
          "2020-07-03",
          "2020-07-07",
          "2020-07-08",
          "2020-07-09",
          "2020-07-09",
          "2020-07-10",
          "2020-07-08",
          "2020-07-10",
          "2020-07-06",
          "2020-07-09",
          "2020-07-09",
          "2020-07-03",
          "2020-07-03",
          "2020-07-04",
          "2020-07-06",
          "2020-07-08",
          "2020-07-03",
          "2020-07-03",
          "2020-07-05",
          "2020-07-08",
          "2020-07-09",
          "2020-07-09",
          "2020-07-04",
          "2020-07-08",
          "2020-07-03",
          "2020-07-10",
          "2020-07-05",
          "2020-07-04",
          "2020-07-03",
          "2020-07-03",
          "2020-07-10",
          "2020-07-10",
          "2020-07-06",
          "2020-07-09",
          "2020-07-03",
          "2020-07-05",
          "2020-07-10",
          "2020-07-03",
          "2020-07-03",
          "2020-07-04",
          "2020-07-04",
          "2020-07-09",
          "2020-07-09",
          "2020-07-08",
          "2020-07-04",
          "2020-07-09",
          "2020-07-09",
          "2020-07-03",
          "2020-07-09",
          "2020-07-04",
          "2020-07-10",
          "2020-07-07",
          "2020-07-10",
          "2020-07-07",
          "2020-07-08",
          "2020-07-10",
          "2020-07-03",
          "2020-07-03",
          "2020-07-03",
          "2020-07-10",
          "2020-07-03",
          "2020-07-08",
          "2020-07-03",
          "2020-07-03",
          "2020-07-05",
          "2020-07-08",
          "2020-07-05",
          "2020-07-10",
          "2020-07-03",
          "2020-07-03",
          "2020-07-08",
          "2020-07-07",
          "2020-07-03",
          "2020-07-08",
          "2020-07-10",
          "2020-07-08",
          "2020-07-07",
          "2020-07-09",
          "2020-07-03",
          "2020-07-05",
          "2020-07-06",
          "2020-07-06",
          "2020-07-06",
          "2020-07-03",
          "2020-07-03",
          "2020-07-05",
          "2020-07-05",
          "2020-07-04",
          "2020-07-09",
          "2020-07-03",
          "2020-07-03",
          "2020-07-08",
          "2020-07-05",
          "2020-07-03",
          "2020-07-09",
          "2020-07-08",
          "2020-07-08",
          "2020-07-03",
          "2020-07-07",
          "2020-07-07",
          "2020-07-03",
          "2020-07-08",
          "2020-07-03",
          "2020-07-03",
          "2020-07-10",
          "2020-07-03",
          "2020-07-03",
          "2020-07-04",
          "2020-07-04",
          "2020-07-04",
          "2020-07-04",
          "2020-07-09",
          "2020-07-07",
          "2020-07-09",
          "2020-07-03",
          "2020-07-03",
          "2020-07-04",
          "2020-07-03",
          "2020-07-05",
          "2020-07-04",
          "2020-07-09",
          "2020-07-03",
          "2020-07-03",
          "2020-07-05",
          "2020-07-08",
          "2020-07-06",
          "2020-07-08",
          "2020-07-04",
          "2020-07-03",
          "2020-07-04",
          "2020-07-03",
          "2020-07-06",
          "2020-07-05",
          "2020-07-04",
          "2020-07-04",
          "2020-07-08",
          "2020-07-03",
          "2020-07-05",
          "2020-07-04",
          "2020-07-07",
          "2020-07-03",
          "2020-07-10",
          "2020-07-09",
          "2020-07-05",
          "2020-07-03",
          "2020-07-03",
          "2020-07-06",
          "2020-07-04",
          "2020-07-06",
          "2020-07-04",
          "2020-07-10",
          "2020-07-10",
          "2020-07-03",
          "2020-07-09",
          "2020-07-03",
          "2020-07-09",
          "2020-07-05",
          "2020-07-09",
          "2020-07-06",
          "2020-07-03",
          "2020-07-05",
          "2020-07-10",
          "2020-07-06",
          "2020-07-04",
          "2020-07-07",
          "2020-07-03",
          "2020-07-05",
          "2020-07-03",
          "2020-07-09",
          "2020-07-03",
          "2020-07-03",
          "2020-07-04",
          "2020-07-08",
          "2020-07-09",
          "2020-07-08",
          "2020-07-08",
          "2020-07-07",
          "2020-07-10",
          "2020-07-05",
          "2020-07-04",
          "2020-07-08",
          "2020-07-03",
          "2020-07-05",
          "2020-07-08",
          "2020-07-06",
          "2020-07-10",
          "2020-07-03",
          "2020-07-08",
          "2020-07-04",
          "2020-07-09",
          "2020-07-10",
          "2020-07-08",
          "2020-07-03",
          "2020-07-05",
          "2020-07-10",
          "2020-07-06",
          "2020-07-03",
          "2020-07-09",
          "2020-07-05",
          "2020-07-04",
          "2020-07-08",
          "2020-07-08",
          "2020-07-09",
          "2020-07-08",
          "2020-07-03",
          "2020-07-03",
          "2020-07-09",
          "2020-07-10",
          "2020-07-08",
          "2020-07-08",
          "2020-07-03",
          "2020-07-03",
          "2020-07-03",
          "2020-07-07",
          "2020-07-07",
          "2020-07-09",
          "2020-07-10",
          "2020-07-09",
          "2020-07-10",
          "2020-07-09",
          "2020-07-05",
          "2020-07-07",
          "2020-07-04",
          "2020-07-04",
          "2020-07-09",
          "2020-07-04",
          "2020-07-08",
          "2020-07-07",
          "2020-07-04",
          "2020-07-04",
          "2020-07-10",
          "2020-07-03",
          "2020-07-03",
          "2020-07-09",
          "2020-07-08",
          "2020-07-08",
          "2020-07-08",
          "2020-07-06",
          "2020-07-05",
          "2020-07-03",
          "2020-07-04",
          "2020-07-07",
          "2020-07-08",
          "2020-07-03",
          "2020-07-04",
          "2020-07-09",
          "2020-07-05",
          "2020-07-04",
          "2020-07-06",
          "2020-07-08",
          "2020-07-03",
          "2020-07-03",
          "2020-07-08",
          "2020-07-10",
          "2020-07-09",
          "2020-07-08",
          "2020-07-06",
          "2020-07-10",
          "2020-07-03",
          "2020-07-07",
          "2020-07-04",
          "2020-07-10",
          "2020-07-09",
          "2020-07-04",
          "2020-07-04",
          "2020-07-03",
          "2020-07-03",
          "2020-07-08",
          "2020-07-09",
          "2020-07-03",
          "2020-07-10",
          "2020-07-09",
          "2020-07-10",
          "2020-07-09",
          "2020-07-05",
          "2020-07-05",
          "2020-07-10",
          "2020-07-08",
          "2020-07-08",
          "2020-07-08",
          "2020-07-09",
          "2020-07-08",
          "2020-07-03",
          "2020-07-09",
          "2020-07-07",
          "2020-07-10",
          "2020-07-05",
          "2020-07-08",
          "2020-07-03",
          "2020-07-08",
          "2020-07-07",
          "2020-07-05",
          "2020-07-04",
          "2020-07-03",
          "2020-07-09",
          "2020-07-08",
          "2020-07-04",
          "2020-07-03",
          "2020-07-08",
          "2020-07-03",
          "2020-07-09",
          "2020-07-03",
          "2020-07-06",
          "2020-07-08",
          "2020-07-03",
          "2020-07-03",
          "2020-07-05",
          "2020-07-10",
          "2020-07-09",
          "2020-07-05",
          "2020-07-08",
          "2020-07-08",
          "2020-07-07",
          "2020-07-04",
          "2020-07-10",
          "2020-07-07",
          "2020-07-09",
          "2020-07-03",
          "2020-07-05",
          "2020-07-10",
          "2020-07-08",
          "2020-07-09",
          "2020-07-03",
          "2020-07-05",
          "2020-07-06",
          "2020-07-04",
          "2020-07-03",
          "2020-07-08",
          "2020-07-04",
          "2020-07-06",
          "2020-07-04",
          "2020-07-09",
          "2020-07-07",
          "2020-07-04",
          "2020-07-09",
          "2020-07-03",
          "2020-07-04",
          "2020-07-08",
          "2020-07-03",
          "2020-07-03",
          "2020-07-04",
          "2020-07-03",
          "2020-07-07",
          "2020-07-09",
          "2020-07-04",
          "2020-07-03",
          "2020-07-08",
          "2020-07-09",
          "2020-07-07",
          "2020-07-10",
          "2020-07-08",
          "2020-07-07",
          "2020-07-05",
          "2020-07-03",
          "2020-07-06",
          "2020-07-08",
          "2020-07-09",
          "2020-07-07",
          "2020-07-09",
          "2020-07-10",
          "2020-07-08",
          "2020-07-06",
          "2020-07-03",
          "2020-07-03",
          "2020-07-08",
          "2020-07-08",
          "2020-07-04",
          "2020-07-05",
          "2020-07-09",
          "2020-07-06",
          "2020-07-09",
          "2020-07-09",
          "2020-07-03",
          "2020-07-05",
          "2020-07-09",
          "2020-07-03",
          "2020-07-09",
          "2020-07-08",
          "2020-07-05",
          "2020-07-04",
          "2020-07-07",
          "2020-07-03",
          "2020-07-03",
          "2020-07-06",
          "2020-07-03",
          "2020-07-04",
          "2020-07-05",
          "2020-07-03",
          "2020-07-07",
          "2020-07-03",
          "2020-07-06",
          "2020-07-05",
          "2020-07-03",
          "2020-07-09",
          "2020-07-07",
          "2020-07-07",
          "2020-07-08",
          "2020-07-03",
          "2020-07-08",
          "2020-07-04",
          "2020-07-06",
          "2020-07-04",
          "2020-07-03",
          "2020-07-04",
          "2020-07-08",
          "2020-07-03",
          "2020-07-09",
          "2020-07-08",
          "2020-07-04",
          "2020-07-05",
          "2020-07-09",
          "2020-07-08",
          "2020-07-10",
          "2020-07-03",
          "2020-07-04",
          "2020-07-08",
          "2020-07-09",
          "2020-07-07",
          "2020-07-04",
          "2020-07-09",
          "2020-07-08",
          "2020-07-09",
          "2020-07-03",
          "2020-07-09",
          "2020-07-03",
          "2020-07-05",
          "2020-07-10",
          "2020-07-10",
          "2020-07-07",
          "2020-07-03",
          "2020-07-06",
          "2020-07-06",
          "2020-07-04",
          "2020-07-03",
          "2020-07-06",
          "2020-07-03",
          "2020-07-10",
          "2020-07-05",
          "2020-07-03",
          "2020-07-09",
          "2020-07-10",
          "2020-07-08",
          "2020-07-09",
          "2020-07-03",
          "2020-07-09",
          "2020-07-03",
          "2020-07-08",
          "2020-07-07",
          "2020-07-04",
          "2020-07-09",
          "2020-07-03",
          "2020-07-03",
          "2020-07-04",
          "2020-07-03",
          "2020-07-07",
          "2020-07-09",
          "2020-07-09",
          "2020-07-08",
          "2020-07-09",
          "2020-07-04",
          "2020-07-03",
          "2020-07-03",
          "2020-07-03",
          "2020-07-06",
          "2020-07-05",
          "2020-07-10",
          "2020-07-06",
          "2020-07-03",
          "2020-07-03",
          "2020-07-05",
          "2020-07-06",
          "2020-07-03",
          "2020-07-04",
          "2020-07-03",
          "2020-07-03",
          "2020-07-10",
          "2020-07-04",
          "2020-07-03",
          "2020-07-03",
          "2020-07-03",
          "2020-07-09",
          "2020-07-10",
          "2020-07-09",
          "2020-07-10",
          "2020-07-05",
          "2020-07-04",
          "2020-07-05",
          "2020-07-06",
          "2020-07-03",
          "2020-07-10",
          "2020-07-05",
          "2020-07-03",
          "2020-07-03",
          "2020-07-03",
          "2020-07-09",
          "2020-07-08",
          "2020-07-06",
          "2020-07-03",
          "2020-07-09",
          "2020-07-05",
          "2020-07-10",
          "2020-07-03",
          "2020-07-05",
          "2020-07-09",
          "2020-07-08",
          "2020-07-05",
          "2020-07-05",
          "2020-07-07",
          "2020-07-09",
          "2020-07-03",
          "2020-07-04",
          "2020-07-03",
          "2020-07-08",
          "2020-07-06",
          "2020-07-08",
          "2020-07-10",
          "2020-07-10",
          "2020-07-03",
          "2020-07-09",
          "2020-07-09",
          "2020-07-09",
          "2020-07-03",
          "2020-07-09",
          "2020-07-03",
          "2020-07-03",
          "2020-07-03",
          "2020-07-05",
          "2020-07-10",
          "2020-07-04",
          "2020-07-03",
          "2020-07-10",
          "2020-07-10",
          "2020-07-08",
          "2020-07-03",
          "2020-07-09",
          "2020-07-03",
          "2020-07-03",
          "2020-07-05",
          "2020-07-09",
          "2020-07-10",
          "2020-07-03",
          "2020-07-05",
          "2020-07-03",
          "2020-07-03",
          "2020-07-04",
          "2020-07-09",
          "2020-07-10",
          "2020-07-09",
          "2020-07-03",
          "2020-07-03",
          "2020-07-07",
          "2020-07-03",
          "2020-07-03",
          "2020-07-05",
          "2020-07-09",
          "2020-07-04",
          "2020-07-06",
          "2020-07-06",
          "2020-07-09",
          "2020-07-06",
          "2020-07-08",
          "2020-07-07",
          "2020-07-08",
          "2020-07-03",
          "2020-07-03",
          "2020-07-08",
          "2020-07-08",
          "2020-07-05",
          "2020-07-08",
          "2020-07-05",
          "2020-07-04",
          "2020-07-09",
          "2020-07-08",
          "2020-07-03",
          "2020-07-03",
          "2020-07-03",
          "2020-07-05",
          "2020-07-04",
          "2020-07-03",
          "2020-07-03",
          "2020-07-09",
          "2020-07-03",
          "2020-07-05",
          "2020-07-04",
          "2020-07-03",
          "2020-07-08",
          "2020-07-05",
          "2020-07-10",
          "2020-07-09",
          "2020-07-10",
          "2020-07-03",
          "2020-07-10",
          "2020-07-03",
          "2020-07-10",
          "2020-07-05",
          "2020-07-09",
          "2020-07-03",
          "2020-07-05",
          "2020-07-09",
          "2020-07-03",
          "2020-07-03",
          "2020-07-08",
          "2020-07-03",
          "2020-07-10",
          "2020-07-04",
          "2020-07-08",
          "2020-07-07",
          "2020-07-04",
          "2020-07-04",
          "2020-07-10",
          "2020-07-09",
          "2020-07-05",
          "2020-07-07",
          "2020-07-07",
          "2020-07-09",
          "2020-07-06",
          "2020-07-10",
          "2020-07-05",
          "2020-07-06",
          "2020-07-07",
          "2020-07-08",
          "2020-07-08",
          "2020-07-08",
          "2020-07-08",
          "2020-07-09",
          "2020-07-03",
          "2020-07-05",
          "2020-07-06",
          "2020-07-03",
          "2020-07-04",
          "2020-07-03",
          "2020-07-03",
          "2020-07-04",
          "2020-07-09",
          "2020-07-09",
          "2020-07-10",
          "2020-07-03",
          "2020-07-05",
          "2020-07-05",
          "2020-07-07",
          "2020-07-09",
          "2020-07-08",
          "2020-07-09",
          "2020-07-08",
          "2020-07-09",
          "2020-07-05",
          "2020-07-04",
          "2020-07-08",
          "2020-07-05",
          "2020-07-04",
          "2020-07-08",
          "2020-07-03",
          "2020-07-06",
          "2020-07-10",
          "2020-07-08",
          "2020-07-09",
          "2020-07-04",
          "2020-07-06",
          "2020-07-04",
          "2020-07-03",
          "2020-07-09",
          "2020-07-05",
          "2020-07-03",
          "2020-07-03",
          "2020-07-03",
          "2020-07-08",
          "2020-07-07",
          "2020-07-09",
          "2020-07-07",
          "2020-07-04",
          "2020-07-08",
          "2020-07-09",
          "2020-07-09",
          "2020-07-05",
          "2020-07-09",
          "2020-07-03",
          "2020-07-09",
          "2020-07-09",
          "2020-07-10",
          "2020-07-10",
          "2020-07-04",
          "2020-07-05",
          "2020-07-03",
          "2020-07-08",
          "2020-07-10",
          "2020-07-05",
          "2020-07-10",
          "2020-07-09",
          "2020-07-09",
          "2020-07-08",
          "2020-07-03",
          "2020-07-04",
          "2020-07-03",
          "2020-07-09",
          "2020-07-09",
          "2020-07-04",
          "2020-07-03",
          "2020-07-03",
          "2020-07-06",
          "2020-07-04",
          "2020-07-03",
          "2020-07-09",
          "2020-07-03",
          "2020-07-09",
          "2020-07-03",
          "2020-07-07",
          "2020-07-03",
          "2020-07-03",
          "2020-07-03",
          "2020-07-07",
          "2020-07-04",
          "2020-07-03",
          "2020-07-06",
          "2020-07-09",
          "2020-07-08",
          "2020-07-03",
          "2020-07-09",
          "2020-07-05",
          "2020-07-07",
          "2020-07-03",
          "2020-07-05",
          "2020-07-09",
          "2020-07-10",
          "2020-07-08",
          "2020-07-08",
          "2020-07-08",
          "2020-07-07",
          "2020-07-09",
          "2020-07-04",
          "2020-07-08",
          "2020-07-03",
          "2020-07-08",
          "2020-07-05",
          "2020-07-04",
          "2020-07-05",
          "2020-07-08",
          "2020-07-05",
          "2020-07-04",
          "2020-07-06",
          "2020-07-04",
          "2020-07-04",
          "2020-07-10",
          "2020-07-10",
          "2020-07-07",
          "2020-07-09",
          "2020-07-04",
          "2020-07-03",
          "2020-07-09",
          "2020-07-08",
          "2020-07-09",
          "2020-07-03",
          "2020-07-08",
          "2020-07-03",
          "2020-07-05",
          "2020-07-03",
          "2020-07-03",
          "2020-07-03",
          "2020-07-03",
          "2020-07-06",
          "2020-07-03",
          "2020-07-09",
          "2020-07-03",
          "2020-07-04",
          "2020-07-04",
          "2020-07-10",
          "2020-07-03",
          "2020-07-10",
          "2020-07-03",
          "2020-07-03",
          "2020-07-03",
          "2020-07-03",
          "2020-07-08",
          "2020-07-05",
          "2020-07-05",
          "2020-07-04",
          "2020-07-08",
          "2020-07-03",
          "2020-07-04",
          "2020-07-04",
          "2020-07-03",
          "2020-07-09",
          "2020-07-03",
          "2020-07-03",
          "2020-07-08",
          "2020-07-08",
          "2020-07-07",
          "2020-07-08",
          "2020-07-03",
          "2020-07-06",
          "2020-07-04",
          "2020-07-04",
          "2020-07-03",
          "2020-07-06",
          "2020-07-06",
          "2020-07-04",
          "2020-07-04",
          "2020-07-10",
          "2020-07-04",
          "2020-07-10",
          "2020-07-10",
          "2020-07-09",
          "2020-07-08",
          "2020-07-09",
          "2020-07-08",
          "2020-07-03",
          "2020-07-09",
          "2020-07-06",
          "2020-07-07",
          "2020-07-05",
          "2020-07-05",
          "2020-07-05",
          "2020-07-06",
          "2020-07-04",
          "2020-07-08",
          "2020-07-10",
          "2020-07-07",
          "2020-07-09",
          "2020-07-06",
          "2020-07-05",
          "2020-07-03",
          "2020-07-03",
          "2020-07-07",
          "2020-07-09",
          "2020-07-08",
          "2020-07-03",
          "2020-07-08",
          "2020-07-04",
          "2020-07-10",
          "2020-07-03",
          "2020-07-09",
          "2020-07-03",
          "2020-07-09",
          "2020-07-08",
          "2020-07-08",
          "2020-07-09",
          "2020-07-06",
          "2020-07-10",
          "2020-07-10",
          "2020-07-10",
          "2020-07-10",
          "2020-07-04",
          "2020-07-04",
          "2020-07-03",
          "2020-07-03",
          "2020-07-09",
          "2020-07-10",
          "2020-07-05",
          "2020-07-08",
          "2020-07-08",
          "2020-07-04",
          "2020-07-04",
          "2020-07-07",
          "2020-07-07",
          "2020-07-09",
          "2020-07-03",
          "2020-07-03",
          "2020-07-06",
          "2020-07-05",
          "2020-07-04",
          "2020-07-03",
          "2020-07-06",
          "2020-07-03",
          "2020-07-05",
          "2020-07-03",
          "2020-07-03",
          "2020-07-07",
          "2020-07-08",
          "2020-07-09",
          "2020-07-06",
          "2020-07-04",
          "2020-07-10",
          "2020-07-07",
          "2020-07-08",
          "2020-07-04",
          "2020-07-10",
          "2020-07-10",
          "2020-07-08",
          "2020-07-10",
          "2020-07-04",
          "2020-07-07",
          "2020-07-07",
          "2020-07-03",
          "2020-07-08",
          "2020-07-03",
          "2020-07-04",
          "2020-07-04",
          "2020-07-09",
          "2020-07-05",
          "2020-07-03",
          "2020-07-05",
          "2020-07-10",
          "2020-07-03",
          "2020-07-06",
          "2020-07-10",
          "2020-07-09",
          "2020-07-07",
          "2020-07-09",
          "2020-07-07",
          "2020-07-03",
          "2020-07-08",
          "2020-07-04",
          "2020-07-10",
          "2020-07-06",
          "2020-07-08",
          "2020-07-07",
          "2020-07-09",
          "2020-07-06",
          "2020-07-04",
          "2020-07-03",
          "2020-07-08",
          "2020-07-03",
          "2020-07-05",
          "2020-07-07",
          "2020-07-04",
          "2020-07-05",
          "2020-07-09",
          "2020-07-07",
          "2020-07-10",
          "2020-07-03",
          "2020-07-03",
          "2020-07-03",
          "2020-07-09",
          "2020-07-10",
          "2020-07-03",
          "2020-07-05",
          "2020-07-03",
          "2020-07-10",
          "2020-07-07",
          "2020-07-03",
          "2020-07-03",
          "2020-07-09",
          "2020-07-08",
          "2020-07-04",
          "2020-07-09",
          "2020-07-07",
          "2020-07-08",
          "2020-07-04",
          "2020-07-08",
          "2020-07-10",
          "2020-07-08",
          "2020-07-08",
          "2020-07-10",
          "2020-07-04",
          "2020-07-03",
          "2020-07-06",
          "2020-07-03",
          "2020-07-04",
          "2020-07-03",
          "2020-07-09",
          "2020-07-06",
          "2020-07-08",
          "2020-07-03",
          "2020-07-07",
          "2020-07-03",
          "2020-07-09",
          "2020-07-03",
          "2020-07-07",
          "2020-07-09",
          "2020-07-03",
          "2020-07-08",
          "2020-07-08",
          "2020-07-07",
          "2020-07-03",
          "2020-07-04",
          "2020-07-07",
          "2020-07-10",
          "2020-07-09",
          "2020-07-08",
          "2020-07-08",
          "2020-07-03",
          "2020-07-03",
          "2020-07-03",
          "2020-07-08",
          "2020-07-10",
          "2020-07-09",
          "2020-07-04",
          "2020-07-08",
          "2020-07-04",
          "2020-07-05",
          "2020-07-08",
          "2020-07-03",
          "2020-07-03",
          "2020-07-03",
          "2020-07-09",
          "2020-07-04",
          "2020-07-03",
          "2020-07-09",
          "2020-07-08",
          "2020-07-09",
          "2020-07-10",
          "2020-07-08",
          "2020-07-03",
          "2020-07-04",
          "2020-07-04",
          "2020-07-03",
          "2020-07-08",
          "2020-07-03",
          "2020-07-09",
          "2020-07-03",
          "2020-07-03",
          "2020-07-03",
          "2020-07-10",
          "2020-07-03",
          "2020-07-03",
          "2020-07-09",
          "2020-07-10",
          "2020-07-05",
          "2020-07-05",
          "2020-07-08",
          "2020-07-09",
          "2020-07-05",
          "2020-07-04",
          "2020-07-05",
          "2020-07-08",
          "2020-07-04",
          "2020-07-04",
          "2020-07-03",
          "2020-07-06",
          "2020-07-09",
          "2020-07-07",
          "2020-07-05",
          "2020-07-10",
          "2020-07-04",
          "2020-07-10",
          "2020-07-03",
          "2020-07-03",
          "2020-07-03",
          "2020-07-10",
          "2020-07-03",
          "2020-07-08",
          "2020-07-10",
          "2020-07-08",
          "2020-07-03",
          "2020-07-10",
          "2020-07-09",
          "2020-07-05",
          "2020-07-04",
          "2020-07-03",
          "2020-07-08",
          "2020-07-04",
          "2020-07-09",
          "2020-07-06",
          "2020-07-03",
          "2020-07-03",
          "2020-07-03",
          "2020-07-03",
          "2020-07-07",
          "2020-07-06",
          "2020-07-08",
          "2020-07-09",
          "2020-07-09",
          "2020-07-05",
          "2020-07-04",
          "2020-07-03",
          "2020-07-09",
          "2020-07-04",
          "2020-07-04",
          "2020-07-07",
          "2020-07-04",
          "2020-07-03",
          "2020-07-04",
          "2020-07-09",
          "2020-07-10",
          "2020-07-09",
          "2020-07-07",
          "2020-07-04",
          "2020-07-09",
          "2020-07-03",
          "2020-07-03",
          "2020-07-10",
          "2020-07-05",
          "2020-07-08",
          "2020-07-08",
          "2020-07-08",
          "2020-07-08",
          "2020-07-03",
          "2020-07-03",
          "2020-07-05",
          "2020-07-08",
          "2020-07-04",
          "2020-07-03",
          "2020-07-03",
          "2020-07-03",
          "2020-07-10",
          "2020-07-09",
          "2020-07-04",
          "2020-07-06",
          "2020-07-06",
          "2020-07-04",
          "2020-07-09",
          "2020-07-03",
          "2020-07-06",
          "2020-07-09",
          "2020-07-03",
          "2020-07-05",
          "2020-07-08",
          "2020-07-03",
          "2020-07-10",
          "2020-07-03",
          "2020-07-06",
          "2020-07-06",
          "2020-07-05",
          "2020-07-05",
          "2020-07-03",
          "2020-07-03",
          "2020-07-08",
          "2020-07-03",
          "2020-07-04",
          "2020-07-07",
          "2020-07-03",
          "2020-07-07",
          "2020-07-09",
          "2020-07-09",
          "2020-07-06",
          "2020-07-09",
          "2020-07-04",
          "2020-07-03",
          "2020-07-03",
          "2020-07-03",
          "2020-07-03",
          "2020-07-03",
          "2020-07-08",
          "2020-07-08",
          "2020-07-03",
          "2020-07-10",
          "2020-07-03",
          "2020-07-05",
          "2020-07-08",
          "2020-07-04",
          "2020-07-10",
          "2020-07-03",
          "2020-07-03",
          "2020-07-08",
          "2020-07-03",
          "2020-07-07",
          "2020-07-03",
          "2020-07-09",
          "2020-07-07",
          "2020-07-07",
          "2020-07-08",
          "2020-07-10",
          "2020-07-10",
          "2020-07-05",
          "2020-07-04",
          "2020-07-10",
          "2020-07-09",
          "2020-07-03",
          "2020-07-10",
          "2020-07-05",
          "2020-07-03",
          "2020-07-05",
          "2020-07-04",
          "2020-07-08",
          "2020-07-09",
          "2020-07-09",
          "2020-07-10",
          "2020-07-03"
         ],
         "xaxis": "x",
         "yaxis": "y"
        }
       ],
       "layout": {
        "barmode": "relative",
        "legend": {
         "tracegroupgap": 0
        },
        "margin": {
         "t": 60
        },
        "template": {
         "data": {
          "bar": [
           {
            "error_x": {
             "color": "#2a3f5f"
            },
            "error_y": {
             "color": "#2a3f5f"
            },
            "marker": {
             "line": {
              "color": "#E5ECF6",
              "width": 0.5
             },
             "pattern": {
              "fillmode": "overlay",
              "size": 10,
              "solidity": 0.2
             }
            },
            "type": "bar"
           }
          ],
          "barpolar": [
           {
            "marker": {
             "line": {
              "color": "#E5ECF6",
              "width": 0.5
             },
             "pattern": {
              "fillmode": "overlay",
              "size": 10,
              "solidity": 0.2
             }
            },
            "type": "barpolar"
           }
          ],
          "carpet": [
           {
            "aaxis": {
             "endlinecolor": "#2a3f5f",
             "gridcolor": "white",
             "linecolor": "white",
             "minorgridcolor": "white",
             "startlinecolor": "#2a3f5f"
            },
            "baxis": {
             "endlinecolor": "#2a3f5f",
             "gridcolor": "white",
             "linecolor": "white",
             "minorgridcolor": "white",
             "startlinecolor": "#2a3f5f"
            },
            "type": "carpet"
           }
          ],
          "choropleth": [
           {
            "colorbar": {
             "outlinewidth": 0,
             "ticks": ""
            },
            "type": "choropleth"
           }
          ],
          "contour": [
           {
            "colorbar": {
             "outlinewidth": 0,
             "ticks": ""
            },
            "colorscale": [
             [
              0,
              "#0d0887"
             ],
             [
              0.1111111111111111,
              "#46039f"
             ],
             [
              0.2222222222222222,
              "#7201a8"
             ],
             [
              0.3333333333333333,
              "#9c179e"
             ],
             [
              0.4444444444444444,
              "#bd3786"
             ],
             [
              0.5555555555555556,
              "#d8576b"
             ],
             [
              0.6666666666666666,
              "#ed7953"
             ],
             [
              0.7777777777777778,
              "#fb9f3a"
             ],
             [
              0.8888888888888888,
              "#fdca26"
             ],
             [
              1,
              "#f0f921"
             ]
            ],
            "type": "contour"
           }
          ],
          "contourcarpet": [
           {
            "colorbar": {
             "outlinewidth": 0,
             "ticks": ""
            },
            "type": "contourcarpet"
           }
          ],
          "heatmap": [
           {
            "colorbar": {
             "outlinewidth": 0,
             "ticks": ""
            },
            "colorscale": [
             [
              0,
              "#0d0887"
             ],
             [
              0.1111111111111111,
              "#46039f"
             ],
             [
              0.2222222222222222,
              "#7201a8"
             ],
             [
              0.3333333333333333,
              "#9c179e"
             ],
             [
              0.4444444444444444,
              "#bd3786"
             ],
             [
              0.5555555555555556,
              "#d8576b"
             ],
             [
              0.6666666666666666,
              "#ed7953"
             ],
             [
              0.7777777777777778,
              "#fb9f3a"
             ],
             [
              0.8888888888888888,
              "#fdca26"
             ],
             [
              1,
              "#f0f921"
             ]
            ],
            "type": "heatmap"
           }
          ],
          "heatmapgl": [
           {
            "colorbar": {
             "outlinewidth": 0,
             "ticks": ""
            },
            "colorscale": [
             [
              0,
              "#0d0887"
             ],
             [
              0.1111111111111111,
              "#46039f"
             ],
             [
              0.2222222222222222,
              "#7201a8"
             ],
             [
              0.3333333333333333,
              "#9c179e"
             ],
             [
              0.4444444444444444,
              "#bd3786"
             ],
             [
              0.5555555555555556,
              "#d8576b"
             ],
             [
              0.6666666666666666,
              "#ed7953"
             ],
             [
              0.7777777777777778,
              "#fb9f3a"
             ],
             [
              0.8888888888888888,
              "#fdca26"
             ],
             [
              1,
              "#f0f921"
             ]
            ],
            "type": "heatmapgl"
           }
          ],
          "histogram": [
           {
            "marker": {
             "pattern": {
              "fillmode": "overlay",
              "size": 10,
              "solidity": 0.2
             }
            },
            "type": "histogram"
           }
          ],
          "histogram2d": [
           {
            "colorbar": {
             "outlinewidth": 0,
             "ticks": ""
            },
            "colorscale": [
             [
              0,
              "#0d0887"
             ],
             [
              0.1111111111111111,
              "#46039f"
             ],
             [
              0.2222222222222222,
              "#7201a8"
             ],
             [
              0.3333333333333333,
              "#9c179e"
             ],
             [
              0.4444444444444444,
              "#bd3786"
             ],
             [
              0.5555555555555556,
              "#d8576b"
             ],
             [
              0.6666666666666666,
              "#ed7953"
             ],
             [
              0.7777777777777778,
              "#fb9f3a"
             ],
             [
              0.8888888888888888,
              "#fdca26"
             ],
             [
              1,
              "#f0f921"
             ]
            ],
            "type": "histogram2d"
           }
          ],
          "histogram2dcontour": [
           {
            "colorbar": {
             "outlinewidth": 0,
             "ticks": ""
            },
            "colorscale": [
             [
              0,
              "#0d0887"
             ],
             [
              0.1111111111111111,
              "#46039f"
             ],
             [
              0.2222222222222222,
              "#7201a8"
             ],
             [
              0.3333333333333333,
              "#9c179e"
             ],
             [
              0.4444444444444444,
              "#bd3786"
             ],
             [
              0.5555555555555556,
              "#d8576b"
             ],
             [
              0.6666666666666666,
              "#ed7953"
             ],
             [
              0.7777777777777778,
              "#fb9f3a"
             ],
             [
              0.8888888888888888,
              "#fdca26"
             ],
             [
              1,
              "#f0f921"
             ]
            ],
            "type": "histogram2dcontour"
           }
          ],
          "mesh3d": [
           {
            "colorbar": {
             "outlinewidth": 0,
             "ticks": ""
            },
            "type": "mesh3d"
           }
          ],
          "parcoords": [
           {
            "line": {
             "colorbar": {
              "outlinewidth": 0,
              "ticks": ""
             }
            },
            "type": "parcoords"
           }
          ],
          "pie": [
           {
            "automargin": true,
            "type": "pie"
           }
          ],
          "scatter": [
           {
            "fillpattern": {
             "fillmode": "overlay",
             "size": 10,
             "solidity": 0.2
            },
            "type": "scatter"
           }
          ],
          "scatter3d": [
           {
            "line": {
             "colorbar": {
              "outlinewidth": 0,
              "ticks": ""
             }
            },
            "marker": {
             "colorbar": {
              "outlinewidth": 0,
              "ticks": ""
             }
            },
            "type": "scatter3d"
           }
          ],
          "scattercarpet": [
           {
            "marker": {
             "colorbar": {
              "outlinewidth": 0,
              "ticks": ""
             }
            },
            "type": "scattercarpet"
           }
          ],
          "scattergeo": [
           {
            "marker": {
             "colorbar": {
              "outlinewidth": 0,
              "ticks": ""
             }
            },
            "type": "scattergeo"
           }
          ],
          "scattergl": [
           {
            "marker": {
             "colorbar": {
              "outlinewidth": 0,
              "ticks": ""
             }
            },
            "type": "scattergl"
           }
          ],
          "scattermapbox": [
           {
            "marker": {
             "colorbar": {
              "outlinewidth": 0,
              "ticks": ""
             }
            },
            "type": "scattermapbox"
           }
          ],
          "scatterpolar": [
           {
            "marker": {
             "colorbar": {
              "outlinewidth": 0,
              "ticks": ""
             }
            },
            "type": "scatterpolar"
           }
          ],
          "scatterpolargl": [
           {
            "marker": {
             "colorbar": {
              "outlinewidth": 0,
              "ticks": ""
             }
            },
            "type": "scatterpolargl"
           }
          ],
          "scatterternary": [
           {
            "marker": {
             "colorbar": {
              "outlinewidth": 0,
              "ticks": ""
             }
            },
            "type": "scatterternary"
           }
          ],
          "surface": [
           {
            "colorbar": {
             "outlinewidth": 0,
             "ticks": ""
            },
            "colorscale": [
             [
              0,
              "#0d0887"
             ],
             [
              0.1111111111111111,
              "#46039f"
             ],
             [
              0.2222222222222222,
              "#7201a8"
             ],
             [
              0.3333333333333333,
              "#9c179e"
             ],
             [
              0.4444444444444444,
              "#bd3786"
             ],
             [
              0.5555555555555556,
              "#d8576b"
             ],
             [
              0.6666666666666666,
              "#ed7953"
             ],
             [
              0.7777777777777778,
              "#fb9f3a"
             ],
             [
              0.8888888888888888,
              "#fdca26"
             ],
             [
              1,
              "#f0f921"
             ]
            ],
            "type": "surface"
           }
          ],
          "table": [
           {
            "cells": {
             "fill": {
              "color": "#EBF0F8"
             },
             "line": {
              "color": "white"
             }
            },
            "header": {
             "fill": {
              "color": "#C8D4E3"
             },
             "line": {
              "color": "white"
             }
            },
            "type": "table"
           }
          ]
         },
         "layout": {
          "annotationdefaults": {
           "arrowcolor": "#2a3f5f",
           "arrowhead": 0,
           "arrowwidth": 1
          },
          "autotypenumbers": "strict",
          "coloraxis": {
           "colorbar": {
            "outlinewidth": 0,
            "ticks": ""
           }
          },
          "colorscale": {
           "diverging": [
            [
             0,
             "#8e0152"
            ],
            [
             0.1,
             "#c51b7d"
            ],
            [
             0.2,
             "#de77ae"
            ],
            [
             0.3,
             "#f1b6da"
            ],
            [
             0.4,
             "#fde0ef"
            ],
            [
             0.5,
             "#f7f7f7"
            ],
            [
             0.6,
             "#e6f5d0"
            ],
            [
             0.7,
             "#b8e186"
            ],
            [
             0.8,
             "#7fbc41"
            ],
            [
             0.9,
             "#4d9221"
            ],
            [
             1,
             "#276419"
            ]
           ],
           "sequential": [
            [
             0,
             "#0d0887"
            ],
            [
             0.1111111111111111,
             "#46039f"
            ],
            [
             0.2222222222222222,
             "#7201a8"
            ],
            [
             0.3333333333333333,
             "#9c179e"
            ],
            [
             0.4444444444444444,
             "#bd3786"
            ],
            [
             0.5555555555555556,
             "#d8576b"
            ],
            [
             0.6666666666666666,
             "#ed7953"
            ],
            [
             0.7777777777777778,
             "#fb9f3a"
            ],
            [
             0.8888888888888888,
             "#fdca26"
            ],
            [
             1,
             "#f0f921"
            ]
           ],
           "sequentialminus": [
            [
             0,
             "#0d0887"
            ],
            [
             0.1111111111111111,
             "#46039f"
            ],
            [
             0.2222222222222222,
             "#7201a8"
            ],
            [
             0.3333333333333333,
             "#9c179e"
            ],
            [
             0.4444444444444444,
             "#bd3786"
            ],
            [
             0.5555555555555556,
             "#d8576b"
            ],
            [
             0.6666666666666666,
             "#ed7953"
            ],
            [
             0.7777777777777778,
             "#fb9f3a"
            ],
            [
             0.8888888888888888,
             "#fdca26"
            ],
            [
             1,
             "#f0f921"
            ]
           ]
          },
          "colorway": [
           "#636efa",
           "#EF553B",
           "#00cc96",
           "#ab63fa",
           "#FFA15A",
           "#19d3f3",
           "#FF6692",
           "#B6E880",
           "#FF97FF",
           "#FECB52"
          ],
          "font": {
           "color": "#2a3f5f"
          },
          "geo": {
           "bgcolor": "white",
           "lakecolor": "white",
           "landcolor": "#E5ECF6",
           "showlakes": true,
           "showland": true,
           "subunitcolor": "white"
          },
          "hoverlabel": {
           "align": "left"
          },
          "hovermode": "closest",
          "mapbox": {
           "style": "light"
          },
          "paper_bgcolor": "white",
          "plot_bgcolor": "#E5ECF6",
          "polar": {
           "angularaxis": {
            "gridcolor": "white",
            "linecolor": "white",
            "ticks": ""
           },
           "bgcolor": "#E5ECF6",
           "radialaxis": {
            "gridcolor": "white",
            "linecolor": "white",
            "ticks": ""
           }
          },
          "scene": {
           "xaxis": {
            "backgroundcolor": "#E5ECF6",
            "gridcolor": "white",
            "gridwidth": 2,
            "linecolor": "white",
            "showbackground": true,
            "ticks": "",
            "zerolinecolor": "white"
           },
           "yaxis": {
            "backgroundcolor": "#E5ECF6",
            "gridcolor": "white",
            "gridwidth": 2,
            "linecolor": "white",
            "showbackground": true,
            "ticks": "",
            "zerolinecolor": "white"
           },
           "zaxis": {
            "backgroundcolor": "#E5ECF6",
            "gridcolor": "white",
            "gridwidth": 2,
            "linecolor": "white",
            "showbackground": true,
            "ticks": "",
            "zerolinecolor": "white"
           }
          },
          "shapedefaults": {
           "line": {
            "color": "#2a3f5f"
           }
          },
          "ternary": {
           "aaxis": {
            "gridcolor": "white",
            "linecolor": "white",
            "ticks": ""
           },
           "baxis": {
            "gridcolor": "white",
            "linecolor": "white",
            "ticks": ""
           },
           "bgcolor": "#E5ECF6",
           "caxis": {
            "gridcolor": "white",
            "linecolor": "white",
            "ticks": ""
           }
          },
          "title": {
           "x": 0.05
          },
          "xaxis": {
           "automargin": true,
           "gridcolor": "white",
           "linecolor": "white",
           "ticks": "",
           "title": {
            "standoff": 15
           },
           "zerolinecolor": "white",
           "zerolinewidth": 2
          },
          "yaxis": {
           "automargin": true,
           "gridcolor": "white",
           "linecolor": "white",
           "ticks": "",
           "title": {
            "standoff": 15
           },
           "zerolinecolor": "white",
           "zerolinewidth": 2
          }
         }
        },
        "xaxis": {
         "anchor": "y",
         "domain": [
          0,
          1
         ],
         "title": {
          "text": "date"
         }
        },
        "yaxis": {
         "anchor": "x",
         "domain": [
          0,
          1
         ],
         "title": {
          "text": "count"
         }
        }
       }
      },
      "text/html": [
       "<div>                            <div id=\"6ba2ffb8-a8d2-4757-82ce-40d7ed703567\" class=\"plotly-graph-div\" style=\"height:525px; width:100%;\"></div>            <script type=\"text/javascript\">                require([\"plotly\"], function(Plotly) {                    window.PLOTLYENV=window.PLOTLYENV || {};                                    if (document.getElementById(\"6ba2ffb8-a8d2-4757-82ce-40d7ed703567\")) {                    Plotly.newPlot(                        \"6ba2ffb8-a8d2-4757-82ce-40d7ed703567\",                        [{\"alignmentgroup\":\"True\",\"bingroup\":\"x\",\"hovertemplate\":\"date=%{x}<br>count=%{y}<extra></extra>\",\"legendgroup\":\"\",\"marker\":{\"color\":\"#636efa\",\"pattern\":{\"shape\":\"\"}},\"name\":\"\",\"offsetgroup\":\"\",\"orientation\":\"v\",\"showlegend\":false,\"x\":[\"2020-07-04\",\"2020-07-08\",\"2020-07-03\",\"2020-07-09\",\"2020-07-05\",\"2020-07-04\",\"2020-07-09\",\"2020-07-04\",\"2020-07-05\",\"2020-07-07\",\"2020-07-03\",\"2020-07-09\",\"2020-07-08\",\"2020-07-04\",\"2020-07-08\",\"2020-07-08\",\"2020-07-03\",\"2020-07-10\",\"2020-07-08\",\"2020-07-08\",\"2020-07-08\",\"2020-07-05\",\"2020-07-05\",\"2020-07-08\",\"2020-07-03\",\"2020-07-08\",\"2020-07-03\",\"2020-07-04\",\"2020-07-05\",\"2020-07-03\",\"2020-07-08\",\"2020-07-03\",\"2020-07-09\",\"2020-07-03\",\"2020-07-05\",\"2020-07-09\",\"2020-07-09\",\"2020-07-08\",\"2020-07-07\",\"2020-07-10\",\"2020-07-03\",\"2020-07-03\",\"2020-07-03\",\"2020-07-08\",\"2020-07-10\",\"2020-07-03\",\"2020-07-09\",\"2020-07-03\",\"2020-07-04\",\"2020-07-10\",\"2020-07-03\",\"2020-07-03\",\"2020-07-04\",\"2020-07-03\",\"2020-07-10\",\"2020-07-03\",\"2020-07-06\",\"2020-07-08\",\"2020-07-06\",\"2020-07-07\",\"2020-07-08\",\"2020-07-03\",\"2020-07-04\",\"2020-07-09\",\"2020-07-03\",\"2020-07-07\",\"2020-07-05\",\"2020-07-09\",\"2020-07-04\",\"2020-07-04\",\"2020-07-10\",\"2020-07-06\",\"2020-07-04\",\"2020-07-03\",\"2020-07-03\",\"2020-07-04\",\"2020-07-03\",\"2020-07-10\",\"2020-07-05\",\"2020-07-10\",\"2020-07-09\",\"2020-07-09\",\"2020-07-04\",\"2020-07-03\",\"2020-07-09\",\"2020-07-03\",\"2020-07-03\",\"2020-07-07\",\"2020-07-08\",\"2020-07-09\",\"2020-07-09\",\"2020-07-10\",\"2020-07-08\",\"2020-07-10\",\"2020-07-06\",\"2020-07-09\",\"2020-07-09\",\"2020-07-03\",\"2020-07-03\",\"2020-07-04\",\"2020-07-06\",\"2020-07-08\",\"2020-07-03\",\"2020-07-03\",\"2020-07-05\",\"2020-07-08\",\"2020-07-09\",\"2020-07-09\",\"2020-07-04\",\"2020-07-08\",\"2020-07-03\",\"2020-07-10\",\"2020-07-05\",\"2020-07-04\",\"2020-07-03\",\"2020-07-03\",\"2020-07-10\",\"2020-07-10\",\"2020-07-06\",\"2020-07-09\",\"2020-07-03\",\"2020-07-05\",\"2020-07-10\",\"2020-07-03\",\"2020-07-03\",\"2020-07-04\",\"2020-07-04\",\"2020-07-09\",\"2020-07-09\",\"2020-07-08\",\"2020-07-04\",\"2020-07-09\",\"2020-07-09\",\"2020-07-03\",\"2020-07-09\",\"2020-07-04\",\"2020-07-10\",\"2020-07-07\",\"2020-07-10\",\"2020-07-07\",\"2020-07-08\",\"2020-07-10\",\"2020-07-03\",\"2020-07-03\",\"2020-07-03\",\"2020-07-10\",\"2020-07-03\",\"2020-07-08\",\"2020-07-03\",\"2020-07-03\",\"2020-07-05\",\"2020-07-08\",\"2020-07-05\",\"2020-07-10\",\"2020-07-03\",\"2020-07-03\",\"2020-07-08\",\"2020-07-07\",\"2020-07-03\",\"2020-07-08\",\"2020-07-10\",\"2020-07-08\",\"2020-07-07\",\"2020-07-09\",\"2020-07-03\",\"2020-07-05\",\"2020-07-06\",\"2020-07-06\",\"2020-07-06\",\"2020-07-03\",\"2020-07-03\",\"2020-07-05\",\"2020-07-05\",\"2020-07-04\",\"2020-07-09\",\"2020-07-03\",\"2020-07-03\",\"2020-07-08\",\"2020-07-05\",\"2020-07-03\",\"2020-07-09\",\"2020-07-08\",\"2020-07-08\",\"2020-07-03\",\"2020-07-07\",\"2020-07-07\",\"2020-07-03\",\"2020-07-08\",\"2020-07-03\",\"2020-07-03\",\"2020-07-10\",\"2020-07-03\",\"2020-07-03\",\"2020-07-04\",\"2020-07-04\",\"2020-07-04\",\"2020-07-04\",\"2020-07-09\",\"2020-07-07\",\"2020-07-09\",\"2020-07-03\",\"2020-07-03\",\"2020-07-04\",\"2020-07-03\",\"2020-07-05\",\"2020-07-04\",\"2020-07-09\",\"2020-07-03\",\"2020-07-03\",\"2020-07-05\",\"2020-07-08\",\"2020-07-06\",\"2020-07-08\",\"2020-07-04\",\"2020-07-03\",\"2020-07-04\",\"2020-07-03\",\"2020-07-06\",\"2020-07-05\",\"2020-07-04\",\"2020-07-04\",\"2020-07-08\",\"2020-07-03\",\"2020-07-05\",\"2020-07-04\",\"2020-07-07\",\"2020-07-03\",\"2020-07-10\",\"2020-07-09\",\"2020-07-05\",\"2020-07-03\",\"2020-07-03\",\"2020-07-06\",\"2020-07-04\",\"2020-07-06\",\"2020-07-04\",\"2020-07-10\",\"2020-07-10\",\"2020-07-03\",\"2020-07-09\",\"2020-07-03\",\"2020-07-09\",\"2020-07-05\",\"2020-07-09\",\"2020-07-06\",\"2020-07-03\",\"2020-07-05\",\"2020-07-10\",\"2020-07-06\",\"2020-07-04\",\"2020-07-07\",\"2020-07-03\",\"2020-07-05\",\"2020-07-03\",\"2020-07-09\",\"2020-07-03\",\"2020-07-03\",\"2020-07-04\",\"2020-07-08\",\"2020-07-09\",\"2020-07-08\",\"2020-07-08\",\"2020-07-07\",\"2020-07-10\",\"2020-07-05\",\"2020-07-04\",\"2020-07-08\",\"2020-07-03\",\"2020-07-05\",\"2020-07-08\",\"2020-07-06\",\"2020-07-10\",\"2020-07-03\",\"2020-07-08\",\"2020-07-04\",\"2020-07-09\",\"2020-07-10\",\"2020-07-08\",\"2020-07-03\",\"2020-07-05\",\"2020-07-10\",\"2020-07-06\",\"2020-07-03\",\"2020-07-09\",\"2020-07-05\",\"2020-07-04\",\"2020-07-08\",\"2020-07-08\",\"2020-07-09\",\"2020-07-08\",\"2020-07-03\",\"2020-07-03\",\"2020-07-09\",\"2020-07-10\",\"2020-07-08\",\"2020-07-08\",\"2020-07-03\",\"2020-07-03\",\"2020-07-03\",\"2020-07-07\",\"2020-07-07\",\"2020-07-09\",\"2020-07-10\",\"2020-07-09\",\"2020-07-10\",\"2020-07-09\",\"2020-07-05\",\"2020-07-07\",\"2020-07-04\",\"2020-07-04\",\"2020-07-09\",\"2020-07-04\",\"2020-07-08\",\"2020-07-07\",\"2020-07-04\",\"2020-07-04\",\"2020-07-10\",\"2020-07-03\",\"2020-07-03\",\"2020-07-09\",\"2020-07-08\",\"2020-07-08\",\"2020-07-08\",\"2020-07-06\",\"2020-07-05\",\"2020-07-03\",\"2020-07-04\",\"2020-07-07\",\"2020-07-08\",\"2020-07-03\",\"2020-07-04\",\"2020-07-09\",\"2020-07-05\",\"2020-07-04\",\"2020-07-06\",\"2020-07-08\",\"2020-07-03\",\"2020-07-03\",\"2020-07-08\",\"2020-07-10\",\"2020-07-09\",\"2020-07-08\",\"2020-07-06\",\"2020-07-10\",\"2020-07-03\",\"2020-07-07\",\"2020-07-04\",\"2020-07-10\",\"2020-07-09\",\"2020-07-04\",\"2020-07-04\",\"2020-07-03\",\"2020-07-03\",\"2020-07-08\",\"2020-07-09\",\"2020-07-03\",\"2020-07-10\",\"2020-07-09\",\"2020-07-10\",\"2020-07-09\",\"2020-07-05\",\"2020-07-05\",\"2020-07-10\",\"2020-07-08\",\"2020-07-08\",\"2020-07-08\",\"2020-07-09\",\"2020-07-08\",\"2020-07-03\",\"2020-07-09\",\"2020-07-07\",\"2020-07-10\",\"2020-07-05\",\"2020-07-08\",\"2020-07-03\",\"2020-07-08\",\"2020-07-07\",\"2020-07-05\",\"2020-07-04\",\"2020-07-03\",\"2020-07-09\",\"2020-07-08\",\"2020-07-04\",\"2020-07-03\",\"2020-07-08\",\"2020-07-03\",\"2020-07-09\",\"2020-07-03\",\"2020-07-06\",\"2020-07-08\",\"2020-07-03\",\"2020-07-03\",\"2020-07-05\",\"2020-07-10\",\"2020-07-09\",\"2020-07-05\",\"2020-07-08\",\"2020-07-08\",\"2020-07-07\",\"2020-07-04\",\"2020-07-10\",\"2020-07-07\",\"2020-07-09\",\"2020-07-03\",\"2020-07-05\",\"2020-07-10\",\"2020-07-08\",\"2020-07-09\",\"2020-07-03\",\"2020-07-05\",\"2020-07-06\",\"2020-07-04\",\"2020-07-03\",\"2020-07-08\",\"2020-07-04\",\"2020-07-06\",\"2020-07-04\",\"2020-07-09\",\"2020-07-07\",\"2020-07-04\",\"2020-07-09\",\"2020-07-03\",\"2020-07-04\",\"2020-07-08\",\"2020-07-03\",\"2020-07-03\",\"2020-07-04\",\"2020-07-03\",\"2020-07-07\",\"2020-07-09\",\"2020-07-04\",\"2020-07-03\",\"2020-07-08\",\"2020-07-09\",\"2020-07-07\",\"2020-07-10\",\"2020-07-08\",\"2020-07-07\",\"2020-07-05\",\"2020-07-03\",\"2020-07-06\",\"2020-07-08\",\"2020-07-09\",\"2020-07-07\",\"2020-07-09\",\"2020-07-10\",\"2020-07-08\",\"2020-07-06\",\"2020-07-03\",\"2020-07-03\",\"2020-07-08\",\"2020-07-08\",\"2020-07-04\",\"2020-07-05\",\"2020-07-09\",\"2020-07-06\",\"2020-07-09\",\"2020-07-09\",\"2020-07-03\",\"2020-07-05\",\"2020-07-09\",\"2020-07-03\",\"2020-07-09\",\"2020-07-08\",\"2020-07-05\",\"2020-07-04\",\"2020-07-07\",\"2020-07-03\",\"2020-07-03\",\"2020-07-06\",\"2020-07-03\",\"2020-07-04\",\"2020-07-05\",\"2020-07-03\",\"2020-07-07\",\"2020-07-03\",\"2020-07-06\",\"2020-07-05\",\"2020-07-03\",\"2020-07-09\",\"2020-07-07\",\"2020-07-07\",\"2020-07-08\",\"2020-07-03\",\"2020-07-08\",\"2020-07-04\",\"2020-07-06\",\"2020-07-04\",\"2020-07-03\",\"2020-07-04\",\"2020-07-08\",\"2020-07-03\",\"2020-07-09\",\"2020-07-08\",\"2020-07-04\",\"2020-07-05\",\"2020-07-09\",\"2020-07-08\",\"2020-07-10\",\"2020-07-03\",\"2020-07-04\",\"2020-07-08\",\"2020-07-09\",\"2020-07-07\",\"2020-07-04\",\"2020-07-09\",\"2020-07-08\",\"2020-07-09\",\"2020-07-03\",\"2020-07-09\",\"2020-07-03\",\"2020-07-05\",\"2020-07-10\",\"2020-07-10\",\"2020-07-07\",\"2020-07-03\",\"2020-07-06\",\"2020-07-06\",\"2020-07-04\",\"2020-07-03\",\"2020-07-06\",\"2020-07-03\",\"2020-07-10\",\"2020-07-05\",\"2020-07-03\",\"2020-07-09\",\"2020-07-10\",\"2020-07-08\",\"2020-07-09\",\"2020-07-03\",\"2020-07-09\",\"2020-07-03\",\"2020-07-08\",\"2020-07-07\",\"2020-07-04\",\"2020-07-09\",\"2020-07-03\",\"2020-07-03\",\"2020-07-04\",\"2020-07-03\",\"2020-07-07\",\"2020-07-09\",\"2020-07-09\",\"2020-07-08\",\"2020-07-09\",\"2020-07-04\",\"2020-07-03\",\"2020-07-03\",\"2020-07-03\",\"2020-07-06\",\"2020-07-05\",\"2020-07-10\",\"2020-07-06\",\"2020-07-03\",\"2020-07-03\",\"2020-07-05\",\"2020-07-06\",\"2020-07-03\",\"2020-07-04\",\"2020-07-03\",\"2020-07-03\",\"2020-07-10\",\"2020-07-04\",\"2020-07-03\",\"2020-07-03\",\"2020-07-03\",\"2020-07-09\",\"2020-07-10\",\"2020-07-09\",\"2020-07-10\",\"2020-07-05\",\"2020-07-04\",\"2020-07-05\",\"2020-07-06\",\"2020-07-03\",\"2020-07-10\",\"2020-07-05\",\"2020-07-03\",\"2020-07-03\",\"2020-07-03\",\"2020-07-09\",\"2020-07-08\",\"2020-07-06\",\"2020-07-03\",\"2020-07-09\",\"2020-07-05\",\"2020-07-10\",\"2020-07-03\",\"2020-07-05\",\"2020-07-09\",\"2020-07-08\",\"2020-07-05\",\"2020-07-05\",\"2020-07-07\",\"2020-07-09\",\"2020-07-03\",\"2020-07-04\",\"2020-07-03\",\"2020-07-08\",\"2020-07-06\",\"2020-07-08\",\"2020-07-10\",\"2020-07-10\",\"2020-07-03\",\"2020-07-09\",\"2020-07-09\",\"2020-07-09\",\"2020-07-03\",\"2020-07-09\",\"2020-07-03\",\"2020-07-03\",\"2020-07-03\",\"2020-07-05\",\"2020-07-10\",\"2020-07-04\",\"2020-07-03\",\"2020-07-10\",\"2020-07-10\",\"2020-07-08\",\"2020-07-03\",\"2020-07-09\",\"2020-07-03\",\"2020-07-03\",\"2020-07-05\",\"2020-07-09\",\"2020-07-10\",\"2020-07-03\",\"2020-07-05\",\"2020-07-03\",\"2020-07-03\",\"2020-07-04\",\"2020-07-09\",\"2020-07-10\",\"2020-07-09\",\"2020-07-03\",\"2020-07-03\",\"2020-07-07\",\"2020-07-03\",\"2020-07-03\",\"2020-07-05\",\"2020-07-09\",\"2020-07-04\",\"2020-07-06\",\"2020-07-06\",\"2020-07-09\",\"2020-07-06\",\"2020-07-08\",\"2020-07-07\",\"2020-07-08\",\"2020-07-03\",\"2020-07-03\",\"2020-07-08\",\"2020-07-08\",\"2020-07-05\",\"2020-07-08\",\"2020-07-05\",\"2020-07-04\",\"2020-07-09\",\"2020-07-08\",\"2020-07-03\",\"2020-07-03\",\"2020-07-03\",\"2020-07-05\",\"2020-07-04\",\"2020-07-03\",\"2020-07-03\",\"2020-07-09\",\"2020-07-03\",\"2020-07-05\",\"2020-07-04\",\"2020-07-03\",\"2020-07-08\",\"2020-07-05\",\"2020-07-10\",\"2020-07-09\",\"2020-07-10\",\"2020-07-03\",\"2020-07-10\",\"2020-07-03\",\"2020-07-10\",\"2020-07-05\",\"2020-07-09\",\"2020-07-03\",\"2020-07-05\",\"2020-07-09\",\"2020-07-03\",\"2020-07-03\",\"2020-07-08\",\"2020-07-03\",\"2020-07-10\",\"2020-07-04\",\"2020-07-08\",\"2020-07-07\",\"2020-07-04\",\"2020-07-04\",\"2020-07-10\",\"2020-07-09\",\"2020-07-05\",\"2020-07-07\",\"2020-07-07\",\"2020-07-09\",\"2020-07-06\",\"2020-07-10\",\"2020-07-05\",\"2020-07-06\",\"2020-07-07\",\"2020-07-08\",\"2020-07-08\",\"2020-07-08\",\"2020-07-08\",\"2020-07-09\",\"2020-07-03\",\"2020-07-05\",\"2020-07-06\",\"2020-07-03\",\"2020-07-04\",\"2020-07-03\",\"2020-07-03\",\"2020-07-04\",\"2020-07-09\",\"2020-07-09\",\"2020-07-10\",\"2020-07-03\",\"2020-07-05\",\"2020-07-05\",\"2020-07-07\",\"2020-07-09\",\"2020-07-08\",\"2020-07-09\",\"2020-07-08\",\"2020-07-09\",\"2020-07-05\",\"2020-07-04\",\"2020-07-08\",\"2020-07-05\",\"2020-07-04\",\"2020-07-08\",\"2020-07-03\",\"2020-07-06\",\"2020-07-10\",\"2020-07-08\",\"2020-07-09\",\"2020-07-04\",\"2020-07-06\",\"2020-07-04\",\"2020-07-03\",\"2020-07-09\",\"2020-07-05\",\"2020-07-03\",\"2020-07-03\",\"2020-07-03\",\"2020-07-08\",\"2020-07-07\",\"2020-07-09\",\"2020-07-07\",\"2020-07-04\",\"2020-07-08\",\"2020-07-09\",\"2020-07-09\",\"2020-07-05\",\"2020-07-09\",\"2020-07-03\",\"2020-07-09\",\"2020-07-09\",\"2020-07-10\",\"2020-07-10\",\"2020-07-04\",\"2020-07-05\",\"2020-07-03\",\"2020-07-08\",\"2020-07-10\",\"2020-07-05\",\"2020-07-10\",\"2020-07-09\",\"2020-07-09\",\"2020-07-08\",\"2020-07-03\",\"2020-07-04\",\"2020-07-03\",\"2020-07-09\",\"2020-07-09\",\"2020-07-04\",\"2020-07-03\",\"2020-07-03\",\"2020-07-06\",\"2020-07-04\",\"2020-07-03\",\"2020-07-09\",\"2020-07-03\",\"2020-07-09\",\"2020-07-03\",\"2020-07-07\",\"2020-07-03\",\"2020-07-03\",\"2020-07-03\",\"2020-07-07\",\"2020-07-04\",\"2020-07-03\",\"2020-07-06\",\"2020-07-09\",\"2020-07-08\",\"2020-07-03\",\"2020-07-09\",\"2020-07-05\",\"2020-07-07\",\"2020-07-03\",\"2020-07-05\",\"2020-07-09\",\"2020-07-10\",\"2020-07-08\",\"2020-07-08\",\"2020-07-08\",\"2020-07-07\",\"2020-07-09\",\"2020-07-04\",\"2020-07-08\",\"2020-07-03\",\"2020-07-08\",\"2020-07-05\",\"2020-07-04\",\"2020-07-05\",\"2020-07-08\",\"2020-07-05\",\"2020-07-04\",\"2020-07-06\",\"2020-07-04\",\"2020-07-04\",\"2020-07-10\",\"2020-07-10\",\"2020-07-07\",\"2020-07-09\",\"2020-07-04\",\"2020-07-03\",\"2020-07-09\",\"2020-07-08\",\"2020-07-09\",\"2020-07-03\",\"2020-07-08\",\"2020-07-03\",\"2020-07-05\",\"2020-07-03\",\"2020-07-03\",\"2020-07-03\",\"2020-07-03\",\"2020-07-06\",\"2020-07-03\",\"2020-07-09\",\"2020-07-03\",\"2020-07-04\",\"2020-07-04\",\"2020-07-10\",\"2020-07-03\",\"2020-07-10\",\"2020-07-03\",\"2020-07-03\",\"2020-07-03\",\"2020-07-03\",\"2020-07-08\",\"2020-07-05\",\"2020-07-05\",\"2020-07-04\",\"2020-07-08\",\"2020-07-03\",\"2020-07-04\",\"2020-07-04\",\"2020-07-03\",\"2020-07-09\",\"2020-07-03\",\"2020-07-03\",\"2020-07-08\",\"2020-07-08\",\"2020-07-07\",\"2020-07-08\",\"2020-07-03\",\"2020-07-06\",\"2020-07-04\",\"2020-07-04\",\"2020-07-03\",\"2020-07-06\",\"2020-07-06\",\"2020-07-04\",\"2020-07-04\",\"2020-07-10\",\"2020-07-04\",\"2020-07-10\",\"2020-07-10\",\"2020-07-09\",\"2020-07-08\",\"2020-07-09\",\"2020-07-08\",\"2020-07-03\",\"2020-07-09\",\"2020-07-06\",\"2020-07-07\",\"2020-07-05\",\"2020-07-05\",\"2020-07-05\",\"2020-07-06\",\"2020-07-04\",\"2020-07-08\",\"2020-07-10\",\"2020-07-07\",\"2020-07-09\",\"2020-07-06\",\"2020-07-05\",\"2020-07-03\",\"2020-07-03\",\"2020-07-07\",\"2020-07-09\",\"2020-07-08\",\"2020-07-03\",\"2020-07-08\",\"2020-07-04\",\"2020-07-10\",\"2020-07-03\",\"2020-07-09\",\"2020-07-03\",\"2020-07-09\",\"2020-07-08\",\"2020-07-08\",\"2020-07-09\",\"2020-07-06\",\"2020-07-10\",\"2020-07-10\",\"2020-07-10\",\"2020-07-10\",\"2020-07-04\",\"2020-07-04\",\"2020-07-03\",\"2020-07-03\",\"2020-07-09\",\"2020-07-10\",\"2020-07-05\",\"2020-07-08\",\"2020-07-08\",\"2020-07-04\",\"2020-07-04\",\"2020-07-07\",\"2020-07-07\",\"2020-07-09\",\"2020-07-03\",\"2020-07-03\",\"2020-07-06\",\"2020-07-05\",\"2020-07-04\",\"2020-07-03\",\"2020-07-06\",\"2020-07-03\",\"2020-07-05\",\"2020-07-03\",\"2020-07-03\",\"2020-07-07\",\"2020-07-08\",\"2020-07-09\",\"2020-07-06\",\"2020-07-04\",\"2020-07-10\",\"2020-07-07\",\"2020-07-08\",\"2020-07-04\",\"2020-07-10\",\"2020-07-10\",\"2020-07-08\",\"2020-07-10\",\"2020-07-04\",\"2020-07-07\",\"2020-07-07\",\"2020-07-03\",\"2020-07-08\",\"2020-07-03\",\"2020-07-04\",\"2020-07-04\",\"2020-07-09\",\"2020-07-05\",\"2020-07-03\",\"2020-07-05\",\"2020-07-10\",\"2020-07-03\",\"2020-07-06\",\"2020-07-10\",\"2020-07-09\",\"2020-07-07\",\"2020-07-09\",\"2020-07-07\",\"2020-07-03\",\"2020-07-08\",\"2020-07-04\",\"2020-07-10\",\"2020-07-06\",\"2020-07-08\",\"2020-07-07\",\"2020-07-09\",\"2020-07-06\",\"2020-07-04\",\"2020-07-03\",\"2020-07-08\",\"2020-07-03\",\"2020-07-05\",\"2020-07-07\",\"2020-07-04\",\"2020-07-05\",\"2020-07-09\",\"2020-07-07\",\"2020-07-10\",\"2020-07-03\",\"2020-07-03\",\"2020-07-03\",\"2020-07-09\",\"2020-07-10\",\"2020-07-03\",\"2020-07-05\",\"2020-07-03\",\"2020-07-10\",\"2020-07-07\",\"2020-07-03\",\"2020-07-03\",\"2020-07-09\",\"2020-07-08\",\"2020-07-04\",\"2020-07-09\",\"2020-07-07\",\"2020-07-08\",\"2020-07-04\",\"2020-07-08\",\"2020-07-10\",\"2020-07-08\",\"2020-07-08\",\"2020-07-10\",\"2020-07-04\",\"2020-07-03\",\"2020-07-06\",\"2020-07-03\",\"2020-07-04\",\"2020-07-03\",\"2020-07-09\",\"2020-07-06\",\"2020-07-08\",\"2020-07-03\",\"2020-07-07\",\"2020-07-03\",\"2020-07-09\",\"2020-07-03\",\"2020-07-07\",\"2020-07-09\",\"2020-07-03\",\"2020-07-08\",\"2020-07-08\",\"2020-07-07\",\"2020-07-03\",\"2020-07-04\",\"2020-07-07\",\"2020-07-10\",\"2020-07-09\",\"2020-07-08\",\"2020-07-08\",\"2020-07-03\",\"2020-07-03\",\"2020-07-03\",\"2020-07-08\",\"2020-07-10\",\"2020-07-09\",\"2020-07-04\",\"2020-07-08\",\"2020-07-04\",\"2020-07-05\",\"2020-07-08\",\"2020-07-03\",\"2020-07-03\",\"2020-07-03\",\"2020-07-09\",\"2020-07-04\",\"2020-07-03\",\"2020-07-09\",\"2020-07-08\",\"2020-07-09\",\"2020-07-10\",\"2020-07-08\",\"2020-07-03\",\"2020-07-04\",\"2020-07-04\",\"2020-07-03\",\"2020-07-08\",\"2020-07-03\",\"2020-07-09\",\"2020-07-03\",\"2020-07-03\",\"2020-07-03\",\"2020-07-10\",\"2020-07-03\",\"2020-07-03\",\"2020-07-09\",\"2020-07-10\",\"2020-07-05\",\"2020-07-05\",\"2020-07-08\",\"2020-07-09\",\"2020-07-05\",\"2020-07-04\",\"2020-07-05\",\"2020-07-08\",\"2020-07-04\",\"2020-07-04\",\"2020-07-03\",\"2020-07-06\",\"2020-07-09\",\"2020-07-07\",\"2020-07-05\",\"2020-07-10\",\"2020-07-04\",\"2020-07-10\",\"2020-07-03\",\"2020-07-03\",\"2020-07-03\",\"2020-07-10\",\"2020-07-03\",\"2020-07-08\",\"2020-07-10\",\"2020-07-08\",\"2020-07-03\",\"2020-07-10\",\"2020-07-09\",\"2020-07-05\",\"2020-07-04\",\"2020-07-03\",\"2020-07-08\",\"2020-07-04\",\"2020-07-09\",\"2020-07-06\",\"2020-07-03\",\"2020-07-03\",\"2020-07-03\",\"2020-07-03\",\"2020-07-07\",\"2020-07-06\",\"2020-07-08\",\"2020-07-09\",\"2020-07-09\",\"2020-07-05\",\"2020-07-04\",\"2020-07-03\",\"2020-07-09\",\"2020-07-04\",\"2020-07-04\",\"2020-07-07\",\"2020-07-04\",\"2020-07-03\",\"2020-07-04\",\"2020-07-09\",\"2020-07-10\",\"2020-07-09\",\"2020-07-07\",\"2020-07-04\",\"2020-07-09\",\"2020-07-03\",\"2020-07-03\",\"2020-07-10\",\"2020-07-05\",\"2020-07-08\",\"2020-07-08\",\"2020-07-08\",\"2020-07-08\",\"2020-07-03\",\"2020-07-03\",\"2020-07-05\",\"2020-07-08\",\"2020-07-04\",\"2020-07-03\",\"2020-07-03\",\"2020-07-03\",\"2020-07-10\",\"2020-07-09\",\"2020-07-04\",\"2020-07-06\",\"2020-07-06\",\"2020-07-04\",\"2020-07-09\",\"2020-07-03\",\"2020-07-06\",\"2020-07-09\",\"2020-07-03\",\"2020-07-05\",\"2020-07-08\",\"2020-07-03\",\"2020-07-10\",\"2020-07-03\",\"2020-07-06\",\"2020-07-06\",\"2020-07-05\",\"2020-07-05\",\"2020-07-03\",\"2020-07-03\",\"2020-07-08\",\"2020-07-03\",\"2020-07-04\",\"2020-07-07\",\"2020-07-03\",\"2020-07-07\",\"2020-07-09\",\"2020-07-09\",\"2020-07-06\",\"2020-07-09\",\"2020-07-04\",\"2020-07-03\",\"2020-07-03\",\"2020-07-03\",\"2020-07-03\",\"2020-07-03\",\"2020-07-08\",\"2020-07-08\",\"2020-07-03\",\"2020-07-10\",\"2020-07-03\",\"2020-07-05\",\"2020-07-08\",\"2020-07-04\",\"2020-07-10\",\"2020-07-03\",\"2020-07-03\",\"2020-07-08\",\"2020-07-03\",\"2020-07-07\",\"2020-07-03\",\"2020-07-09\",\"2020-07-07\",\"2020-07-07\",\"2020-07-08\",\"2020-07-10\",\"2020-07-10\",\"2020-07-05\",\"2020-07-04\",\"2020-07-10\",\"2020-07-09\",\"2020-07-03\",\"2020-07-10\",\"2020-07-05\",\"2020-07-03\",\"2020-07-05\",\"2020-07-04\",\"2020-07-08\",\"2020-07-09\",\"2020-07-09\",\"2020-07-10\",\"2020-07-03\"],\"xaxis\":\"x\",\"yaxis\":\"y\",\"type\":\"histogram\"}],                        {\"template\":{\"data\":{\"histogram2dcontour\":[{\"type\":\"histogram2dcontour\",\"colorbar\":{\"outlinewidth\":0,\"ticks\":\"\"},\"colorscale\":[[0.0,\"#0d0887\"],[0.1111111111111111,\"#46039f\"],[0.2222222222222222,\"#7201a8\"],[0.3333333333333333,\"#9c179e\"],[0.4444444444444444,\"#bd3786\"],[0.5555555555555556,\"#d8576b\"],[0.6666666666666666,\"#ed7953\"],[0.7777777777777778,\"#fb9f3a\"],[0.8888888888888888,\"#fdca26\"],[1.0,\"#f0f921\"]]}],\"choropleth\":[{\"type\":\"choropleth\",\"colorbar\":{\"outlinewidth\":0,\"ticks\":\"\"}}],\"histogram2d\":[{\"type\":\"histogram2d\",\"colorbar\":{\"outlinewidth\":0,\"ticks\":\"\"},\"colorscale\":[[0.0,\"#0d0887\"],[0.1111111111111111,\"#46039f\"],[0.2222222222222222,\"#7201a8\"],[0.3333333333333333,\"#9c179e\"],[0.4444444444444444,\"#bd3786\"],[0.5555555555555556,\"#d8576b\"],[0.6666666666666666,\"#ed7953\"],[0.7777777777777778,\"#fb9f3a\"],[0.8888888888888888,\"#fdca26\"],[1.0,\"#f0f921\"]]}],\"heatmap\":[{\"type\":\"heatmap\",\"colorbar\":{\"outlinewidth\":0,\"ticks\":\"\"},\"colorscale\":[[0.0,\"#0d0887\"],[0.1111111111111111,\"#46039f\"],[0.2222222222222222,\"#7201a8\"],[0.3333333333333333,\"#9c179e\"],[0.4444444444444444,\"#bd3786\"],[0.5555555555555556,\"#d8576b\"],[0.6666666666666666,\"#ed7953\"],[0.7777777777777778,\"#fb9f3a\"],[0.8888888888888888,\"#fdca26\"],[1.0,\"#f0f921\"]]}],\"heatmapgl\":[{\"type\":\"heatmapgl\",\"colorbar\":{\"outlinewidth\":0,\"ticks\":\"\"},\"colorscale\":[[0.0,\"#0d0887\"],[0.1111111111111111,\"#46039f\"],[0.2222222222222222,\"#7201a8\"],[0.3333333333333333,\"#9c179e\"],[0.4444444444444444,\"#bd3786\"],[0.5555555555555556,\"#d8576b\"],[0.6666666666666666,\"#ed7953\"],[0.7777777777777778,\"#fb9f3a\"],[0.8888888888888888,\"#fdca26\"],[1.0,\"#f0f921\"]]}],\"contourcarpet\":[{\"type\":\"contourcarpet\",\"colorbar\":{\"outlinewidth\":0,\"ticks\":\"\"}}],\"contour\":[{\"type\":\"contour\",\"colorbar\":{\"outlinewidth\":0,\"ticks\":\"\"},\"colorscale\":[[0.0,\"#0d0887\"],[0.1111111111111111,\"#46039f\"],[0.2222222222222222,\"#7201a8\"],[0.3333333333333333,\"#9c179e\"],[0.4444444444444444,\"#bd3786\"],[0.5555555555555556,\"#d8576b\"],[0.6666666666666666,\"#ed7953\"],[0.7777777777777778,\"#fb9f3a\"],[0.8888888888888888,\"#fdca26\"],[1.0,\"#f0f921\"]]}],\"surface\":[{\"type\":\"surface\",\"colorbar\":{\"outlinewidth\":0,\"ticks\":\"\"},\"colorscale\":[[0.0,\"#0d0887\"],[0.1111111111111111,\"#46039f\"],[0.2222222222222222,\"#7201a8\"],[0.3333333333333333,\"#9c179e\"],[0.4444444444444444,\"#bd3786\"],[0.5555555555555556,\"#d8576b\"],[0.6666666666666666,\"#ed7953\"],[0.7777777777777778,\"#fb9f3a\"],[0.8888888888888888,\"#fdca26\"],[1.0,\"#f0f921\"]]}],\"mesh3d\":[{\"type\":\"mesh3d\",\"colorbar\":{\"outlinewidth\":0,\"ticks\":\"\"}}],\"scatter\":[{\"fillpattern\":{\"fillmode\":\"overlay\",\"size\":10,\"solidity\":0.2},\"type\":\"scatter\"}],\"parcoords\":[{\"type\":\"parcoords\",\"line\":{\"colorbar\":{\"outlinewidth\":0,\"ticks\":\"\"}}}],\"scatterpolargl\":[{\"type\":\"scatterpolargl\",\"marker\":{\"colorbar\":{\"outlinewidth\":0,\"ticks\":\"\"}}}],\"bar\":[{\"error_x\":{\"color\":\"#2a3f5f\"},\"error_y\":{\"color\":\"#2a3f5f\"},\"marker\":{\"line\":{\"color\":\"#E5ECF6\",\"width\":0.5},\"pattern\":{\"fillmode\":\"overlay\",\"size\":10,\"solidity\":0.2}},\"type\":\"bar\"}],\"scattergeo\":[{\"type\":\"scattergeo\",\"marker\":{\"colorbar\":{\"outlinewidth\":0,\"ticks\":\"\"}}}],\"scatterpolar\":[{\"type\":\"scatterpolar\",\"marker\":{\"colorbar\":{\"outlinewidth\":0,\"ticks\":\"\"}}}],\"histogram\":[{\"marker\":{\"pattern\":{\"fillmode\":\"overlay\",\"size\":10,\"solidity\":0.2}},\"type\":\"histogram\"}],\"scattergl\":[{\"type\":\"scattergl\",\"marker\":{\"colorbar\":{\"outlinewidth\":0,\"ticks\":\"\"}}}],\"scatter3d\":[{\"type\":\"scatter3d\",\"line\":{\"colorbar\":{\"outlinewidth\":0,\"ticks\":\"\"}},\"marker\":{\"colorbar\":{\"outlinewidth\":0,\"ticks\":\"\"}}}],\"scattermapbox\":[{\"type\":\"scattermapbox\",\"marker\":{\"colorbar\":{\"outlinewidth\":0,\"ticks\":\"\"}}}],\"scatterternary\":[{\"type\":\"scatterternary\",\"marker\":{\"colorbar\":{\"outlinewidth\":0,\"ticks\":\"\"}}}],\"scattercarpet\":[{\"type\":\"scattercarpet\",\"marker\":{\"colorbar\":{\"outlinewidth\":0,\"ticks\":\"\"}}}],\"carpet\":[{\"aaxis\":{\"endlinecolor\":\"#2a3f5f\",\"gridcolor\":\"white\",\"linecolor\":\"white\",\"minorgridcolor\":\"white\",\"startlinecolor\":\"#2a3f5f\"},\"baxis\":{\"endlinecolor\":\"#2a3f5f\",\"gridcolor\":\"white\",\"linecolor\":\"white\",\"minorgridcolor\":\"white\",\"startlinecolor\":\"#2a3f5f\"},\"type\":\"carpet\"}],\"table\":[{\"cells\":{\"fill\":{\"color\":\"#EBF0F8\"},\"line\":{\"color\":\"white\"}},\"header\":{\"fill\":{\"color\":\"#C8D4E3\"},\"line\":{\"color\":\"white\"}},\"type\":\"table\"}],\"barpolar\":[{\"marker\":{\"line\":{\"color\":\"#E5ECF6\",\"width\":0.5},\"pattern\":{\"fillmode\":\"overlay\",\"size\":10,\"solidity\":0.2}},\"type\":\"barpolar\"}],\"pie\":[{\"automargin\":true,\"type\":\"pie\"}]},\"layout\":{\"autotypenumbers\":\"strict\",\"colorway\":[\"#636efa\",\"#EF553B\",\"#00cc96\",\"#ab63fa\",\"#FFA15A\",\"#19d3f3\",\"#FF6692\",\"#B6E880\",\"#FF97FF\",\"#FECB52\"],\"font\":{\"color\":\"#2a3f5f\"},\"hovermode\":\"closest\",\"hoverlabel\":{\"align\":\"left\"},\"paper_bgcolor\":\"white\",\"plot_bgcolor\":\"#E5ECF6\",\"polar\":{\"bgcolor\":\"#E5ECF6\",\"angularaxis\":{\"gridcolor\":\"white\",\"linecolor\":\"white\",\"ticks\":\"\"},\"radialaxis\":{\"gridcolor\":\"white\",\"linecolor\":\"white\",\"ticks\":\"\"}},\"ternary\":{\"bgcolor\":\"#E5ECF6\",\"aaxis\":{\"gridcolor\":\"white\",\"linecolor\":\"white\",\"ticks\":\"\"},\"baxis\":{\"gridcolor\":\"white\",\"linecolor\":\"white\",\"ticks\":\"\"},\"caxis\":{\"gridcolor\":\"white\",\"linecolor\":\"white\",\"ticks\":\"\"}},\"coloraxis\":{\"colorbar\":{\"outlinewidth\":0,\"ticks\":\"\"}},\"colorscale\":{\"sequential\":[[0.0,\"#0d0887\"],[0.1111111111111111,\"#46039f\"],[0.2222222222222222,\"#7201a8\"],[0.3333333333333333,\"#9c179e\"],[0.4444444444444444,\"#bd3786\"],[0.5555555555555556,\"#d8576b\"],[0.6666666666666666,\"#ed7953\"],[0.7777777777777778,\"#fb9f3a\"],[0.8888888888888888,\"#fdca26\"],[1.0,\"#f0f921\"]],\"sequentialminus\":[[0.0,\"#0d0887\"],[0.1111111111111111,\"#46039f\"],[0.2222222222222222,\"#7201a8\"],[0.3333333333333333,\"#9c179e\"],[0.4444444444444444,\"#bd3786\"],[0.5555555555555556,\"#d8576b\"],[0.6666666666666666,\"#ed7953\"],[0.7777777777777778,\"#fb9f3a\"],[0.8888888888888888,\"#fdca26\"],[1.0,\"#f0f921\"]],\"diverging\":[[0,\"#8e0152\"],[0.1,\"#c51b7d\"],[0.2,\"#de77ae\"],[0.3,\"#f1b6da\"],[0.4,\"#fde0ef\"],[0.5,\"#f7f7f7\"],[0.6,\"#e6f5d0\"],[0.7,\"#b8e186\"],[0.8,\"#7fbc41\"],[0.9,\"#4d9221\"],[1,\"#276419\"]]},\"xaxis\":{\"gridcolor\":\"white\",\"linecolor\":\"white\",\"ticks\":\"\",\"title\":{\"standoff\":15},\"zerolinecolor\":\"white\",\"automargin\":true,\"zerolinewidth\":2},\"yaxis\":{\"gridcolor\":\"white\",\"linecolor\":\"white\",\"ticks\":\"\",\"title\":{\"standoff\":15},\"zerolinecolor\":\"white\",\"automargin\":true,\"zerolinewidth\":2},\"scene\":{\"xaxis\":{\"backgroundcolor\":\"#E5ECF6\",\"gridcolor\":\"white\",\"linecolor\":\"white\",\"showbackground\":true,\"ticks\":\"\",\"zerolinecolor\":\"white\",\"gridwidth\":2},\"yaxis\":{\"backgroundcolor\":\"#E5ECF6\",\"gridcolor\":\"white\",\"linecolor\":\"white\",\"showbackground\":true,\"ticks\":\"\",\"zerolinecolor\":\"white\",\"gridwidth\":2},\"zaxis\":{\"backgroundcolor\":\"#E5ECF6\",\"gridcolor\":\"white\",\"linecolor\":\"white\",\"showbackground\":true,\"ticks\":\"\",\"zerolinecolor\":\"white\",\"gridwidth\":2}},\"shapedefaults\":{\"line\":{\"color\":\"#2a3f5f\"}},\"annotationdefaults\":{\"arrowcolor\":\"#2a3f5f\",\"arrowhead\":0,\"arrowwidth\":1},\"geo\":{\"bgcolor\":\"white\",\"landcolor\":\"#E5ECF6\",\"subunitcolor\":\"white\",\"showland\":true,\"showlakes\":true,\"lakecolor\":\"white\"},\"title\":{\"x\":0.05},\"mapbox\":{\"style\":\"light\"}}},\"xaxis\":{\"anchor\":\"y\",\"domain\":[0.0,1.0],\"title\":{\"text\":\"date\"}},\"yaxis\":{\"anchor\":\"x\",\"domain\":[0.0,1.0],\"title\":{\"text\":\"count\"}},\"legend\":{\"tracegroupgap\":0},\"margin\":{\"t\":60},\"barmode\":\"relative\"},                        {\"responsive\": true}                    ).then(function(){\n",
       "                            \n",
       "var gd = document.getElementById('6ba2ffb8-a8d2-4757-82ce-40d7ed703567');\n",
       "var x = new MutationObserver(function (mutations, observer) {{\n",
       "        var display = window.getComputedStyle(gd).display;\n",
       "        if (!display || display === 'none') {{\n",
       "            console.log([gd, 'removed!']);\n",
       "            Plotly.purge(gd);\n",
       "            observer.disconnect();\n",
       "        }}\n",
       "}});\n",
       "\n",
       "// Listen for the removal of the full notebook cells\n",
       "var notebookContainer = gd.closest('#notebook-container');\n",
       "if (notebookContainer) {{\n",
       "    x.observe(notebookContainer, {childList: true});\n",
       "}}\n",
       "\n",
       "// Listen for the clearing of the current output cell\n",
       "var outputEl = gd.closest('.output');\n",
       "if (outputEl) {{\n",
       "    x.observe(outputEl, {childList: true});\n",
       "}}\n",
       "\n",
       "                        })                };                });            </script>        </div>"
      ]
     },
     "metadata": {},
     "output_type": "display_data"
    }
   ],
   "source": [
    "fig = px.histogram(response, x=\"date\")\n",
    "fig.show()"
   ]
  },
  {
   "cell_type": "code",
   "execution_count": 34,
   "id": "7f0249fd",
   "metadata": {},
   "outputs": [
    {
     "data": {
      "text/html": [
       "<div>\n",
       "<style scoped>\n",
       "    .dataframe tbody tr th:only-of-type {\n",
       "        vertical-align: middle;\n",
       "    }\n",
       "\n",
       "    .dataframe tbody tr th {\n",
       "        vertical-align: top;\n",
       "    }\n",
       "\n",
       "    .dataframe thead th {\n",
       "        text-align: right;\n",
       "    }\n",
       "</style>\n",
       "<table border=\"1\" class=\"dataframe\">\n",
       "  <thead>\n",
       "    <tr style=\"text-align: right;\">\n",
       "      <th></th>\n",
       "      <th>hour</th>\n",
       "      <th>count</th>\n",
       "    </tr>\n",
       "  </thead>\n",
       "  <tbody>\n",
       "    <tr>\n",
       "      <th>0</th>\n",
       "      <td>0</td>\n",
       "      <td>31</td>\n",
       "    </tr>\n",
       "    <tr>\n",
       "      <th>1</th>\n",
       "      <td>1</td>\n",
       "      <td>32</td>\n",
       "    </tr>\n",
       "    <tr>\n",
       "      <th>2</th>\n",
       "      <td>2</td>\n",
       "      <td>33</td>\n",
       "    </tr>\n",
       "    <tr>\n",
       "      <th>3</th>\n",
       "      <td>3</td>\n",
       "      <td>44</td>\n",
       "    </tr>\n",
       "    <tr>\n",
       "      <th>4</th>\n",
       "      <td>4</td>\n",
       "      <td>46</td>\n",
       "    </tr>\n",
       "    <tr>\n",
       "      <th>5</th>\n",
       "      <td>5</td>\n",
       "      <td>49</td>\n",
       "    </tr>\n",
       "    <tr>\n",
       "      <th>6</th>\n",
       "      <td>6</td>\n",
       "      <td>50</td>\n",
       "    </tr>\n",
       "    <tr>\n",
       "      <th>7</th>\n",
       "      <td>7</td>\n",
       "      <td>59</td>\n",
       "    </tr>\n",
       "    <tr>\n",
       "      <th>8</th>\n",
       "      <td>8</td>\n",
       "      <td>67</td>\n",
       "    </tr>\n",
       "    <tr>\n",
       "      <th>9</th>\n",
       "      <td>9</td>\n",
       "      <td>57</td>\n",
       "    </tr>\n",
       "    <tr>\n",
       "      <th>10</th>\n",
       "      <td>10</td>\n",
       "      <td>57</td>\n",
       "    </tr>\n",
       "    <tr>\n",
       "      <th>11</th>\n",
       "      <td>11</td>\n",
       "      <td>44</td>\n",
       "    </tr>\n",
       "    <tr>\n",
       "      <th>12</th>\n",
       "      <td>12</td>\n",
       "      <td>42</td>\n",
       "    </tr>\n",
       "    <tr>\n",
       "      <th>13</th>\n",
       "      <td>13</td>\n",
       "      <td>41</td>\n",
       "    </tr>\n",
       "    <tr>\n",
       "      <th>14</th>\n",
       "      <td>14</td>\n",
       "      <td>51</td>\n",
       "    </tr>\n",
       "    <tr>\n",
       "      <th>15</th>\n",
       "      <td>15</td>\n",
       "      <td>281</td>\n",
       "    </tr>\n",
       "    <tr>\n",
       "      <th>16</th>\n",
       "      <td>16</td>\n",
       "      <td>44</td>\n",
       "    </tr>\n",
       "    <tr>\n",
       "      <th>17</th>\n",
       "      <td>17</td>\n",
       "      <td>34</td>\n",
       "    </tr>\n",
       "    <tr>\n",
       "      <th>18</th>\n",
       "      <td>18</td>\n",
       "      <td>38</td>\n",
       "    </tr>\n",
       "    <tr>\n",
       "      <th>19</th>\n",
       "      <td>19</td>\n",
       "      <td>38</td>\n",
       "    </tr>\n",
       "    <tr>\n",
       "      <th>20</th>\n",
       "      <td>20</td>\n",
       "      <td>45</td>\n",
       "    </tr>\n",
       "    <tr>\n",
       "      <th>21</th>\n",
       "      <td>21</td>\n",
       "      <td>34</td>\n",
       "    </tr>\n",
       "    <tr>\n",
       "      <th>22</th>\n",
       "      <td>22</td>\n",
       "      <td>21</td>\n",
       "    </tr>\n",
       "    <tr>\n",
       "      <th>23</th>\n",
       "      <td>23</td>\n",
       "      <td>5</td>\n",
       "    </tr>\n",
       "  </tbody>\n",
       "</table>\n",
       "</div>"
      ],
      "text/plain": [
       "    hour  count\n",
       "0      0     31\n",
       "1      1     32\n",
       "2      2     33\n",
       "3      3     44\n",
       "4      4     46\n",
       "5      5     49\n",
       "6      6     50\n",
       "7      7     59\n",
       "8      8     67\n",
       "9      9     57\n",
       "10    10     57\n",
       "11    11     44\n",
       "12    12     42\n",
       "13    13     41\n",
       "14    14     51\n",
       "15    15    281\n",
       "16    16     44\n",
       "17    17     34\n",
       "18    18     38\n",
       "19    19     38\n",
       "20    20     45\n",
       "21    21     34\n",
       "22    22     21\n",
       "23    23      5"
      ]
     },
     "execution_count": 34,
     "metadata": {},
     "output_type": "execute_result"
    }
   ],
   "source": [
    "hour_data = response.groupby(['hour']).agg({'hour': ['count']})\n",
    "hour_data.columns = ['count']\n",
    "hour_data = hour_data.reset_index()\n",
    "hour_data"
   ]
  },
  {
   "cell_type": "code",
   "execution_count": 35,
   "id": "48887415",
   "metadata": {},
   "outputs": [
    {
     "data": {
      "application/vnd.plotly.v1+json": {
       "config": {
        "plotlyServerURL": "https://plot.ly"
       },
       "data": [
        {
         "alignmentgroup": "True",
         "bingroup": "x",
         "hovertemplate": "hour=%{x}<br>count=%{y}<extra></extra>",
         "legendgroup": "",
         "marker": {
          "color": "#636efa",
          "pattern": {
           "shape": ""
          }
         },
         "name": "",
         "offsetgroup": "",
         "orientation": "v",
         "showlegend": false,
         "type": "histogram",
         "x": [
          16,
          4,
          15,
          13,
          6,
          16,
          20,
          11,
          2,
          15,
          15,
          1,
          18,
          19,
          20,
          6,
          15,
          15,
          20,
          20,
          21,
          21,
          10,
          14,
          15,
          21,
          15,
          0,
          3,
          15,
          16,
          15,
          6,
          15,
          0,
          12,
          14,
          22,
          3,
          13,
          8,
          15,
          9,
          15,
          17,
          15,
          19,
          15,
          9,
          5,
          15,
          15,
          16,
          15,
          15,
          15,
          0,
          17,
          3,
          23,
          16,
          15,
          16,
          2,
          15,
          20,
          4,
          8,
          14,
          8,
          0,
          1,
          3,
          6,
          15,
          16,
          15,
          15,
          13,
          16,
          13,
          5,
          6,
          15,
          22,
          15,
          15,
          20,
          18,
          6,
          22,
          11,
          20,
          9,
          8,
          7,
          3,
          15,
          10,
          14,
          8,
          17,
          15,
          15,
          8,
          15,
          9,
          14,
          2,
          19,
          15,
          6,
          15,
          19,
          9,
          15,
          0,
          6,
          3,
          10,
          15,
          10,
          8,
          15,
          15,
          20,
          14,
          6,
          21,
          13,
          8,
          6,
          11,
          15,
          18,
          10,
          12,
          8,
          6,
          10,
          21,
          2,
          10,
          15,
          15,
          4,
          15,
          21,
          15,
          15,
          0,
          16,
          12,
          8,
          7,
          6,
          22,
          17,
          1,
          17,
          16,
          8,
          19,
          16,
          15,
          9,
          6,
          10,
          6,
          5,
          15,
          13,
          11,
          23,
          1,
          15,
          15,
          14,
          11,
          15,
          7,
          21,
          15,
          15,
          9,
          22,
          15,
          16,
          15,
          10,
          4,
          15,
          8,
          6,
          10,
          9,
          11,
          12,
          8,
          10,
          15,
          8,
          3,
          15,
          10,
          14,
          12,
          15,
          15,
          9,
          18,
          10,
          20,
          8,
          15,
          15,
          15,
          4,
          5,
          11,
          21,
          5,
          15,
          18,
          11,
          9,
          15,
          4,
          18,
          4,
          15,
          15,
          4,
          0,
          6,
          6,
          17,
          4,
          13,
          17,
          15,
          7,
          14,
          22,
          8,
          15,
          3,
          8,
          10,
          3,
          22,
          7,
          7,
          0,
          17,
          3,
          13,
          5,
          12,
          17,
          17,
          15,
          9,
          15,
          15,
          10,
          19,
          15,
          6,
          18,
          2,
          14,
          8,
          16,
          6,
          20,
          7,
          16,
          15,
          16,
          15,
          10,
          9,
          18,
          7,
          10,
          20,
          22,
          21,
          15,
          15,
          5,
          15,
          15,
          5,
          14,
          9,
          15,
          15,
          14,
          12,
          4,
          0,
          14,
          15,
          12,
          7,
          21,
          11,
          22,
          1,
          14,
          18,
          20,
          19,
          17,
          8,
          15,
          15,
          1,
          17,
          18,
          20,
          4,
          21,
          15,
          14,
          6,
          19,
          15,
          11,
          23,
          14,
          11,
          6,
          18,
          15,
          5,
          18,
          9,
          7,
          19,
          7,
          3,
          15,
          19,
          5,
          15,
          5,
          8,
          13,
          15,
          15,
          4,
          9,
          11,
          4,
          17,
          5,
          22,
          5,
          14,
          0,
          16,
          21,
          15,
          9,
          19,
          15,
          11,
          21,
          12,
          16,
          16,
          15,
          7,
          6,
          5,
          7,
          2,
          11,
          15,
          13,
          2,
          20,
          15,
          3,
          7,
          0,
          20,
          15,
          13,
          12,
          6,
          13,
          18,
          14,
          13,
          1,
          11,
          2,
          13,
          0,
          6,
          3,
          0,
          16,
          8,
          15,
          15,
          9,
          17,
          15,
          19,
          20,
          4,
          6,
          9,
          10,
          11,
          20,
          12,
          2,
          20,
          10,
          8,
          7,
          15,
          19,
          9,
          8,
          15,
          16,
          5,
          13,
          9,
          20,
          10,
          12,
          7,
          10,
          21,
          19,
          9,
          21,
          1,
          16,
          6,
          13,
          15,
          20,
          23,
          20,
          9,
          0,
          7,
          0,
          12,
          15,
          6,
          18,
          0,
          20,
          20,
          16,
          9,
          9,
          15,
          14,
          4,
          13,
          7,
          18,
          15,
          21,
          1,
          3,
          14,
          15,
          16,
          7,
          13,
          18,
          8,
          10,
          20,
          9,
          11,
          15,
          4,
          21,
          15,
          5,
          21,
          16,
          14,
          10,
          21,
          6,
          15,
          18,
          7,
          9,
          7,
          11,
          8,
          7,
          23,
          10,
          20,
          15,
          19,
          5,
          8,
          9,
          7,
          8,
          8,
          11,
          15,
          2,
          15,
          4,
          3,
          15,
          21,
          4,
          21,
          17,
          15,
          9,
          15,
          15,
          13,
          13,
          21,
          15,
          15,
          2,
          15,
          20,
          8,
          13,
          4,
          17,
          1,
          8,
          15,
          2,
          3,
          13,
          4,
          4,
          15,
          15,
          10,
          5,
          15,
          13,
          15,
          15,
          10,
          6,
          15,
          15,
          15,
          4,
          1,
          14,
          8,
          21,
          1,
          2,
          8,
          15,
          2,
          6,
          15,
          14,
          15,
          20,
          20,
          2,
          15,
          8,
          19,
          5,
          15,
          0,
          20,
          22,
          19,
          6,
          3,
          19,
          15,
          5,
          15,
          22,
          8,
          21,
          16,
          2,
          15,
          2,
          0,
          14,
          15,
          8,
          15,
          15,
          15,
          15,
          12,
          21,
          10,
          2,
          9,
          17,
          15,
          15,
          0,
          15,
          10,
          16,
          12,
          15,
          11,
          15,
          15,
          10,
          6,
          5,
          19,
          1,
          19,
          8,
          12,
          15,
          19,
          14,
          9,
          7,
          8,
          10,
          3,
          20,
          16,
          5,
          15,
          15,
          20,
          17,
          8,
          7,
          22,
          16,
          13,
          16,
          15,
          8,
          15,
          4,
          15,
          15,
          7,
          9,
          15,
          7,
          2,
          2,
          18,
          4,
          7,
          15,
          2,
          15,
          9,
          15,
          9,
          5,
          18,
          15,
          16,
          6,
          15,
          15,
          15,
          15,
          1,
          3,
          19,
          11,
          9,
          6,
          3,
          13,
          12,
          6,
          20,
          11,
          2,
          1,
          8,
          3,
          3,
          18,
          16,
          18,
          15,
          4,
          0,
          5,
          1,
          7,
          14,
          7,
          1,
          7,
          10,
          8,
          10,
          10,
          18,
          17,
          10,
          8,
          7,
          5,
          19,
          14,
          5,
          13,
          20,
          10,
          8,
          18,
          9,
          9,
          3,
          15,
          19,
          2,
          7,
          16,
          15,
          12,
          12,
          15,
          15,
          15,
          2,
          2,
          8,
          17,
          8,
          16,
          4,
          10,
          7,
          15,
          10,
          0,
          0,
          11,
          5,
          4,
          8,
          15,
          15,
          3,
          1,
          15,
          8,
          7,
          18,
          8,
          3,
          15,
          14,
          11,
          10,
          15,
          15,
          3,
          19,
          15,
          16,
          7,
          16,
          15,
          0,
          15,
          15,
          15,
          3,
          13,
          9,
          0,
          12,
          14,
          14,
          10,
          8,
          18,
          15,
          15,
          17,
          14,
          7,
          19,
          15,
          3,
          9,
          3,
          18,
          11,
          22,
          8,
          16,
          11,
          15,
          6,
          14,
          9,
          17,
          12,
          12,
          16,
          14,
          13,
          19,
          15,
          20,
          14,
          11,
          12,
          14,
          15,
          0,
          10,
          11,
          15,
          8,
          5,
          15,
          4,
          15,
          4,
          7,
          4,
          15,
          15,
          8,
          15,
          10,
          9,
          18,
          11,
          10,
          6,
          8,
          15,
          5,
          2,
          15,
          16,
          15,
          11,
          20,
          20,
          5,
          13,
          15,
          7,
          15,
          15,
          15,
          8,
          7,
          20,
          8,
          16,
          12,
          15,
          2,
          2,
          19,
          19,
          21,
          15,
          21,
          1,
          13,
          7,
          13,
          5,
          8,
          9,
          18,
          13,
          14,
          18,
          5,
          21,
          15,
          9,
          0,
          11,
          22,
          15,
          13,
          6,
          7,
          15,
          14,
          15,
          10,
          3,
          5,
          12,
          9,
          0,
          7,
          1,
          14,
          14,
          14,
          15,
          15,
          5,
          1,
          7,
          15,
          18,
          10,
          9,
          9,
          4,
          13,
          15,
          10,
          5,
          10,
          11,
          15,
          1,
          15,
          4,
          15,
          15,
          10,
          12,
          1,
          4,
          10,
          1,
          4,
          20,
          4,
          14,
          12,
          7,
          7,
          12,
          21,
          17,
          15,
          19,
          15,
          6,
          11,
          16,
          2,
          15,
          4,
          7,
          15,
          1,
          2,
          1,
          5,
          3,
          14,
          15,
          20,
          15,
          3,
          10,
          22,
          6,
          20,
          7,
          17,
          15,
          18,
          15,
          12,
          1,
          19,
          7,
          11,
          11,
          4,
          15,
          15,
          15,
          18,
          11,
          12,
          7,
          15,
          7,
          21,
          15,
          14,
          6,
          17,
          12,
          12,
          9,
          17,
          13,
          21,
          5,
          17,
          5,
          13,
          12,
          3,
          10,
          15,
          6,
          15,
          17,
          4,
          22,
          11,
          12,
          15,
          21,
          15,
          8,
          18,
          15,
          14,
          19,
          14,
          15,
          9,
          2,
          0,
          10,
          18,
          0,
          15,
          12,
          15,
          15,
          0,
          12,
          17,
          11,
          6,
          4,
          5,
          15,
          15,
          15,
          6,
          1,
          15,
          13,
          22,
          9,
          15,
          16,
          15,
          10,
          12,
          15,
          19,
          15,
          17,
          15,
          15,
          15,
          3,
          15,
          3,
          9,
          3,
          12,
          18,
          22,
          8,
          10,
          13,
          4,
          5,
          11,
          13,
          9,
          5,
          19,
          5,
          8,
          6,
          3,
          9,
          15,
          15,
          15,
          11,
          15,
          3,
          6,
          15,
          15,
          10,
          21,
          17,
          7,
          15,
          15,
          10,
          4,
          9,
          15,
          15,
          15,
          15,
          10,
          10,
          16,
          11,
          22,
          1,
          9,
          15,
          2,
          20,
          15,
          8,
          11,
          15,
          12,
          20,
          4,
          17,
          7,
          20,
          18,
          15,
          7,
          5,
          5,
          15,
          13,
          19,
          19,
          15,
          15,
          8,
          18,
          14,
          15,
          15,
          15,
          3,
          14,
          15,
          5,
          7,
          12,
          6,
          15,
          6,
          21,
          11,
          5,
          8,
          15,
          14,
          1,
          9,
          1,
          3,
          9,
          13,
          15,
          14,
          12,
          8,
          7,
          4,
          22,
          8,
          3,
          5,
          20,
          6,
          7,
          15,
          15,
          15,
          15,
          15,
          20,
          15,
          3,
          9,
          19,
          14,
          7,
          5,
          5,
          15,
          9,
          0,
          17,
          15,
          14,
          1,
          16,
          19,
          8,
          8,
          3,
          2,
          6,
          8,
          11,
          12,
          3,
          15,
          4,
          4,
          17,
          18,
          7,
          16,
          4
         ],
         "xaxis": "x",
         "yaxis": "y"
        }
       ],
       "layout": {
        "barmode": "relative",
        "legend": {
         "tracegroupgap": 0
        },
        "margin": {
         "t": 60
        },
        "template": {
         "data": {
          "bar": [
           {
            "error_x": {
             "color": "#2a3f5f"
            },
            "error_y": {
             "color": "#2a3f5f"
            },
            "marker": {
             "line": {
              "color": "#E5ECF6",
              "width": 0.5
             },
             "pattern": {
              "fillmode": "overlay",
              "size": 10,
              "solidity": 0.2
             }
            },
            "type": "bar"
           }
          ],
          "barpolar": [
           {
            "marker": {
             "line": {
              "color": "#E5ECF6",
              "width": 0.5
             },
             "pattern": {
              "fillmode": "overlay",
              "size": 10,
              "solidity": 0.2
             }
            },
            "type": "barpolar"
           }
          ],
          "carpet": [
           {
            "aaxis": {
             "endlinecolor": "#2a3f5f",
             "gridcolor": "white",
             "linecolor": "white",
             "minorgridcolor": "white",
             "startlinecolor": "#2a3f5f"
            },
            "baxis": {
             "endlinecolor": "#2a3f5f",
             "gridcolor": "white",
             "linecolor": "white",
             "minorgridcolor": "white",
             "startlinecolor": "#2a3f5f"
            },
            "type": "carpet"
           }
          ],
          "choropleth": [
           {
            "colorbar": {
             "outlinewidth": 0,
             "ticks": ""
            },
            "type": "choropleth"
           }
          ],
          "contour": [
           {
            "colorbar": {
             "outlinewidth": 0,
             "ticks": ""
            },
            "colorscale": [
             [
              0,
              "#0d0887"
             ],
             [
              0.1111111111111111,
              "#46039f"
             ],
             [
              0.2222222222222222,
              "#7201a8"
             ],
             [
              0.3333333333333333,
              "#9c179e"
             ],
             [
              0.4444444444444444,
              "#bd3786"
             ],
             [
              0.5555555555555556,
              "#d8576b"
             ],
             [
              0.6666666666666666,
              "#ed7953"
             ],
             [
              0.7777777777777778,
              "#fb9f3a"
             ],
             [
              0.8888888888888888,
              "#fdca26"
             ],
             [
              1,
              "#f0f921"
             ]
            ],
            "type": "contour"
           }
          ],
          "contourcarpet": [
           {
            "colorbar": {
             "outlinewidth": 0,
             "ticks": ""
            },
            "type": "contourcarpet"
           }
          ],
          "heatmap": [
           {
            "colorbar": {
             "outlinewidth": 0,
             "ticks": ""
            },
            "colorscale": [
             [
              0,
              "#0d0887"
             ],
             [
              0.1111111111111111,
              "#46039f"
             ],
             [
              0.2222222222222222,
              "#7201a8"
             ],
             [
              0.3333333333333333,
              "#9c179e"
             ],
             [
              0.4444444444444444,
              "#bd3786"
             ],
             [
              0.5555555555555556,
              "#d8576b"
             ],
             [
              0.6666666666666666,
              "#ed7953"
             ],
             [
              0.7777777777777778,
              "#fb9f3a"
             ],
             [
              0.8888888888888888,
              "#fdca26"
             ],
             [
              1,
              "#f0f921"
             ]
            ],
            "type": "heatmap"
           }
          ],
          "heatmapgl": [
           {
            "colorbar": {
             "outlinewidth": 0,
             "ticks": ""
            },
            "colorscale": [
             [
              0,
              "#0d0887"
             ],
             [
              0.1111111111111111,
              "#46039f"
             ],
             [
              0.2222222222222222,
              "#7201a8"
             ],
             [
              0.3333333333333333,
              "#9c179e"
             ],
             [
              0.4444444444444444,
              "#bd3786"
             ],
             [
              0.5555555555555556,
              "#d8576b"
             ],
             [
              0.6666666666666666,
              "#ed7953"
             ],
             [
              0.7777777777777778,
              "#fb9f3a"
             ],
             [
              0.8888888888888888,
              "#fdca26"
             ],
             [
              1,
              "#f0f921"
             ]
            ],
            "type": "heatmapgl"
           }
          ],
          "histogram": [
           {
            "marker": {
             "pattern": {
              "fillmode": "overlay",
              "size": 10,
              "solidity": 0.2
             }
            },
            "type": "histogram"
           }
          ],
          "histogram2d": [
           {
            "colorbar": {
             "outlinewidth": 0,
             "ticks": ""
            },
            "colorscale": [
             [
              0,
              "#0d0887"
             ],
             [
              0.1111111111111111,
              "#46039f"
             ],
             [
              0.2222222222222222,
              "#7201a8"
             ],
             [
              0.3333333333333333,
              "#9c179e"
             ],
             [
              0.4444444444444444,
              "#bd3786"
             ],
             [
              0.5555555555555556,
              "#d8576b"
             ],
             [
              0.6666666666666666,
              "#ed7953"
             ],
             [
              0.7777777777777778,
              "#fb9f3a"
             ],
             [
              0.8888888888888888,
              "#fdca26"
             ],
             [
              1,
              "#f0f921"
             ]
            ],
            "type": "histogram2d"
           }
          ],
          "histogram2dcontour": [
           {
            "colorbar": {
             "outlinewidth": 0,
             "ticks": ""
            },
            "colorscale": [
             [
              0,
              "#0d0887"
             ],
             [
              0.1111111111111111,
              "#46039f"
             ],
             [
              0.2222222222222222,
              "#7201a8"
             ],
             [
              0.3333333333333333,
              "#9c179e"
             ],
             [
              0.4444444444444444,
              "#bd3786"
             ],
             [
              0.5555555555555556,
              "#d8576b"
             ],
             [
              0.6666666666666666,
              "#ed7953"
             ],
             [
              0.7777777777777778,
              "#fb9f3a"
             ],
             [
              0.8888888888888888,
              "#fdca26"
             ],
             [
              1,
              "#f0f921"
             ]
            ],
            "type": "histogram2dcontour"
           }
          ],
          "mesh3d": [
           {
            "colorbar": {
             "outlinewidth": 0,
             "ticks": ""
            },
            "type": "mesh3d"
           }
          ],
          "parcoords": [
           {
            "line": {
             "colorbar": {
              "outlinewidth": 0,
              "ticks": ""
             }
            },
            "type": "parcoords"
           }
          ],
          "pie": [
           {
            "automargin": true,
            "type": "pie"
           }
          ],
          "scatter": [
           {
            "fillpattern": {
             "fillmode": "overlay",
             "size": 10,
             "solidity": 0.2
            },
            "type": "scatter"
           }
          ],
          "scatter3d": [
           {
            "line": {
             "colorbar": {
              "outlinewidth": 0,
              "ticks": ""
             }
            },
            "marker": {
             "colorbar": {
              "outlinewidth": 0,
              "ticks": ""
             }
            },
            "type": "scatter3d"
           }
          ],
          "scattercarpet": [
           {
            "marker": {
             "colorbar": {
              "outlinewidth": 0,
              "ticks": ""
             }
            },
            "type": "scattercarpet"
           }
          ],
          "scattergeo": [
           {
            "marker": {
             "colorbar": {
              "outlinewidth": 0,
              "ticks": ""
             }
            },
            "type": "scattergeo"
           }
          ],
          "scattergl": [
           {
            "marker": {
             "colorbar": {
              "outlinewidth": 0,
              "ticks": ""
             }
            },
            "type": "scattergl"
           }
          ],
          "scattermapbox": [
           {
            "marker": {
             "colorbar": {
              "outlinewidth": 0,
              "ticks": ""
             }
            },
            "type": "scattermapbox"
           }
          ],
          "scatterpolar": [
           {
            "marker": {
             "colorbar": {
              "outlinewidth": 0,
              "ticks": ""
             }
            },
            "type": "scatterpolar"
           }
          ],
          "scatterpolargl": [
           {
            "marker": {
             "colorbar": {
              "outlinewidth": 0,
              "ticks": ""
             }
            },
            "type": "scatterpolargl"
           }
          ],
          "scatterternary": [
           {
            "marker": {
             "colorbar": {
              "outlinewidth": 0,
              "ticks": ""
             }
            },
            "type": "scatterternary"
           }
          ],
          "surface": [
           {
            "colorbar": {
             "outlinewidth": 0,
             "ticks": ""
            },
            "colorscale": [
             [
              0,
              "#0d0887"
             ],
             [
              0.1111111111111111,
              "#46039f"
             ],
             [
              0.2222222222222222,
              "#7201a8"
             ],
             [
              0.3333333333333333,
              "#9c179e"
             ],
             [
              0.4444444444444444,
              "#bd3786"
             ],
             [
              0.5555555555555556,
              "#d8576b"
             ],
             [
              0.6666666666666666,
              "#ed7953"
             ],
             [
              0.7777777777777778,
              "#fb9f3a"
             ],
             [
              0.8888888888888888,
              "#fdca26"
             ],
             [
              1,
              "#f0f921"
             ]
            ],
            "type": "surface"
           }
          ],
          "table": [
           {
            "cells": {
             "fill": {
              "color": "#EBF0F8"
             },
             "line": {
              "color": "white"
             }
            },
            "header": {
             "fill": {
              "color": "#C8D4E3"
             },
             "line": {
              "color": "white"
             }
            },
            "type": "table"
           }
          ]
         },
         "layout": {
          "annotationdefaults": {
           "arrowcolor": "#2a3f5f",
           "arrowhead": 0,
           "arrowwidth": 1
          },
          "autotypenumbers": "strict",
          "coloraxis": {
           "colorbar": {
            "outlinewidth": 0,
            "ticks": ""
           }
          },
          "colorscale": {
           "diverging": [
            [
             0,
             "#8e0152"
            ],
            [
             0.1,
             "#c51b7d"
            ],
            [
             0.2,
             "#de77ae"
            ],
            [
             0.3,
             "#f1b6da"
            ],
            [
             0.4,
             "#fde0ef"
            ],
            [
             0.5,
             "#f7f7f7"
            ],
            [
             0.6,
             "#e6f5d0"
            ],
            [
             0.7,
             "#b8e186"
            ],
            [
             0.8,
             "#7fbc41"
            ],
            [
             0.9,
             "#4d9221"
            ],
            [
             1,
             "#276419"
            ]
           ],
           "sequential": [
            [
             0,
             "#0d0887"
            ],
            [
             0.1111111111111111,
             "#46039f"
            ],
            [
             0.2222222222222222,
             "#7201a8"
            ],
            [
             0.3333333333333333,
             "#9c179e"
            ],
            [
             0.4444444444444444,
             "#bd3786"
            ],
            [
             0.5555555555555556,
             "#d8576b"
            ],
            [
             0.6666666666666666,
             "#ed7953"
            ],
            [
             0.7777777777777778,
             "#fb9f3a"
            ],
            [
             0.8888888888888888,
             "#fdca26"
            ],
            [
             1,
             "#f0f921"
            ]
           ],
           "sequentialminus": [
            [
             0,
             "#0d0887"
            ],
            [
             0.1111111111111111,
             "#46039f"
            ],
            [
             0.2222222222222222,
             "#7201a8"
            ],
            [
             0.3333333333333333,
             "#9c179e"
            ],
            [
             0.4444444444444444,
             "#bd3786"
            ],
            [
             0.5555555555555556,
             "#d8576b"
            ],
            [
             0.6666666666666666,
             "#ed7953"
            ],
            [
             0.7777777777777778,
             "#fb9f3a"
            ],
            [
             0.8888888888888888,
             "#fdca26"
            ],
            [
             1,
             "#f0f921"
            ]
           ]
          },
          "colorway": [
           "#636efa",
           "#EF553B",
           "#00cc96",
           "#ab63fa",
           "#FFA15A",
           "#19d3f3",
           "#FF6692",
           "#B6E880",
           "#FF97FF",
           "#FECB52"
          ],
          "font": {
           "color": "#2a3f5f"
          },
          "geo": {
           "bgcolor": "white",
           "lakecolor": "white",
           "landcolor": "#E5ECF6",
           "showlakes": true,
           "showland": true,
           "subunitcolor": "white"
          },
          "hoverlabel": {
           "align": "left"
          },
          "hovermode": "closest",
          "mapbox": {
           "style": "light"
          },
          "paper_bgcolor": "white",
          "plot_bgcolor": "#E5ECF6",
          "polar": {
           "angularaxis": {
            "gridcolor": "white",
            "linecolor": "white",
            "ticks": ""
           },
           "bgcolor": "#E5ECF6",
           "radialaxis": {
            "gridcolor": "white",
            "linecolor": "white",
            "ticks": ""
           }
          },
          "scene": {
           "xaxis": {
            "backgroundcolor": "#E5ECF6",
            "gridcolor": "white",
            "gridwidth": 2,
            "linecolor": "white",
            "showbackground": true,
            "ticks": "",
            "zerolinecolor": "white"
           },
           "yaxis": {
            "backgroundcolor": "#E5ECF6",
            "gridcolor": "white",
            "gridwidth": 2,
            "linecolor": "white",
            "showbackground": true,
            "ticks": "",
            "zerolinecolor": "white"
           },
           "zaxis": {
            "backgroundcolor": "#E5ECF6",
            "gridcolor": "white",
            "gridwidth": 2,
            "linecolor": "white",
            "showbackground": true,
            "ticks": "",
            "zerolinecolor": "white"
           }
          },
          "shapedefaults": {
           "line": {
            "color": "#2a3f5f"
           }
          },
          "ternary": {
           "aaxis": {
            "gridcolor": "white",
            "linecolor": "white",
            "ticks": ""
           },
           "baxis": {
            "gridcolor": "white",
            "linecolor": "white",
            "ticks": ""
           },
           "bgcolor": "#E5ECF6",
           "caxis": {
            "gridcolor": "white",
            "linecolor": "white",
            "ticks": ""
           }
          },
          "title": {
           "x": 0.05
          },
          "xaxis": {
           "automargin": true,
           "gridcolor": "white",
           "linecolor": "white",
           "ticks": "",
           "title": {
            "standoff": 15
           },
           "zerolinecolor": "white",
           "zerolinewidth": 2
          },
          "yaxis": {
           "automargin": true,
           "gridcolor": "white",
           "linecolor": "white",
           "ticks": "",
           "title": {
            "standoff": 15
           },
           "zerolinecolor": "white",
           "zerolinewidth": 2
          }
         }
        },
        "xaxis": {
         "anchor": "y",
         "domain": [
          0,
          1
         ],
         "title": {
          "text": "hour"
         }
        },
        "yaxis": {
         "anchor": "x",
         "domain": [
          0,
          1
         ],
         "title": {
          "text": "count"
         }
        }
       }
      },
      "text/html": [
       "<div>                            <div id=\"4fc7951e-bdce-47d3-8402-28b1fd8b7cfa\" class=\"plotly-graph-div\" style=\"height:525px; width:100%;\"></div>            <script type=\"text/javascript\">                require([\"plotly\"], function(Plotly) {                    window.PLOTLYENV=window.PLOTLYENV || {};                                    if (document.getElementById(\"4fc7951e-bdce-47d3-8402-28b1fd8b7cfa\")) {                    Plotly.newPlot(                        \"4fc7951e-bdce-47d3-8402-28b1fd8b7cfa\",                        [{\"alignmentgroup\":\"True\",\"bingroup\":\"x\",\"hovertemplate\":\"hour=%{x}<br>count=%{y}<extra></extra>\",\"legendgroup\":\"\",\"marker\":{\"color\":\"#636efa\",\"pattern\":{\"shape\":\"\"}},\"name\":\"\",\"offsetgroup\":\"\",\"orientation\":\"v\",\"showlegend\":false,\"x\":[16,4,15,13,6,16,20,11,2,15,15,1,18,19,20,6,15,15,20,20,21,21,10,14,15,21,15,0,3,15,16,15,6,15,0,12,14,22,3,13,8,15,9,15,17,15,19,15,9,5,15,15,16,15,15,15,0,17,3,23,16,15,16,2,15,20,4,8,14,8,0,1,3,6,15,16,15,15,13,16,13,5,6,15,22,15,15,20,18,6,22,11,20,9,8,7,3,15,10,14,8,17,15,15,8,15,9,14,2,19,15,6,15,19,9,15,0,6,3,10,15,10,8,15,15,20,14,6,21,13,8,6,11,15,18,10,12,8,6,10,21,2,10,15,15,4,15,21,15,15,0,16,12,8,7,6,22,17,1,17,16,8,19,16,15,9,6,10,6,5,15,13,11,23,1,15,15,14,11,15,7,21,15,15,9,22,15,16,15,10,4,15,8,6,10,9,11,12,8,10,15,8,3,15,10,14,12,15,15,9,18,10,20,8,15,15,15,4,5,11,21,5,15,18,11,9,15,4,18,4,15,15,4,0,6,6,17,4,13,17,15,7,14,22,8,15,3,8,10,3,22,7,7,0,17,3,13,5,12,17,17,15,9,15,15,10,19,15,6,18,2,14,8,16,6,20,7,16,15,16,15,10,9,18,7,10,20,22,21,15,15,5,15,15,5,14,9,15,15,14,12,4,0,14,15,12,7,21,11,22,1,14,18,20,19,17,8,15,15,1,17,18,20,4,21,15,14,6,19,15,11,23,14,11,6,18,15,5,18,9,7,19,7,3,15,19,5,15,5,8,13,15,15,4,9,11,4,17,5,22,5,14,0,16,21,15,9,19,15,11,21,12,16,16,15,7,6,5,7,2,11,15,13,2,20,15,3,7,0,20,15,13,12,6,13,18,14,13,1,11,2,13,0,6,3,0,16,8,15,15,9,17,15,19,20,4,6,9,10,11,20,12,2,20,10,8,7,15,19,9,8,15,16,5,13,9,20,10,12,7,10,21,19,9,21,1,16,6,13,15,20,23,20,9,0,7,0,12,15,6,18,0,20,20,16,9,9,15,14,4,13,7,18,15,21,1,3,14,15,16,7,13,18,8,10,20,9,11,15,4,21,15,5,21,16,14,10,21,6,15,18,7,9,7,11,8,7,23,10,20,15,19,5,8,9,7,8,8,11,15,2,15,4,3,15,21,4,21,17,15,9,15,15,13,13,21,15,15,2,15,20,8,13,4,17,1,8,15,2,3,13,4,4,15,15,10,5,15,13,15,15,10,6,15,15,15,4,1,14,8,21,1,2,8,15,2,6,15,14,15,20,20,2,15,8,19,5,15,0,20,22,19,6,3,19,15,5,15,22,8,21,16,2,15,2,0,14,15,8,15,15,15,15,12,21,10,2,9,17,15,15,0,15,10,16,12,15,11,15,15,10,6,5,19,1,19,8,12,15,19,14,9,7,8,10,3,20,16,5,15,15,20,17,8,7,22,16,13,16,15,8,15,4,15,15,7,9,15,7,2,2,18,4,7,15,2,15,9,15,9,5,18,15,16,6,15,15,15,15,1,3,19,11,9,6,3,13,12,6,20,11,2,1,8,3,3,18,16,18,15,4,0,5,1,7,14,7,1,7,10,8,10,10,18,17,10,8,7,5,19,14,5,13,20,10,8,18,9,9,3,15,19,2,7,16,15,12,12,15,15,15,2,2,8,17,8,16,4,10,7,15,10,0,0,11,5,4,8,15,15,3,1,15,8,7,18,8,3,15,14,11,10,15,15,3,19,15,16,7,16,15,0,15,15,15,3,13,9,0,12,14,14,10,8,18,15,15,17,14,7,19,15,3,9,3,18,11,22,8,16,11,15,6,14,9,17,12,12,16,14,13,19,15,20,14,11,12,14,15,0,10,11,15,8,5,15,4,15,4,7,4,15,15,8,15,10,9,18,11,10,6,8,15,5,2,15,16,15,11,20,20,5,13,15,7,15,15,15,8,7,20,8,16,12,15,2,2,19,19,21,15,21,1,13,7,13,5,8,9,18,13,14,18,5,21,15,9,0,11,22,15,13,6,7,15,14,15,10,3,5,12,9,0,7,1,14,14,14,15,15,5,1,7,15,18,10,9,9,4,13,15,10,5,10,11,15,1,15,4,15,15,10,12,1,4,10,1,4,20,4,14,12,7,7,12,21,17,15,19,15,6,11,16,2,15,4,7,15,1,2,1,5,3,14,15,20,15,3,10,22,6,20,7,17,15,18,15,12,1,19,7,11,11,4,15,15,15,18,11,12,7,15,7,21,15,14,6,17,12,12,9,17,13,21,5,17,5,13,12,3,10,15,6,15,17,4,22,11,12,15,21,15,8,18,15,14,19,14,15,9,2,0,10,18,0,15,12,15,15,0,12,17,11,6,4,5,15,15,15,6,1,15,13,22,9,15,16,15,10,12,15,19,15,17,15,15,15,3,15,3,9,3,12,18,22,8,10,13,4,5,11,13,9,5,19,5,8,6,3,9,15,15,15,11,15,3,6,15,15,10,21,17,7,15,15,10,4,9,15,15,15,15,10,10,16,11,22,1,9,15,2,20,15,8,11,15,12,20,4,17,7,20,18,15,7,5,5,15,13,19,19,15,15,8,18,14,15,15,15,3,14,15,5,7,12,6,15,6,21,11,5,8,15,14,1,9,1,3,9,13,15,14,12,8,7,4,22,8,3,5,20,6,7,15,15,15,15,15,20,15,3,9,19,14,7,5,5,15,9,0,17,15,14,1,16,19,8,8,3,2,6,8,11,12,3,15,4,4,17,18,7,16,4],\"xaxis\":\"x\",\"yaxis\":\"y\",\"type\":\"histogram\"}],                        {\"template\":{\"data\":{\"histogram2dcontour\":[{\"type\":\"histogram2dcontour\",\"colorbar\":{\"outlinewidth\":0,\"ticks\":\"\"},\"colorscale\":[[0.0,\"#0d0887\"],[0.1111111111111111,\"#46039f\"],[0.2222222222222222,\"#7201a8\"],[0.3333333333333333,\"#9c179e\"],[0.4444444444444444,\"#bd3786\"],[0.5555555555555556,\"#d8576b\"],[0.6666666666666666,\"#ed7953\"],[0.7777777777777778,\"#fb9f3a\"],[0.8888888888888888,\"#fdca26\"],[1.0,\"#f0f921\"]]}],\"choropleth\":[{\"type\":\"choropleth\",\"colorbar\":{\"outlinewidth\":0,\"ticks\":\"\"}}],\"histogram2d\":[{\"type\":\"histogram2d\",\"colorbar\":{\"outlinewidth\":0,\"ticks\":\"\"},\"colorscale\":[[0.0,\"#0d0887\"],[0.1111111111111111,\"#46039f\"],[0.2222222222222222,\"#7201a8\"],[0.3333333333333333,\"#9c179e\"],[0.4444444444444444,\"#bd3786\"],[0.5555555555555556,\"#d8576b\"],[0.6666666666666666,\"#ed7953\"],[0.7777777777777778,\"#fb9f3a\"],[0.8888888888888888,\"#fdca26\"],[1.0,\"#f0f921\"]]}],\"heatmap\":[{\"type\":\"heatmap\",\"colorbar\":{\"outlinewidth\":0,\"ticks\":\"\"},\"colorscale\":[[0.0,\"#0d0887\"],[0.1111111111111111,\"#46039f\"],[0.2222222222222222,\"#7201a8\"],[0.3333333333333333,\"#9c179e\"],[0.4444444444444444,\"#bd3786\"],[0.5555555555555556,\"#d8576b\"],[0.6666666666666666,\"#ed7953\"],[0.7777777777777778,\"#fb9f3a\"],[0.8888888888888888,\"#fdca26\"],[1.0,\"#f0f921\"]]}],\"heatmapgl\":[{\"type\":\"heatmapgl\",\"colorbar\":{\"outlinewidth\":0,\"ticks\":\"\"},\"colorscale\":[[0.0,\"#0d0887\"],[0.1111111111111111,\"#46039f\"],[0.2222222222222222,\"#7201a8\"],[0.3333333333333333,\"#9c179e\"],[0.4444444444444444,\"#bd3786\"],[0.5555555555555556,\"#d8576b\"],[0.6666666666666666,\"#ed7953\"],[0.7777777777777778,\"#fb9f3a\"],[0.8888888888888888,\"#fdca26\"],[1.0,\"#f0f921\"]]}],\"contourcarpet\":[{\"type\":\"contourcarpet\",\"colorbar\":{\"outlinewidth\":0,\"ticks\":\"\"}}],\"contour\":[{\"type\":\"contour\",\"colorbar\":{\"outlinewidth\":0,\"ticks\":\"\"},\"colorscale\":[[0.0,\"#0d0887\"],[0.1111111111111111,\"#46039f\"],[0.2222222222222222,\"#7201a8\"],[0.3333333333333333,\"#9c179e\"],[0.4444444444444444,\"#bd3786\"],[0.5555555555555556,\"#d8576b\"],[0.6666666666666666,\"#ed7953\"],[0.7777777777777778,\"#fb9f3a\"],[0.8888888888888888,\"#fdca26\"],[1.0,\"#f0f921\"]]}],\"surface\":[{\"type\":\"surface\",\"colorbar\":{\"outlinewidth\":0,\"ticks\":\"\"},\"colorscale\":[[0.0,\"#0d0887\"],[0.1111111111111111,\"#46039f\"],[0.2222222222222222,\"#7201a8\"],[0.3333333333333333,\"#9c179e\"],[0.4444444444444444,\"#bd3786\"],[0.5555555555555556,\"#d8576b\"],[0.6666666666666666,\"#ed7953\"],[0.7777777777777778,\"#fb9f3a\"],[0.8888888888888888,\"#fdca26\"],[1.0,\"#f0f921\"]]}],\"mesh3d\":[{\"type\":\"mesh3d\",\"colorbar\":{\"outlinewidth\":0,\"ticks\":\"\"}}],\"scatter\":[{\"fillpattern\":{\"fillmode\":\"overlay\",\"size\":10,\"solidity\":0.2},\"type\":\"scatter\"}],\"parcoords\":[{\"type\":\"parcoords\",\"line\":{\"colorbar\":{\"outlinewidth\":0,\"ticks\":\"\"}}}],\"scatterpolargl\":[{\"type\":\"scatterpolargl\",\"marker\":{\"colorbar\":{\"outlinewidth\":0,\"ticks\":\"\"}}}],\"bar\":[{\"error_x\":{\"color\":\"#2a3f5f\"},\"error_y\":{\"color\":\"#2a3f5f\"},\"marker\":{\"line\":{\"color\":\"#E5ECF6\",\"width\":0.5},\"pattern\":{\"fillmode\":\"overlay\",\"size\":10,\"solidity\":0.2}},\"type\":\"bar\"}],\"scattergeo\":[{\"type\":\"scattergeo\",\"marker\":{\"colorbar\":{\"outlinewidth\":0,\"ticks\":\"\"}}}],\"scatterpolar\":[{\"type\":\"scatterpolar\",\"marker\":{\"colorbar\":{\"outlinewidth\":0,\"ticks\":\"\"}}}],\"histogram\":[{\"marker\":{\"pattern\":{\"fillmode\":\"overlay\",\"size\":10,\"solidity\":0.2}},\"type\":\"histogram\"}],\"scattergl\":[{\"type\":\"scattergl\",\"marker\":{\"colorbar\":{\"outlinewidth\":0,\"ticks\":\"\"}}}],\"scatter3d\":[{\"type\":\"scatter3d\",\"line\":{\"colorbar\":{\"outlinewidth\":0,\"ticks\":\"\"}},\"marker\":{\"colorbar\":{\"outlinewidth\":0,\"ticks\":\"\"}}}],\"scattermapbox\":[{\"type\":\"scattermapbox\",\"marker\":{\"colorbar\":{\"outlinewidth\":0,\"ticks\":\"\"}}}],\"scatterternary\":[{\"type\":\"scatterternary\",\"marker\":{\"colorbar\":{\"outlinewidth\":0,\"ticks\":\"\"}}}],\"scattercarpet\":[{\"type\":\"scattercarpet\",\"marker\":{\"colorbar\":{\"outlinewidth\":0,\"ticks\":\"\"}}}],\"carpet\":[{\"aaxis\":{\"endlinecolor\":\"#2a3f5f\",\"gridcolor\":\"white\",\"linecolor\":\"white\",\"minorgridcolor\":\"white\",\"startlinecolor\":\"#2a3f5f\"},\"baxis\":{\"endlinecolor\":\"#2a3f5f\",\"gridcolor\":\"white\",\"linecolor\":\"white\",\"minorgridcolor\":\"white\",\"startlinecolor\":\"#2a3f5f\"},\"type\":\"carpet\"}],\"table\":[{\"cells\":{\"fill\":{\"color\":\"#EBF0F8\"},\"line\":{\"color\":\"white\"}},\"header\":{\"fill\":{\"color\":\"#C8D4E3\"},\"line\":{\"color\":\"white\"}},\"type\":\"table\"}],\"barpolar\":[{\"marker\":{\"line\":{\"color\":\"#E5ECF6\",\"width\":0.5},\"pattern\":{\"fillmode\":\"overlay\",\"size\":10,\"solidity\":0.2}},\"type\":\"barpolar\"}],\"pie\":[{\"automargin\":true,\"type\":\"pie\"}]},\"layout\":{\"autotypenumbers\":\"strict\",\"colorway\":[\"#636efa\",\"#EF553B\",\"#00cc96\",\"#ab63fa\",\"#FFA15A\",\"#19d3f3\",\"#FF6692\",\"#B6E880\",\"#FF97FF\",\"#FECB52\"],\"font\":{\"color\":\"#2a3f5f\"},\"hovermode\":\"closest\",\"hoverlabel\":{\"align\":\"left\"},\"paper_bgcolor\":\"white\",\"plot_bgcolor\":\"#E5ECF6\",\"polar\":{\"bgcolor\":\"#E5ECF6\",\"angularaxis\":{\"gridcolor\":\"white\",\"linecolor\":\"white\",\"ticks\":\"\"},\"radialaxis\":{\"gridcolor\":\"white\",\"linecolor\":\"white\",\"ticks\":\"\"}},\"ternary\":{\"bgcolor\":\"#E5ECF6\",\"aaxis\":{\"gridcolor\":\"white\",\"linecolor\":\"white\",\"ticks\":\"\"},\"baxis\":{\"gridcolor\":\"white\",\"linecolor\":\"white\",\"ticks\":\"\"},\"caxis\":{\"gridcolor\":\"white\",\"linecolor\":\"white\",\"ticks\":\"\"}},\"coloraxis\":{\"colorbar\":{\"outlinewidth\":0,\"ticks\":\"\"}},\"colorscale\":{\"sequential\":[[0.0,\"#0d0887\"],[0.1111111111111111,\"#46039f\"],[0.2222222222222222,\"#7201a8\"],[0.3333333333333333,\"#9c179e\"],[0.4444444444444444,\"#bd3786\"],[0.5555555555555556,\"#d8576b\"],[0.6666666666666666,\"#ed7953\"],[0.7777777777777778,\"#fb9f3a\"],[0.8888888888888888,\"#fdca26\"],[1.0,\"#f0f921\"]],\"sequentialminus\":[[0.0,\"#0d0887\"],[0.1111111111111111,\"#46039f\"],[0.2222222222222222,\"#7201a8\"],[0.3333333333333333,\"#9c179e\"],[0.4444444444444444,\"#bd3786\"],[0.5555555555555556,\"#d8576b\"],[0.6666666666666666,\"#ed7953\"],[0.7777777777777778,\"#fb9f3a\"],[0.8888888888888888,\"#fdca26\"],[1.0,\"#f0f921\"]],\"diverging\":[[0,\"#8e0152\"],[0.1,\"#c51b7d\"],[0.2,\"#de77ae\"],[0.3,\"#f1b6da\"],[0.4,\"#fde0ef\"],[0.5,\"#f7f7f7\"],[0.6,\"#e6f5d0\"],[0.7,\"#b8e186\"],[0.8,\"#7fbc41\"],[0.9,\"#4d9221\"],[1,\"#276419\"]]},\"xaxis\":{\"gridcolor\":\"white\",\"linecolor\":\"white\",\"ticks\":\"\",\"title\":{\"standoff\":15},\"zerolinecolor\":\"white\",\"automargin\":true,\"zerolinewidth\":2},\"yaxis\":{\"gridcolor\":\"white\",\"linecolor\":\"white\",\"ticks\":\"\",\"title\":{\"standoff\":15},\"zerolinecolor\":\"white\",\"automargin\":true,\"zerolinewidth\":2},\"scene\":{\"xaxis\":{\"backgroundcolor\":\"#E5ECF6\",\"gridcolor\":\"white\",\"linecolor\":\"white\",\"showbackground\":true,\"ticks\":\"\",\"zerolinecolor\":\"white\",\"gridwidth\":2},\"yaxis\":{\"backgroundcolor\":\"#E5ECF6\",\"gridcolor\":\"white\",\"linecolor\":\"white\",\"showbackground\":true,\"ticks\":\"\",\"zerolinecolor\":\"white\",\"gridwidth\":2},\"zaxis\":{\"backgroundcolor\":\"#E5ECF6\",\"gridcolor\":\"white\",\"linecolor\":\"white\",\"showbackground\":true,\"ticks\":\"\",\"zerolinecolor\":\"white\",\"gridwidth\":2}},\"shapedefaults\":{\"line\":{\"color\":\"#2a3f5f\"}},\"annotationdefaults\":{\"arrowcolor\":\"#2a3f5f\",\"arrowhead\":0,\"arrowwidth\":1},\"geo\":{\"bgcolor\":\"white\",\"landcolor\":\"#E5ECF6\",\"subunitcolor\":\"white\",\"showland\":true,\"showlakes\":true,\"lakecolor\":\"white\"},\"title\":{\"x\":0.05},\"mapbox\":{\"style\":\"light\"}}},\"xaxis\":{\"anchor\":\"y\",\"domain\":[0.0,1.0],\"title\":{\"text\":\"hour\"}},\"yaxis\":{\"anchor\":\"x\",\"domain\":[0.0,1.0],\"title\":{\"text\":\"count\"}},\"legend\":{\"tracegroupgap\":0},\"margin\":{\"t\":60},\"barmode\":\"relative\"},                        {\"responsive\": true}                    ).then(function(){\n",
       "                            \n",
       "var gd = document.getElementById('4fc7951e-bdce-47d3-8402-28b1fd8b7cfa');\n",
       "var x = new MutationObserver(function (mutations, observer) {{\n",
       "        var display = window.getComputedStyle(gd).display;\n",
       "        if (!display || display === 'none') {{\n",
       "            console.log([gd, 'removed!']);\n",
       "            Plotly.purge(gd);\n",
       "            observer.disconnect();\n",
       "        }}\n",
       "}});\n",
       "\n",
       "// Listen for the removal of the full notebook cells\n",
       "var notebookContainer = gd.closest('#notebook-container');\n",
       "if (notebookContainer) {{\n",
       "    x.observe(notebookContainer, {childList: true});\n",
       "}}\n",
       "\n",
       "// Listen for the clearing of the current output cell\n",
       "var outputEl = gd.closest('.output');\n",
       "if (outputEl) {{\n",
       "    x.observe(outputEl, {childList: true});\n",
       "}}\n",
       "\n",
       "                        })                };                });            </script>        </div>"
      ]
     },
     "metadata": {},
     "output_type": "display_data"
    }
   ],
   "source": [
    "fig = px.histogram(response, x=\"hour\")\n",
    "fig.show()"
   ]
  },
  {
   "cell_type": "code",
   "execution_count": 37,
   "id": "56645645",
   "metadata": {},
   "outputs": [
    {
     "data": {
      "text/html": [
       "<div>\n",
       "<style scoped>\n",
       "    .dataframe tbody tr th:only-of-type {\n",
       "        vertical-align: middle;\n",
       "    }\n",
       "\n",
       "    .dataframe tbody tr th {\n",
       "        vertical-align: top;\n",
       "    }\n",
       "\n",
       "    .dataframe thead th {\n",
       "        text-align: right;\n",
       "    }\n",
       "</style>\n",
       "<table border=\"1\" class=\"dataframe\">\n",
       "  <thead>\n",
       "    <tr style=\"text-align: right;\">\n",
       "      <th></th>\n",
       "      <th>device_make</th>\n",
       "      <th>count</th>\n",
       "    </tr>\n",
       "  </thead>\n",
       "  <tbody>\n",
       "    <tr>\n",
       "      <th>0</th>\n",
       "      <td>A0001</td>\n",
       "      <td>1</td>\n",
       "    </tr>\n",
       "    <tr>\n",
       "      <th>1</th>\n",
       "      <td>ANE-LX1</td>\n",
       "      <td>6</td>\n",
       "    </tr>\n",
       "    <tr>\n",
       "      <th>2</th>\n",
       "      <td>CLT-L09</td>\n",
       "      <td>5</td>\n",
       "    </tr>\n",
       "    <tr>\n",
       "      <th>3</th>\n",
       "      <td>DLI-L22</td>\n",
       "      <td>1</td>\n",
       "    </tr>\n",
       "    <tr>\n",
       "      <th>4</th>\n",
       "      <td>E5823</td>\n",
       "      <td>1</td>\n",
       "    </tr>\n",
       "    <tr>\n",
       "      <th>...</th>\n",
       "      <td>...</td>\n",
       "      <td>...</td>\n",
       "    </tr>\n",
       "    <tr>\n",
       "      <th>110</th>\n",
       "      <td>XiaoMi Redmi 6A</td>\n",
       "      <td>1</td>\n",
       "    </tr>\n",
       "    <tr>\n",
       "      <th>111</th>\n",
       "      <td>XiaoMi Redmi Note 7</td>\n",
       "      <td>1</td>\n",
       "    </tr>\n",
       "    <tr>\n",
       "      <th>112</th>\n",
       "      <td>XiaoMi Redmi S2</td>\n",
       "      <td>1</td>\n",
       "    </tr>\n",
       "    <tr>\n",
       "      <th>113</th>\n",
       "      <td>YAL-L21</td>\n",
       "      <td>1</td>\n",
       "    </tr>\n",
       "    <tr>\n",
       "      <th>114</th>\n",
       "      <td>iPhone</td>\n",
       "      <td>18</td>\n",
       "    </tr>\n",
       "  </tbody>\n",
       "</table>\n",
       "<p>115 rows × 2 columns</p>\n",
       "</div>"
      ],
      "text/plain": [
       "             device_make  count\n",
       "0                  A0001      1\n",
       "1                ANE-LX1      6\n",
       "2                CLT-L09      5\n",
       "3                DLI-L22      1\n",
       "4                  E5823      1\n",
       "..                   ...    ...\n",
       "110      XiaoMi Redmi 6A      1\n",
       "111  XiaoMi Redmi Note 7      1\n",
       "112      XiaoMi Redmi S2      1\n",
       "113              YAL-L21      1\n",
       "114               iPhone     18\n",
       "\n",
       "[115 rows x 2 columns]"
      ]
     },
     "execution_count": 37,
     "metadata": {},
     "output_type": "execute_result"
    }
   ],
   "source": [
    "device_data = response.groupby(['device_make']).agg({'device_make': ['count']})\n",
    "device_data.columns = ['count']\n",
    "device_data = device_data.reset_index()\n",
    "device_data"
   ]
  },
  {
   "cell_type": "code",
   "execution_count": 38,
   "id": "471a6946",
   "metadata": {},
   "outputs": [
    {
     "data": {
      "application/vnd.plotly.v1+json": {
       "config": {
        "plotlyServerURL": "https://plot.ly"
       },
       "data": [
        {
         "alignmentgroup": "True",
         "bingroup": "x",
         "hovertemplate": "device_make=%{x}<br>count=%{y}<extra></extra>",
         "legendgroup": "",
         "marker": {
          "color": "#636efa",
          "pattern": {
           "shape": ""
          }
         },
         "name": "",
         "offsetgroup": "",
         "orientation": "v",
         "showlegend": false,
         "type": "histogram",
         "x": [
          "Generic Smartphone",
          "Samsung SM-A202F",
          "Generic Smartphone",
          "Samsung SM-G935F",
          "Generic Smartphone",
          "Generic Smartphone",
          "Samsung SM-G930F",
          "Samsung SM-G981B",
          "Generic Smartphone",
          "Generic Smartphone",
          "ELE-L09",
          "Generic Smartphone",
          "Generic Smartphone",
          "Generic Smartphone",
          "Generic Smartphone",
          "Generic Smartphone",
          "Generic Smartphone",
          "Generic Smartphone",
          "Generic Smartphone",
          "Generic Smartphone",
          "Generic Smartphone",
          "Generic Smartphone",
          "Samsung SM-G960F",
          "Generic Smartphone",
          "Samsung SM-A202F",
          "Samsung SM-A405FN",
          "LG-$2",
          "Samsung SM-A320FL",
          "Generic Smartphone",
          "Samsung SM-G950F",
          "Generic Smartphone",
          "Generic Smartphone",
          "Samsung SM-A505FN",
          "Samsung SM-G960F",
          "Generic Smartphone",
          "Generic Smartphone",
          "Generic Smartphone",
          "Samsung SM-G950F",
          "Generic Smartphone",
          "Samsung SM-G973F",
          "Samsung SM-A300FU",
          "Samsung SM-G930F",
          "Generic Smartphone",
          "Generic Smartphone",
          "Generic Smartphone",
          "Generic Smartphone",
          "Generic Smartphone",
          "Samsung SM-A750FN",
          "Generic Smartphone",
          "Generic Smartphone",
          "OnePlus ONEPLUS A5000",
          "Samsung SM-J330FN",
          "Samsung SM-J610FN",
          "Generic Smartphone",
          "Samsung SM-G900F",
          "Generic Smartphone",
          "POT-LX1",
          "Generic Smartphone",
          "Nokia undefined$2$3",
          "Generic Smartphone",
          "Generic Smartphone",
          "Generic Smartphone",
          "Generic Smartphone",
          "Samsung SM-G950F",
          "Samsung SM-G950F",
          "Samsung SM-A405FN",
          "Generic Smartphone",
          "Generic Smartphone",
          "Samsung SM-G960F",
          "Nokia$2$3",
          "Generic Smartphone",
          "Samsung SM-A505FN",
          "Samsung SM-J530F",
          "Nokia$2$3",
          "Samsung SM-G975F",
          "Generic Smartphone",
          "Generic Smartphone",
          "Generic Smartphone",
          "Samsung SM-G965F",
          "Generic Smartphone",
          "Nokia$2$3",
          "Generic Smartphone",
          "Generic Smartphone",
          "Samsung SM-G930F",
          "Generic Smartphone",
          "Generic Smartphone",
          "Generic Smartphone",
          "Generic Smartphone",
          "Samsung SM-G920F",
          "Generic Smartphone",
          "Generic Smartphone",
          "Samsung $2",
          "Generic Smartphone",
          "Generic Smartphone",
          "Generic Smartphone",
          "Samsung SM-G986B",
          "Generic Smartphone",
          "Samsung SM-G935F",
          "Generic Smartphone",
          "Generic Smartphone",
          "Generic Smartphone",
          "LG-$2",
          "Samsung SM-A705FN",
          "Pixel 3",
          "Samsung SM-J730F",
          "Generic Smartphone",
          "Generic Smartphone",
          "Generic Smartphone",
          "Generic Smartphone",
          "Samsung SM-G960F",
          "Generic Smartphone",
          "Generic Smartphone",
          "Samsung SM-G950F",
          "Generic Smartphone",
          "Generic Smartphone",
          "Samsung SM-A715F",
          "Nokia undefined$2$3",
          "ELE-L09",
          "Samsung SM-G970F",
          "Generic Smartphone",
          "POT-LX1",
          "Generic Smartphone",
          "Samsung SM-G975F",
          "Generic Smartphone",
          "Samsung SM-G950F",
          "Samsung SM-G970F",
          "Generic Smartphone",
          "Samsung SM-G960F",
          "YAL-L21",
          "Generic Smartphone",
          "Generic Smartphone",
          "Generic Smartphone",
          "Generic Smartphone",
          "Generic Smartphone",
          "Samsung SM-G960F",
          "Generic Smartphone",
          "ANE-LX1",
          "Samsung SM-G955F",
          "Samsung SM-G973F",
          "Generic Smartphone",
          "LG-$2",
          "Generic Smartphone",
          "Samsung SM-J600FN",
          "Generic Smartphone",
          "ANE-LX1",
          "Generic Smartphone",
          "Samsung SM-G988B",
          "Samsung SM-A405FN",
          "Samsung SM-A405FN",
          "Generic Smartphone",
          "Generic Smartphone",
          "Generic Smartphone",
          "Huawei Browser",
          "Samsung SM-A705FN",
          "Generic Smartphone",
          "Samsung SM-A705FN",
          "Generic Smartphone",
          "Generic Smartphone",
          "Generic Smartphone",
          "Generic Smartphone",
          "Samsung SM-A320FL",
          "Samsung SM-G973F",
          "Samsung SM-G960F",
          "Samsung SM-G980F",
          "Generic Smartphone",
          "Nokia$2$3",
          "Generic Smartphone",
          "Generic Smartphone",
          "Generic Smartphone",
          "Generic Smartphone",
          "Samsung SM-G970F",
          "Generic Smartphone",
          "Generic Smartphone",
          "Generic Smartphone",
          "Generic Smartphone",
          "Samsung SM-A320FL",
          "Generic Smartphone",
          "Generic Smartphone",
          "Generic Smartphone",
          "Generic Smartphone",
          "Generic Smartphone",
          "LG-$2",
          "Generic Smartphone",
          "Generic Smartphone",
          "Generic Smartphone",
          "Generic Smartphone",
          "Samsung SM-G973F",
          "Samsung SM-A405FN",
          "Generic Smartphone",
          "Generic Smartphone",
          "Samsung SM-G930F",
          "Samsung SM-G930F",
          "Generic Smartphone",
          "Generic Smartphone",
          "Generic Smartphone",
          "Generic Smartphone",
          "Samsung SM-G950F",
          "Generic Smartphone",
          "Generic Smartphone",
          "Samsung SM-G960F",
          "Generic Smartphone",
          "Generic Smartphone",
          "iPhone",
          "Samsung $2",
          "Samsung SM-G973F",
          "Samsung SM-A600FN",
          "Generic Smartphone",
          "Generic Smartphone",
          "MRD-LX1",
          "Samsung SM-J530F",
          "Generic Smartphone",
          "Samsung SM-N950F",
          "VFD 700",
          "Samsung SM-G960F",
          "Samsung SM-A310F",
          "Samsung SM-G973F",
          "Samsung SM-G973F",
          "Generic Smartphone",
          "Samsung SM-G950F",
          "Nokia undefined$2$3",
          "Generic Smartphone",
          "Generic Smartphone",
          "Generic Smartphone",
          "Samsung SM-G960F",
          "Generic Smartphone",
          "Generic Smartphone",
          "Generic Smartphone",
          "Generic Smartphone",
          "Samsung SM-G970F",
          "Samsung SM-G975F",
          "Samsung SM-G930F",
          "Generic Smartphone",
          "Generic Smartphone",
          "XiaoMi MI 8 Pro",
          "Samsung SM-G981B",
          "ELE-L09",
          "ELE-L29",
          "Generic Smartphone",
          "Generic Smartphone",
          "Samsung SM-A507FN",
          "Generic Smartphone",
          "Generic Smartphone",
          "MAR-LX1A",
          "Generic Smartphone",
          "Samsung SM-A202F",
          "Generic Smartphone",
          "iPhone",
          "Samsung SM-G973F",
          "Generic Smartphone",
          "Nokia undefined$2$3",
          "Generic Smartphone",
          "Generic Smartphone",
          "Samsung SM-G975F",
          "Generic Smartphone",
          "Generic Smartphone",
          "Samsung SM-G975F",
          "Samsung SM-A750FN",
          "Generic Smartphone",
          "Generic Smartphone",
          "Generic Smartphone",
          "Generic Smartphone",
          "Generic Smartphone",
          "Generic Smartphone",
          "Samsung SM-A105FN",
          "Generic Smartphone",
          "Samsung SM-G965F",
          "Generic Smartphone",
          "Generic Smartphone",
          "Generic Smartphone",
          "Samsung SM-A202F",
          "Generic Smartphone",
          "Generic Smartphone",
          "Samsung SM-G920F",
          "Generic Smartphone",
          "Samsung SM-G960F",
          "Generic Smartphone",
          "HTC Desire $2",
          "Samsung SM-G930F",
          "Generic Smartphone",
          "Generic Smartphone",
          "Generic Smartphone",
          "I3312",
          "A0001",
          "Samsung SM-J330FN",
          "Generic Smartphone",
          "LG-$2",
          "Generic Smartphone",
          "Generic Smartphone",
          "Generic Smartphone",
          "MRD-LX1",
          "Samsung SM-A505FN",
          "Generic Smartphone",
          "Generic Smartphone",
          "Generic Smartphone",
          "Generic Smartphone",
          "Generic Smartphone",
          "Samsung SM-A202F",
          "Generic Smartphone",
          "Generic Smartphone",
          "Generic Smartphone",
          "Generic Smartphone",
          "Generic Smartphone",
          "Generic Smartphone",
          "Generic Smartphone",
          "Samsung SM-G960F",
          "Samsung SM-G950F",
          "Samsung SM-G977B",
          "Samsung SM-A105FN",
          "Samsung SM-G950F",
          "LG-$2",
          "Samsung SM-J415FN",
          "Samsung SM-J610FN",
          "Nokia undefined$2$3",
          "Generic Smartphone",
          "Generic Smartphone",
          "Generic Smartphone",
          "Samsung SM-G930F",
          "Generic Smartphone",
          "Generic Smartphone",
          "IMO $2",
          "Samsung SM-G900F",
          "Generic Smartphone",
          "Generic Smartphone",
          "Generic Smartphone",
          "Generic Smartphone",
          "Generic Smartphone",
          "Samsung SM-G965F",
          "Generic Smartphone",
          "Samsung SM-G960F",
          "Generic Smartphone",
          "Generic Smartphone",
          "Generic Smartphone",
          "Generic Smartphone",
          "Samsung SM-A530F",
          "Generic Smartphone",
          "Samsung SM-G950F",
          "Generic Smartphone",
          "XiaoMi MI MAX 3",
          "Samsung SM-G950F",
          "Generic Smartphone",
          "Samsung SM-G960F",
          "Generic Smartphone",
          "Nokia$2$3",
          "Generic Smartphone",
          "Generic Smartphone",
          "Generic Smartphone",
          "Generic Smartphone",
          "Samsung $2",
          "Samsung SM-G960F",
          "Generic Smartphone",
          "F3311",
          "Samsung SM-G960F",
          "Generic Smartphone",
          "Generic Smartphone",
          "iPhone",
          "Generic Smartphone",
          "Generic Smartphone",
          "Samsung SM-G965F",
          "Pixel 3",
          "Samsung SM-A600FN",
          "Generic Smartphone",
          "Generic Smartphone",
          "Samsung SM-G975F",
          "Generic Smartphone",
          "Samsung SM-G950F",
          "Generic Smartphone",
          "Samsung SM-A105FN",
          "Samsung SM-A105FN",
          "Generic Smartphone",
          "Generic Smartphone",
          "Generic Smartphone",
          "LG-$2",
          "Samsung SM-G955F",
          "Generic Smartphone",
          "Samsung SM-A405FN",
          "Generic Smartphone",
          "Generic Smartphone",
          "Generic Smartphone",
          "OnePlus ONEPLUS A5010",
          "Generic Smartphone",
          "Samsung SM-A202F",
          "Generic Smartphone",
          "Generic Smartphone",
          "Generic Smartphone",
          "Generic Smartphone",
          "Generic Smartphone",
          "Generic Smartphone",
          "TA-1033",
          "Pixel 3",
          "Generic Smartphone",
          "Samsung SM-A105FN",
          "Generic Smartphone",
          "Samsung SM-G960F",
          "Generic Smartphone",
          "Pixel 3a",
          "Generic Smartphone",
          "Samsung SM-G960F",
          "Generic Smartphone",
          "Samsung SM-N976B",
          "LG-$2",
          "Generic Smartphone",
          "Generic Smartphone",
          "Samsung SM-A505FN",
          "Generic Smartphone",
          "Generic Smartphone",
          "Samsung SM-A202F",
          "Generic Smartphone",
          "Generic Smartphone",
          "Generic Smartphone",
          "Generic Smartphone",
          "Generic Smartphone",
          "Samsung SM-G975F",
          "Generic Smartphone",
          "Generic Smartphone",
          "Generic Smartphone",
          "Generic Smartphone",
          "Samsung SM-G965F",
          "Samsung SM-A202F",
          "Generic Smartphone",
          "Generic Smartphone",
          "Generic Smartphone",
          "OnePlus ONEPLUS A6013",
          "ANE-LX1",
          "Generic Smartphone",
          "Samsung SM-G970F",
          "Samsung SM-G770F",
          "Generic Smartphone",
          "Samsung SM-A705FN",
          "Generic Smartphone",
          "Generic Smartphone",
          "Samsung SM-J530F",
          "Generic Smartphone",
          "Generic Smartphone",
          "Samsung SM-G960F",
          "Generic Smartphone",
          "Generic Smartphone",
          "Samsung SM-J320FN",
          "Samsung SM-G930F",
          "Generic Smartphone",
          "Generic Smartphone",
          "Generic Smartphone",
          "Generic Smartphone",
          "Samsung SM-G960F",
          "Generic Smartphone",
          "Samsung SM-G960F",
          "POT-LX1",
          "Samsung SM-G965F",
          "Generic Smartphone",
          "Generic Smartphone",
          "Samsung SM-G930F",
          "Generic Smartphone",
          "VOG-L29",
          "Generic Smartphone",
          "Generic Smartphone",
          "HTC One $2",
          "Samsung SM-G950F",
          "Samsung SM-A310F",
          "Generic Smartphone",
          "Samsung SM-A530F",
          "Generic Smartphone",
          "Generic Smartphone",
          "Generic Smartphone",
          "Generic Smartphone",
          "Samsung SM-A505FN",
          "Generic Smartphone",
          "Generic Smartphone",
          "Generic Smartphone",
          "Generic Smartphone",
          "Generic Smartphone",
          "Samsung SM-G920F",
          "OnePlus ONEPLUS A3000",
          "FIG-LX1",
          "Samsung SM-J530F",
          "Generic Smartphone",
          "Pixel 3",
          "Samsung SM-A530F",
          "Generic Smartphone",
          "Samsung SM-A202F",
          "Samsung SM-G935F",
          "Generic Smartphone",
          "Generic Smartphone",
          "Samsung SM-A600FN",
          "Generic Smartphone",
          "Generic Smartphone",
          "Generic Smartphone",
          "Generic Smartphone",
          "Generic Smartphone",
          "Generic Smartphone",
          "Generic Smartphone",
          "Generic Smartphone",
          "EVA-L09",
          "Generic Smartphone",
          "iPhone",
          "Generic Smartphone",
          "Generic Smartphone",
          "LG-$2",
          "Samsung SM-G955F",
          "Generic Smartphone",
          "Generic Smartphone",
          "Samsung SM-G986B",
          "Generic Smartphone",
          "Samsung SM-N976B",
          "PCT-L29",
          "Generic Smartphone",
          "Samsung SM-G970F",
          "Samsung SM-G970F",
          "Generic Smartphone",
          "Generic Smartphone",
          "Samsung SM-J500FN",
          "Generic Smartphone",
          "Generic Smartphone",
          "Samsung SM-A505FN",
          "Samsung SM-G965F",
          "Generic Smartphone",
          "Samsung SM-G935F",
          "Generic Smartphone",
          "Pixel 3a",
          "Generic Smartphone",
          "iPhone",
          "Samsung SM-G981B",
          "Nokia undefined$2$3",
          "Samsung SM-G965F",
          "Samsung SM-N960F",
          "Generic Smartphone",
          "MAR-LX1A",
          "Generic Smartphone",
          "Generic Smartphone",
          "Generic Smartphone",
          "Generic Smartphone",
          "Samsung SM-J330FN",
          "Generic Smartphone",
          "G3311",
          "FIG-LX1",
          "Samsung SM-A202F",
          "VCE-L22",
          "Generic Smartphone",
          "Pixel 2",
          "Generic Smartphone",
          "Samsung SM-G973F",
          "Samsung SM-G930F",
          "Samsung SM-G970F",
          "Generic Smartphone",
          "Generic Smartphone",
          "Samsung SM-J530F",
          "Samsung SM-G975F",
          "Generic Smartphone",
          "Samsung SM-J530F",
          "Samsung SM-N970F",
          "Samsung SM-A105FN",
          "Samsung SM-A105FN",
          "Samsung SM-G950F",
          "Samsung SM-A715F",
          "Generic Smartphone",
          "Samsung SM-G935F",
          "Generic Smartphone",
          "Samsung SM-G950F",
          "Generic Smartphone",
          "Generic Smartphone",
          "VOG-L29",
          "Generic Smartphone",
          "Generic Smartphone",
          "XiaoMi Redmi S2",
          "Generic Smartphone",
          "Samsung SM-J330FN",
          "Generic Smartphone",
          "Samsung SM-G975F",
          "Generic Smartphone",
          "Generic Smartphone",
          "Generic Smartphone",
          "Samsung SM-G973F",
          "Generic Smartphone",
          "Generic Smartphone",
          "E5823",
          "Generic Smartphone",
          "Generic Smartphone",
          "Generic Smartphone",
          "I3312",
          "Generic Smartphone",
          "Generic Smartphone",
          "MRD-LX1",
          "Moto $2",
          "Generic Smartphone",
          "Samsung SM-J600FN",
          "Samsung SM-A105FN",
          "Generic Smartphone",
          "Generic Smartphone",
          "Generic Smartphone",
          "Samsung SM-G973F",
          "Generic Smartphone",
          "Samsung SM-G950F",
          "Generic Smartphone",
          "Generic Smartphone",
          "Samsung SM-G960F",
          "Samsung SM-N960F",
          "VOG-L09",
          "Generic Smartphone",
          "Samsung SM-G960F",
          "Generic Smartphone",
          "Generic Smartphone",
          "Samsung SM-A705FN",
          "Generic Smartphone",
          "Generic Smartphone",
          "Samsung SM-G950F",
          "ANE-LX1",
          "Generic Smartphone",
          "Samsung SM-A705FN",
          "Generic Smartphone",
          "POT-LX1",
          "Generic Smartphone",
          "Samsung SM-G973F",
          "Generic Smartphone",
          "Generic Smartphone",
          "Generic Smartphone",
          "Generic Smartphone",
          "Samsung SM-A705FN",
          "Generic Smartphone",
          "Samsung SM-A520F",
          "Generic Smartphone",
          "Generic Smartphone",
          "Generic Smartphone",
          "Generic Smartphone",
          "Generic Smartphone",
          "Generic Smartphone",
          "Generic Smartphone",
          "Generic Smartphone",
          "Generic Smartphone",
          "Samsung SM-J330FN",
          "Generic Smartphone",
          "Generic Smartphone",
          "STF-L09",
          "Generic Smartphone",
          "I3312",
          "Moto $2",
          "HTC 10",
          "Generic Smartphone",
          "iPhone",
          "Generic Smartphone",
          "VOG-L29",
          "XiaoMi Redmi Note 7",
          "Generic Smartphone",
          "Generic Smartphone",
          "Generic Smartphone",
          "Samsung SM-G981B",
          "Samsung SM-A520F",
          "Generic Smartphone",
          "Generic Smartphone",
          "Generic Smartphone",
          "POT-LX1",
          "ELE-L29",
          "Huawei Browser",
          "Samsung SM-A202F",
          "Generic Smartphone",
          "Samsung SM-G955F",
          "Generic Smartphone",
          "Samsung SM-A920F",
          "Samsung SM-A520F",
          "Samsung SM-G900F",
          "Generic Smartphone",
          "Generic Smartphone",
          "Generic Smartphone",
          "iPhone",
          "Generic Smartphone",
          "Samsung SM-G960F",
          "Samsung SM-G930F",
          "VOG-L09",
          "LYA-L09",
          "Generic Smartphone",
          "Generic Smartphone",
          "Generic Smartphone",
          "Generic Smartphone",
          "Nokia undefined$2$3",
          "Samsung SM-G950F",
          "MAR-LX1A",
          "Samsung SM-G950F",
          "Samsung SM-A320FL",
          "Nokia$2$3",
          "CLT-L09",
          "Generic Smartphone",
          "Samsung SM-J415FN",
          "Samsung SM-G950F",
          "Generic Smartphone",
          "Generic Smartphone",
          "Samsung SM-G970F",
          "Generic Smartphone",
          "Generic Smartphone",
          "Generic Smartphone",
          "Samsung SM-G973F",
          "VOG-L29",
          "Samsung SM-A705FN",
          "Generic Smartphone",
          "Generic Smartphone",
          "Generic Smartphone",
          "Generic Smartphone",
          "Generic Smartphone",
          "Generic Smartphone",
          "Generic Smartphone",
          "Generic Smartphone",
          "Generic Smartphone",
          "Generic Smartphone",
          "Samsung SM-N960F",
          "Generic Smartphone",
          "Generic Smartphone",
          "HTC U12+",
          "Samsung SM-G770F",
          "Generic Smartphone",
          "Samsung SM-J330G",
          "Generic Smartphone",
          "Samsung SM-A105FN",
          "Generic Smartphone",
          "Generic Smartphone",
          "Samsung SM-G975F",
          "Generic Smartphone",
          "Generic Smartphone",
          "Generic Smartphone",
          "Generic Smartphone",
          "Generic Smartphone",
          "Generic Smartphone",
          "Samsung SM-J330FN",
          "Generic Smartphone",
          "I3312",
          "Generic Smartphone",
          "G3311",
          "Samsung SM-G973F",
          "Samsung SM-J320FN",
          "Generic Smartphone",
          "Generic Smartphone",
          "Generic Smartphone",
          "Generic Smartphone",
          "Generic Smartphone",
          "Generic Smartphone",
          "Generic Smartphone",
          "Generic Smartphone",
          "Samsung SM-G950F",
          "Samsung SM-J510FN",
          "Generic Smartphone",
          "XiaoMi Redmi 6A",
          "Generic Smartphone",
          "Generic Smartphone",
          "Generic Smartphone",
          "Generic Smartphone",
          "SNE-LX1",
          "Samsung SM-N976B",
          "Generic Smartphone",
          "Samsung SM-G960F",
          "Samsung SM-G935F",
          "Generic Smartphone",
          "Samsung SM-A105FN",
          "Generic Smartphone",
          "Generic Smartphone",
          "Generic Smartphone",
          "Generic Smartphone",
          "Generic Smartphone",
          "Generic Smartphone",
          "Generic Smartphone",
          "Samsung SM-G980F",
          "Generic Smartphone",
          "Generic Smartphone",
          "Nokia undefined$2$3",
          "Samsung SM-G935F",
          "LG-$2",
          "Generic Smartphone",
          "Samsung SM-G975F",
          "Generic Smartphone",
          "Generic Smartphone",
          "Generic Smartphone",
          "Samsung SM-A202F",
          "Generic Smartphone",
          "Generic Smartphone",
          "Samsung SM-A520F",
          "Generic Smartphone",
          "Generic Smartphone",
          "Samsung $2",
          "Generic Smartphone",
          "MRD-LX1",
          "Samsung SM-J320FN",
          "Samsung SM-G965U1",
          "Generic Smartphone",
          "Generic Smartphone",
          "Samsung SM-G960F",
          "Nokia$2$3",
          "Generic Smartphone",
          "Samsung SM-G900F",
          "iPhone",
          "iPhone",
          "Generic Smartphone",
          "Generic Smartphone",
          "Generic Smartphone",
          "Generic Smartphone",
          "Generic Smartphone",
          "Generic Smartphone",
          "Generic Smartphone",
          "Moto $2",
          "Generic Smartphone",
          "Generic Smartphone",
          "Generic Smartphone",
          "Generic Smartphone",
          "Generic Smartphone",
          "Generic Smartphone",
          "VTR-L09",
          "Generic Smartphone",
          "Generic Smartphone",
          "Generic Smartphone",
          "Samsung SM-G973F",
          "Samsung SM-G960F",
          "Generic Smartphone",
          "Generic Smartphone",
          "Samsung SM-A105FN",
          "Generic Smartphone",
          "Generic Smartphone",
          "Samsung SM-N960F",
          "Generic Smartphone",
          "Generic Smartphone",
          "Samsung SM-G973F",
          "Generic Smartphone",
          "Generic Smartphone",
          "Generic Smartphone",
          "Generic Smartphone",
          "Samsung SM-G960F",
          "Samsung SM-G960F",
          "Generic Smartphone",
          "Samsung SM-A320FL",
          "Generic Smartphone",
          "Generic Smartphone",
          "CLT-L09",
          "Generic Smartphone",
          "Generic Smartphone",
          "Generic Smartphone",
          "Samsung $2",
          "Generic Smartphone",
          "Generic Smartphone",
          "Samsung SM-G960F",
          "Generic Smartphone",
          "Generic Smartphone",
          "Samsung SM-A705FN",
          "Samsung SM-A520F",
          "Generic Smartphone",
          "Generic Smartphone",
          "Samsung SM-G960F",
          "Generic Smartphone",
          "Generic Smartphone",
          "Generic Smartphone",
          "Generic Smartphone",
          "Generic Smartphone",
          "Generic Smartphone",
          "Generic Smartphone",
          "Generic Smartphone",
          "Samsung SM-A202F",
          "Generic Smartphone",
          "Generic Smartphone",
          "Samsung SM-G970F",
          "Generic Smartphone",
          "MAR-LX1A",
          "Generic Smartphone",
          "Generic Smartphone",
          "Generic Smartphone",
          "Samsung SM-A405FN",
          "Samsung SM-N920I",
          "Samsung SM-G977B",
          "Generic Smartphone",
          "Generic Smartphone",
          "Generic Smartphone",
          "Generic Smartphone",
          "Generic Smartphone",
          "Nokia$2$3",
          "Generic Smartphone",
          "Generic Smartphone",
          "Samsung SM-N970F",
          "Generic Smartphone",
          "Generic Smartphone",
          "Generic Smartphone",
          "ELE-L09",
          "Generic Smartphone",
          "Samsung SM-G975F",
          "Samsung SM-G930F",
          "Generic Smartphone",
          "Generic Smartphone",
          "Generic Smartphone",
          "Samsung SM-G950F",
          "Generic Smartphone",
          "Generic Smartphone",
          "Samsung SM-J330FN",
          "Generic Smartphone",
          "Generic Smartphone",
          "Nokia$2$3",
          "Samsung SM-G950F",
          "Generic Smartphone",
          "Generic Smartphone",
          "Generic Smartphone",
          "Samsung SM-A105FN",
          "Samsung SM-G950F",
          "Samsung SM-J600FN",
          "Samsung SM-G975F",
          "MAR-LX1A",
          "Generic Smartphone",
          "Generic Smartphone",
          "Samsung SM-G950F",
          "CLT-L09",
          "Samsung SM-G950F",
          "Generic Smartphone",
          "Generic Smartphone",
          "Samsung SM-A300FU",
          "Samsung SM-G960F",
          "Generic Smartphone",
          "Samsung SM-A505FN",
          "Generic Smartphone",
          "Generic Smartphone",
          "Generic Smartphone",
          "Generic Smartphone",
          "POT-LX1",
          "Samsung SM-G980F",
          "Samsung SM-A515F",
          "Generic Smartphone",
          "PRA-LX1",
          "Generic Smartphone",
          "Generic Smartphone",
          "Generic Smartphone",
          "Generic Smartphone",
          "Generic Smartphone",
          "Generic Smartphone",
          "iPhone",
          "Generic Smartphone",
          "Generic Smartphone",
          "Samsung SM-G950F",
          "Generic Smartphone",
          "Generic Smartphone",
          "Samsung SM-N960F",
          "Generic Smartphone",
          "Generic Smartphone",
          "Samsung SM-A320FL",
          "Samsung SM-N950F",
          "Generic Smartphone",
          "Generic Smartphone",
          "Generic Smartphone",
          "Samsung SM-A405FN",
          "Generic Smartphone",
          "Generic Smartphone",
          "Samsung SM-A505FN",
          "Samsung SM-G900F",
          "Generic Smartphone",
          "Samsung SM-G986B",
          "Samsung SM-G973F",
          "EVR-N29",
          "Generic Smartphone",
          "I3312",
          "Generic Smartphone",
          "Generic Smartphone",
          "Generic Smartphone",
          "Generic Smartphone",
          "Generic Smartphone",
          "Generic Smartphone",
          "Samsung SM-G960F",
          "LYA-L09",
          "Samsung SM-G610F",
          "Generic Smartphone",
          "Generic Smartphone",
          "ANE-LX1",
          "Samsung SM-A920F",
          "Generic Smartphone",
          "Generic Smartphone",
          "Generic Smartphone",
          "iPhone",
          "Generic Smartphone",
          "Samsung SM-A405FN",
          "Generic Smartphone",
          "iPhone",
          "Generic Smartphone",
          "Samsung SM-A515F",
          "Samsung SM-G980F",
          "Generic Smartphone",
          "MAR-LX1A",
          "Generic Smartphone",
          "Generic Smartphone",
          "Samsung SM-G965F",
          "Generic Smartphone",
          "Generic Smartphone",
          "Generic Smartphone",
          "Generic Smartphone",
          "Samsung SM-G960F",
          "iPhone",
          "Generic Smartphone",
          "Generic Smartphone",
          "Generic Smartphone",
          "Generic Smartphone",
          "Samsung SM-A320FL",
          "Samsung SM-G960F",
          "Generic Smartphone",
          "Generic Smartphone",
          "VFD 820",
          "Generic Smartphone",
          "Generic Smartphone",
          "Samsung SM-A505FN",
          "CLT-L09",
          "Generic Smartphone",
          "Generic Smartphone",
          "Samsung SM-G960F",
          "Generic Smartphone",
          "LG-$2",
          "Generic Smartphone",
          "Samsung SM-G960F",
          "Samsung SM-G935F",
          "Pixel 4",
          "Samsung SM-J600FN",
          "Generic Smartphone",
          "I3312",
          "Generic Smartphone",
          "Samsung SM-A405FN",
          "Samsung SM-G930F",
          "Generic Smartphone",
          "Generic Smartphone",
          "Generic Smartphone",
          "Generic Smartphone",
          "Generic Smartphone",
          "Samsung SM-G950F",
          "Generic Smartphone",
          "iPhone",
          "Samsung SM-G935F",
          "Generic Smartphone",
          "Generic Smartphone",
          "Samsung SM-A300FU",
          "Generic Smartphone",
          "Generic Smartphone",
          "Generic Smartphone",
          "Generic Smartphone",
          "Generic Smartphone",
          "Generic Smartphone",
          "Generic Smartphone",
          "Pixel 2",
          "Generic Smartphone",
          "Generic Smartphone",
          "Samsung SM-G960F",
          "Samsung SM-G950F",
          "EML-L09",
          "Samsung SM-G950F",
          "Samsung SM-G770F",
          "Samsung SM-A405FN",
          "Generic Smartphone",
          "Samsung SM-G973F",
          "Samsung SM-A505FN",
          "Generic Smartphone",
          "Generic Smartphone",
          "Generic Smartphone",
          "Samsung SM-G965F",
          "Samsung SM-J330FN",
          "Generic Smartphone",
          "Generic Smartphone",
          "Samsung SM-A202F",
          "Generic Smartphone",
          "Generic Smartphone",
          "Generic Smartphone",
          "Samsung SM-G935F",
          "Samsung SM-G973F",
          "Samsung SM-G960F",
          "Generic Smartphone",
          "Samsung SM-J600FN",
          "Generic Smartphone",
          "Generic Smartphone",
          "Samsung SM-A505FN",
          "Generic Smartphone",
          "Pixel 4",
          "Generic Smartphone",
          "Generic Smartphone",
          "Generic Smartphone",
          "Samsung SM-N950F",
          "Samsung $2",
          "Generic Smartphone",
          "Generic Smartphone",
          "Samsung SM-A405FN",
          "Generic Smartphone",
          "Samsung SM-G988B",
          "Generic Smartphone",
          "Generic Smartphone",
          "Samsung SM-G920F",
          "Generic Smartphone",
          "Generic Smartphone",
          "Generic Smartphone",
          "Generic Smartphone",
          "Samsung SM-A202F",
          "Generic Smartphone",
          "DLI-L22",
          "Generic Smartphone",
          "Generic Smartphone",
          "Generic Smartphone",
          "Samsung SM-A105FN",
          "Generic Smartphone",
          "Generic Smartphone",
          "iPhone",
          "Generic Smartphone",
          "Generic Smartphone",
          "Generic Smartphone",
          "Generic Smartphone",
          "Moto $2",
          "Generic Smartphone",
          "Samsung SM-G986B",
          "Generic Smartphone",
          "Generic Smartphone",
          "Generic Smartphone",
          "Samsung SM-G960F",
          "Samsung SM-A530F",
          "Generic Smartphone",
          "Generic Smartphone",
          "iPhone",
          "Generic Smartphone",
          "Generic Smartphone",
          "Samsung SM-J330FN",
          "Generic Smartphone",
          "Nokia undefined$2$3",
          "Samsung SM-G935F",
          "Generic Smartphone",
          "Generic Smartphone",
          "Samsung SM-G960F",
          "Samsung SM-G975F",
          "Generic Smartphone",
          "Generic Smartphone",
          "Generic Smartphone",
          "Generic Smartphone",
          "Samsung SM-A520F",
          "Samsung SM-G950F",
          "Generic Smartphone",
          "Generic Smartphone",
          "Nokia undefined$2$3",
          "Generic Smartphone",
          "Generic Smartphone",
          "Generic Smartphone",
          "Generic Smartphone",
          "PRA-LX1",
          "Generic Smartphone",
          "Generic Smartphone",
          "Samsung SM-A705FN",
          "Samsung SM-G960F",
          "Samsung SM-A405FN",
          "Samsung SM-J810F",
          "Generic Smartphone",
          "Generic Smartphone",
          "Generic Smartphone",
          "Generic Smartphone",
          "Generic Smartphone",
          "Generic Smartphone",
          "Samsung SM-G950F",
          "Samsung SM-J530F",
          "Samsung SM-A320FL",
          "iPhone",
          "Generic Smartphone",
          "Samsung SM-G950F",
          "Generic Smartphone",
          "Samsung SM-A600FN",
          "XiaoMi MI 6",
          "ANE-LX1",
          "Samsung SM-G973F",
          "Samsung SM-A300FU",
          "Samsung SM-G925F",
          "Nokia undefined$2$3",
          "X4_Soul_Infinity_Z",
          "Generic Smartphone",
          "Samsung SM-A530F",
          "Samsung SM-G920F",
          "Generic Smartphone",
          "Generic Smartphone",
          "Samsung SM-A202F",
          "Samsung SM-A202F",
          "Generic Smartphone",
          "Samsung SM-G960F",
          "Generic Smartphone",
          "Samsung SM-A202F",
          "Generic Smartphone",
          "LYA-L09",
          "Generic Smartphone",
          "Generic Smartphone",
          "Generic Smartphone",
          "Generic Smartphone",
          "Samsung SM-J330F",
          "Samsung SM-G973F",
          "Generic Smartphone",
          "Generic Smartphone",
          "OnePlus ONEPLUS A6013",
          "Samsung SM-G960F",
          "Generic Smartphone",
          "Generic Smartphone",
          "Generic Smartphone",
          "Generic Smartphone",
          "Generic Smartphone",
          "Generic Smartphone",
          "Samsung SM-A750GN",
          "Generic Smartphone",
          "VFD 720",
          "Generic Smartphone",
          "Samsung SM-G975F",
          "Samsung SM-J600FN",
          "Samsung SM-G950F",
          "Generic Smartphone",
          "Generic Smartphone",
          "Generic Smartphone",
          "Generic Smartphone",
          "Generic Smartphone",
          "Generic Smartphone",
          "Samsung SM-A405FN",
          "Generic Smartphone",
          "Generic Smartphone",
          "Pixel 2",
          "Samsung SM-J610G",
          "VTR-L09",
          "POT-LX1",
          "Generic Smartphone",
          "Generic Smartphone",
          "Generic Smartphone",
          "Generic Smartphone",
          "Samsung SM-J330FN",
          "Generic Smartphone",
          "Generic Smartphone",
          "Generic Smartphone",
          "Samsung SM-A520F",
          "Generic Smartphone",
          "Generic Smartphone",
          "Samsung SM-G973F",
          "Generic Smartphone",
          "Samsung SM-G930F",
          "Samsung SM-G960F",
          "Generic Smartphone",
          "Generic Smartphone",
          "Samsung SM-N975F",
          "Generic Smartphone",
          "iPhone",
          "Generic Smartphone",
          "Generic Smartphone",
          "Generic Smartphone",
          "Generic Smartphone",
          "Generic Smartphone",
          "Generic Smartphone",
          "Samsung SM-A300FU",
          "Generic Smartphone",
          "Samsung SM-G930F",
          "Generic Smartphone",
          "POT-LX1",
          "Generic Smartphone",
          "Samsung SM-A520F",
          "Generic Smartphone",
          "Generic Smartphone",
          "CLT-L09",
          "Generic Smartphone",
          "Samsung SM-G965F",
          "Generic Smartphone",
          "Generic Smartphone",
          "Generic Smartphone",
          "Generic Smartphone"
         ],
         "xaxis": "x",
         "yaxis": "y"
        }
       ],
       "layout": {
        "barmode": "relative",
        "legend": {
         "tracegroupgap": 0
        },
        "margin": {
         "t": 60
        },
        "template": {
         "data": {
          "bar": [
           {
            "error_x": {
             "color": "#2a3f5f"
            },
            "error_y": {
             "color": "#2a3f5f"
            },
            "marker": {
             "line": {
              "color": "#E5ECF6",
              "width": 0.5
             },
             "pattern": {
              "fillmode": "overlay",
              "size": 10,
              "solidity": 0.2
             }
            },
            "type": "bar"
           }
          ],
          "barpolar": [
           {
            "marker": {
             "line": {
              "color": "#E5ECF6",
              "width": 0.5
             },
             "pattern": {
              "fillmode": "overlay",
              "size": 10,
              "solidity": 0.2
             }
            },
            "type": "barpolar"
           }
          ],
          "carpet": [
           {
            "aaxis": {
             "endlinecolor": "#2a3f5f",
             "gridcolor": "white",
             "linecolor": "white",
             "minorgridcolor": "white",
             "startlinecolor": "#2a3f5f"
            },
            "baxis": {
             "endlinecolor": "#2a3f5f",
             "gridcolor": "white",
             "linecolor": "white",
             "minorgridcolor": "white",
             "startlinecolor": "#2a3f5f"
            },
            "type": "carpet"
           }
          ],
          "choropleth": [
           {
            "colorbar": {
             "outlinewidth": 0,
             "ticks": ""
            },
            "type": "choropleth"
           }
          ],
          "contour": [
           {
            "colorbar": {
             "outlinewidth": 0,
             "ticks": ""
            },
            "colorscale": [
             [
              0,
              "#0d0887"
             ],
             [
              0.1111111111111111,
              "#46039f"
             ],
             [
              0.2222222222222222,
              "#7201a8"
             ],
             [
              0.3333333333333333,
              "#9c179e"
             ],
             [
              0.4444444444444444,
              "#bd3786"
             ],
             [
              0.5555555555555556,
              "#d8576b"
             ],
             [
              0.6666666666666666,
              "#ed7953"
             ],
             [
              0.7777777777777778,
              "#fb9f3a"
             ],
             [
              0.8888888888888888,
              "#fdca26"
             ],
             [
              1,
              "#f0f921"
             ]
            ],
            "type": "contour"
           }
          ],
          "contourcarpet": [
           {
            "colorbar": {
             "outlinewidth": 0,
             "ticks": ""
            },
            "type": "contourcarpet"
           }
          ],
          "heatmap": [
           {
            "colorbar": {
             "outlinewidth": 0,
             "ticks": ""
            },
            "colorscale": [
             [
              0,
              "#0d0887"
             ],
             [
              0.1111111111111111,
              "#46039f"
             ],
             [
              0.2222222222222222,
              "#7201a8"
             ],
             [
              0.3333333333333333,
              "#9c179e"
             ],
             [
              0.4444444444444444,
              "#bd3786"
             ],
             [
              0.5555555555555556,
              "#d8576b"
             ],
             [
              0.6666666666666666,
              "#ed7953"
             ],
             [
              0.7777777777777778,
              "#fb9f3a"
             ],
             [
              0.8888888888888888,
              "#fdca26"
             ],
             [
              1,
              "#f0f921"
             ]
            ],
            "type": "heatmap"
           }
          ],
          "heatmapgl": [
           {
            "colorbar": {
             "outlinewidth": 0,
             "ticks": ""
            },
            "colorscale": [
             [
              0,
              "#0d0887"
             ],
             [
              0.1111111111111111,
              "#46039f"
             ],
             [
              0.2222222222222222,
              "#7201a8"
             ],
             [
              0.3333333333333333,
              "#9c179e"
             ],
             [
              0.4444444444444444,
              "#bd3786"
             ],
             [
              0.5555555555555556,
              "#d8576b"
             ],
             [
              0.6666666666666666,
              "#ed7953"
             ],
             [
              0.7777777777777778,
              "#fb9f3a"
             ],
             [
              0.8888888888888888,
              "#fdca26"
             ],
             [
              1,
              "#f0f921"
             ]
            ],
            "type": "heatmapgl"
           }
          ],
          "histogram": [
           {
            "marker": {
             "pattern": {
              "fillmode": "overlay",
              "size": 10,
              "solidity": 0.2
             }
            },
            "type": "histogram"
           }
          ],
          "histogram2d": [
           {
            "colorbar": {
             "outlinewidth": 0,
             "ticks": ""
            },
            "colorscale": [
             [
              0,
              "#0d0887"
             ],
             [
              0.1111111111111111,
              "#46039f"
             ],
             [
              0.2222222222222222,
              "#7201a8"
             ],
             [
              0.3333333333333333,
              "#9c179e"
             ],
             [
              0.4444444444444444,
              "#bd3786"
             ],
             [
              0.5555555555555556,
              "#d8576b"
             ],
             [
              0.6666666666666666,
              "#ed7953"
             ],
             [
              0.7777777777777778,
              "#fb9f3a"
             ],
             [
              0.8888888888888888,
              "#fdca26"
             ],
             [
              1,
              "#f0f921"
             ]
            ],
            "type": "histogram2d"
           }
          ],
          "histogram2dcontour": [
           {
            "colorbar": {
             "outlinewidth": 0,
             "ticks": ""
            },
            "colorscale": [
             [
              0,
              "#0d0887"
             ],
             [
              0.1111111111111111,
              "#46039f"
             ],
             [
              0.2222222222222222,
              "#7201a8"
             ],
             [
              0.3333333333333333,
              "#9c179e"
             ],
             [
              0.4444444444444444,
              "#bd3786"
             ],
             [
              0.5555555555555556,
              "#d8576b"
             ],
             [
              0.6666666666666666,
              "#ed7953"
             ],
             [
              0.7777777777777778,
              "#fb9f3a"
             ],
             [
              0.8888888888888888,
              "#fdca26"
             ],
             [
              1,
              "#f0f921"
             ]
            ],
            "type": "histogram2dcontour"
           }
          ],
          "mesh3d": [
           {
            "colorbar": {
             "outlinewidth": 0,
             "ticks": ""
            },
            "type": "mesh3d"
           }
          ],
          "parcoords": [
           {
            "line": {
             "colorbar": {
              "outlinewidth": 0,
              "ticks": ""
             }
            },
            "type": "parcoords"
           }
          ],
          "pie": [
           {
            "automargin": true,
            "type": "pie"
           }
          ],
          "scatter": [
           {
            "fillpattern": {
             "fillmode": "overlay",
             "size": 10,
             "solidity": 0.2
            },
            "type": "scatter"
           }
          ],
          "scatter3d": [
           {
            "line": {
             "colorbar": {
              "outlinewidth": 0,
              "ticks": ""
             }
            },
            "marker": {
             "colorbar": {
              "outlinewidth": 0,
              "ticks": ""
             }
            },
            "type": "scatter3d"
           }
          ],
          "scattercarpet": [
           {
            "marker": {
             "colorbar": {
              "outlinewidth": 0,
              "ticks": ""
             }
            },
            "type": "scattercarpet"
           }
          ],
          "scattergeo": [
           {
            "marker": {
             "colorbar": {
              "outlinewidth": 0,
              "ticks": ""
             }
            },
            "type": "scattergeo"
           }
          ],
          "scattergl": [
           {
            "marker": {
             "colorbar": {
              "outlinewidth": 0,
              "ticks": ""
             }
            },
            "type": "scattergl"
           }
          ],
          "scattermapbox": [
           {
            "marker": {
             "colorbar": {
              "outlinewidth": 0,
              "ticks": ""
             }
            },
            "type": "scattermapbox"
           }
          ],
          "scatterpolar": [
           {
            "marker": {
             "colorbar": {
              "outlinewidth": 0,
              "ticks": ""
             }
            },
            "type": "scatterpolar"
           }
          ],
          "scatterpolargl": [
           {
            "marker": {
             "colorbar": {
              "outlinewidth": 0,
              "ticks": ""
             }
            },
            "type": "scatterpolargl"
           }
          ],
          "scatterternary": [
           {
            "marker": {
             "colorbar": {
              "outlinewidth": 0,
              "ticks": ""
             }
            },
            "type": "scatterternary"
           }
          ],
          "surface": [
           {
            "colorbar": {
             "outlinewidth": 0,
             "ticks": ""
            },
            "colorscale": [
             [
              0,
              "#0d0887"
             ],
             [
              0.1111111111111111,
              "#46039f"
             ],
             [
              0.2222222222222222,
              "#7201a8"
             ],
             [
              0.3333333333333333,
              "#9c179e"
             ],
             [
              0.4444444444444444,
              "#bd3786"
             ],
             [
              0.5555555555555556,
              "#d8576b"
             ],
             [
              0.6666666666666666,
              "#ed7953"
             ],
             [
              0.7777777777777778,
              "#fb9f3a"
             ],
             [
              0.8888888888888888,
              "#fdca26"
             ],
             [
              1,
              "#f0f921"
             ]
            ],
            "type": "surface"
           }
          ],
          "table": [
           {
            "cells": {
             "fill": {
              "color": "#EBF0F8"
             },
             "line": {
              "color": "white"
             }
            },
            "header": {
             "fill": {
              "color": "#C8D4E3"
             },
             "line": {
              "color": "white"
             }
            },
            "type": "table"
           }
          ]
         },
         "layout": {
          "annotationdefaults": {
           "arrowcolor": "#2a3f5f",
           "arrowhead": 0,
           "arrowwidth": 1
          },
          "autotypenumbers": "strict",
          "coloraxis": {
           "colorbar": {
            "outlinewidth": 0,
            "ticks": ""
           }
          },
          "colorscale": {
           "diverging": [
            [
             0,
             "#8e0152"
            ],
            [
             0.1,
             "#c51b7d"
            ],
            [
             0.2,
             "#de77ae"
            ],
            [
             0.3,
             "#f1b6da"
            ],
            [
             0.4,
             "#fde0ef"
            ],
            [
             0.5,
             "#f7f7f7"
            ],
            [
             0.6,
             "#e6f5d0"
            ],
            [
             0.7,
             "#b8e186"
            ],
            [
             0.8,
             "#7fbc41"
            ],
            [
             0.9,
             "#4d9221"
            ],
            [
             1,
             "#276419"
            ]
           ],
           "sequential": [
            [
             0,
             "#0d0887"
            ],
            [
             0.1111111111111111,
             "#46039f"
            ],
            [
             0.2222222222222222,
             "#7201a8"
            ],
            [
             0.3333333333333333,
             "#9c179e"
            ],
            [
             0.4444444444444444,
             "#bd3786"
            ],
            [
             0.5555555555555556,
             "#d8576b"
            ],
            [
             0.6666666666666666,
             "#ed7953"
            ],
            [
             0.7777777777777778,
             "#fb9f3a"
            ],
            [
             0.8888888888888888,
             "#fdca26"
            ],
            [
             1,
             "#f0f921"
            ]
           ],
           "sequentialminus": [
            [
             0,
             "#0d0887"
            ],
            [
             0.1111111111111111,
             "#46039f"
            ],
            [
             0.2222222222222222,
             "#7201a8"
            ],
            [
             0.3333333333333333,
             "#9c179e"
            ],
            [
             0.4444444444444444,
             "#bd3786"
            ],
            [
             0.5555555555555556,
             "#d8576b"
            ],
            [
             0.6666666666666666,
             "#ed7953"
            ],
            [
             0.7777777777777778,
             "#fb9f3a"
            ],
            [
             0.8888888888888888,
             "#fdca26"
            ],
            [
             1,
             "#f0f921"
            ]
           ]
          },
          "colorway": [
           "#636efa",
           "#EF553B",
           "#00cc96",
           "#ab63fa",
           "#FFA15A",
           "#19d3f3",
           "#FF6692",
           "#B6E880",
           "#FF97FF",
           "#FECB52"
          ],
          "font": {
           "color": "#2a3f5f"
          },
          "geo": {
           "bgcolor": "white",
           "lakecolor": "white",
           "landcolor": "#E5ECF6",
           "showlakes": true,
           "showland": true,
           "subunitcolor": "white"
          },
          "hoverlabel": {
           "align": "left"
          },
          "hovermode": "closest",
          "mapbox": {
           "style": "light"
          },
          "paper_bgcolor": "white",
          "plot_bgcolor": "#E5ECF6",
          "polar": {
           "angularaxis": {
            "gridcolor": "white",
            "linecolor": "white",
            "ticks": ""
           },
           "bgcolor": "#E5ECF6",
           "radialaxis": {
            "gridcolor": "white",
            "linecolor": "white",
            "ticks": ""
           }
          },
          "scene": {
           "xaxis": {
            "backgroundcolor": "#E5ECF6",
            "gridcolor": "white",
            "gridwidth": 2,
            "linecolor": "white",
            "showbackground": true,
            "ticks": "",
            "zerolinecolor": "white"
           },
           "yaxis": {
            "backgroundcolor": "#E5ECF6",
            "gridcolor": "white",
            "gridwidth": 2,
            "linecolor": "white",
            "showbackground": true,
            "ticks": "",
            "zerolinecolor": "white"
           },
           "zaxis": {
            "backgroundcolor": "#E5ECF6",
            "gridcolor": "white",
            "gridwidth": 2,
            "linecolor": "white",
            "showbackground": true,
            "ticks": "",
            "zerolinecolor": "white"
           }
          },
          "shapedefaults": {
           "line": {
            "color": "#2a3f5f"
           }
          },
          "ternary": {
           "aaxis": {
            "gridcolor": "white",
            "linecolor": "white",
            "ticks": ""
           },
           "baxis": {
            "gridcolor": "white",
            "linecolor": "white",
            "ticks": ""
           },
           "bgcolor": "#E5ECF6",
           "caxis": {
            "gridcolor": "white",
            "linecolor": "white",
            "ticks": ""
           }
          },
          "title": {
           "x": 0.05
          },
          "xaxis": {
           "automargin": true,
           "gridcolor": "white",
           "linecolor": "white",
           "ticks": "",
           "title": {
            "standoff": 15
           },
           "zerolinecolor": "white",
           "zerolinewidth": 2
          },
          "yaxis": {
           "automargin": true,
           "gridcolor": "white",
           "linecolor": "white",
           "ticks": "",
           "title": {
            "standoff": 15
           },
           "zerolinecolor": "white",
           "zerolinewidth": 2
          }
         }
        },
        "xaxis": {
         "anchor": "y",
         "domain": [
          0,
          1
         ],
         "title": {
          "text": "device_make"
         }
        },
        "yaxis": {
         "anchor": "x",
         "domain": [
          0,
          1
         ],
         "title": {
          "text": "count"
         }
        }
       }
      },
      "text/html": [
       "<div>                            <div id=\"e3949914-1d1a-4abf-aa20-823c9777a922\" class=\"plotly-graph-div\" style=\"height:525px; width:100%;\"></div>            <script type=\"text/javascript\">                require([\"plotly\"], function(Plotly) {                    window.PLOTLYENV=window.PLOTLYENV || {};                                    if (document.getElementById(\"e3949914-1d1a-4abf-aa20-823c9777a922\")) {                    Plotly.newPlot(                        \"e3949914-1d1a-4abf-aa20-823c9777a922\",                        [{\"alignmentgroup\":\"True\",\"bingroup\":\"x\",\"hovertemplate\":\"device_make=%{x}<br>count=%{y}<extra></extra>\",\"legendgroup\":\"\",\"marker\":{\"color\":\"#636efa\",\"pattern\":{\"shape\":\"\"}},\"name\":\"\",\"offsetgroup\":\"\",\"orientation\":\"v\",\"showlegend\":false,\"x\":[\"Generic Smartphone\",\"Samsung SM-A202F\",\"Generic Smartphone\",\"Samsung SM-G935F\",\"Generic Smartphone\",\"Generic Smartphone\",\"Samsung SM-G930F\",\"Samsung SM-G981B\",\"Generic Smartphone\",\"Generic Smartphone\",\"ELE-L09\",\"Generic Smartphone\",\"Generic Smartphone\",\"Generic Smartphone\",\"Generic Smartphone\",\"Generic Smartphone\",\"Generic Smartphone\",\"Generic Smartphone\",\"Generic Smartphone\",\"Generic Smartphone\",\"Generic Smartphone\",\"Generic Smartphone\",\"Samsung SM-G960F\",\"Generic Smartphone\",\"Samsung SM-A202F\",\"Samsung SM-A405FN\",\"LG-$2\",\"Samsung SM-A320FL\",\"Generic Smartphone\",\"Samsung SM-G950F\",\"Generic Smartphone\",\"Generic Smartphone\",\"Samsung SM-A505FN\",\"Samsung SM-G960F\",\"Generic Smartphone\",\"Generic Smartphone\",\"Generic Smartphone\",\"Samsung SM-G950F\",\"Generic Smartphone\",\"Samsung SM-G973F\",\"Samsung SM-A300FU\",\"Samsung SM-G930F\",\"Generic Smartphone\",\"Generic Smartphone\",\"Generic Smartphone\",\"Generic Smartphone\",\"Generic Smartphone\",\"Samsung SM-A750FN\",\"Generic Smartphone\",\"Generic Smartphone\",\"OnePlus ONEPLUS A5000\",\"Samsung SM-J330FN\",\"Samsung SM-J610FN\",\"Generic Smartphone\",\"Samsung SM-G900F\",\"Generic Smartphone\",\"POT-LX1\",\"Generic Smartphone\",\"Nokia undefined$2$3\",\"Generic Smartphone\",\"Generic Smartphone\",\"Generic Smartphone\",\"Generic Smartphone\",\"Samsung SM-G950F\",\"Samsung SM-G950F\",\"Samsung SM-A405FN\",\"Generic Smartphone\",\"Generic Smartphone\",\"Samsung SM-G960F\",\"Nokia$2$3\",\"Generic Smartphone\",\"Samsung SM-A505FN\",\"Samsung SM-J530F\",\"Nokia$2$3\",\"Samsung SM-G975F\",\"Generic Smartphone\",\"Generic Smartphone\",\"Generic Smartphone\",\"Samsung SM-G965F\",\"Generic Smartphone\",\"Nokia$2$3\",\"Generic Smartphone\",\"Generic Smartphone\",\"Samsung SM-G930F\",\"Generic Smartphone\",\"Generic Smartphone\",\"Generic Smartphone\",\"Generic Smartphone\",\"Samsung SM-G920F\",\"Generic Smartphone\",\"Generic Smartphone\",\"Samsung $2\",\"Generic Smartphone\",\"Generic Smartphone\",\"Generic Smartphone\",\"Samsung SM-G986B\",\"Generic Smartphone\",\"Samsung SM-G935F\",\"Generic Smartphone\",\"Generic Smartphone\",\"Generic Smartphone\",\"LG-$2\",\"Samsung SM-A705FN\",\"Pixel 3\",\"Samsung SM-J730F\",\"Generic Smartphone\",\"Generic Smartphone\",\"Generic Smartphone\",\"Generic Smartphone\",\"Samsung SM-G960F\",\"Generic Smartphone\",\"Generic Smartphone\",\"Samsung SM-G950F\",\"Generic Smartphone\",\"Generic Smartphone\",\"Samsung SM-A715F\",\"Nokia undefined$2$3\",\"ELE-L09\",\"Samsung SM-G970F\",\"Generic Smartphone\",\"POT-LX1\",\"Generic Smartphone\",\"Samsung SM-G975F\",\"Generic Smartphone\",\"Samsung SM-G950F\",\"Samsung SM-G970F\",\"Generic Smartphone\",\"Samsung SM-G960F\",\"YAL-L21\",\"Generic Smartphone\",\"Generic Smartphone\",\"Generic Smartphone\",\"Generic Smartphone\",\"Generic Smartphone\",\"Samsung SM-G960F\",\"Generic Smartphone\",\"ANE-LX1\",\"Samsung SM-G955F\",\"Samsung SM-G973F\",\"Generic Smartphone\",\"LG-$2\",\"Generic Smartphone\",\"Samsung SM-J600FN\",\"Generic Smartphone\",\"ANE-LX1\",\"Generic Smartphone\",\"Samsung SM-G988B\",\"Samsung SM-A405FN\",\"Samsung SM-A405FN\",\"Generic Smartphone\",\"Generic Smartphone\",\"Generic Smartphone\",\"Huawei Browser\",\"Samsung SM-A705FN\",\"Generic Smartphone\",\"Samsung SM-A705FN\",\"Generic Smartphone\",\"Generic Smartphone\",\"Generic Smartphone\",\"Generic Smartphone\",\"Samsung SM-A320FL\",\"Samsung SM-G973F\",\"Samsung SM-G960F\",\"Samsung SM-G980F\",\"Generic Smartphone\",\"Nokia$2$3\",\"Generic Smartphone\",\"Generic Smartphone\",\"Generic Smartphone\",\"Generic Smartphone\",\"Samsung SM-G970F\",\"Generic Smartphone\",\"Generic Smartphone\",\"Generic Smartphone\",\"Generic Smartphone\",\"Samsung SM-A320FL\",\"Generic Smartphone\",\"Generic Smartphone\",\"Generic Smartphone\",\"Generic Smartphone\",\"Generic Smartphone\",\"LG-$2\",\"Generic Smartphone\",\"Generic Smartphone\",\"Generic Smartphone\",\"Generic Smartphone\",\"Samsung SM-G973F\",\"Samsung SM-A405FN\",\"Generic Smartphone\",\"Generic Smartphone\",\"Samsung SM-G930F\",\"Samsung SM-G930F\",\"Generic Smartphone\",\"Generic Smartphone\",\"Generic Smartphone\",\"Generic Smartphone\",\"Samsung SM-G950F\",\"Generic Smartphone\",\"Generic Smartphone\",\"Samsung SM-G960F\",\"Generic Smartphone\",\"Generic Smartphone\",\"iPhone\",\"Samsung $2\",\"Samsung SM-G973F\",\"Samsung SM-A600FN\",\"Generic Smartphone\",\"Generic Smartphone\",\"MRD-LX1\",\"Samsung SM-J530F\",\"Generic Smartphone\",\"Samsung SM-N950F\",\"VFD 700\",\"Samsung SM-G960F\",\"Samsung SM-A310F\",\"Samsung SM-G973F\",\"Samsung SM-G973F\",\"Generic Smartphone\",\"Samsung SM-G950F\",\"Nokia undefined$2$3\",\"Generic Smartphone\",\"Generic Smartphone\",\"Generic Smartphone\",\"Samsung SM-G960F\",\"Generic Smartphone\",\"Generic Smartphone\",\"Generic Smartphone\",\"Generic Smartphone\",\"Samsung SM-G970F\",\"Samsung SM-G975F\",\"Samsung SM-G930F\",\"Generic Smartphone\",\"Generic Smartphone\",\"XiaoMi MI 8 Pro\",\"Samsung SM-G981B\",\"ELE-L09\",\"ELE-L29\",\"Generic Smartphone\",\"Generic Smartphone\",\"Samsung SM-A507FN\",\"Generic Smartphone\",\"Generic Smartphone\",\"MAR-LX1A\",\"Generic Smartphone\",\"Samsung SM-A202F\",\"Generic Smartphone\",\"iPhone\",\"Samsung SM-G973F\",\"Generic Smartphone\",\"Nokia undefined$2$3\",\"Generic Smartphone\",\"Generic Smartphone\",\"Samsung SM-G975F\",\"Generic Smartphone\",\"Generic Smartphone\",\"Samsung SM-G975F\",\"Samsung SM-A750FN\",\"Generic Smartphone\",\"Generic Smartphone\",\"Generic Smartphone\",\"Generic Smartphone\",\"Generic Smartphone\",\"Generic Smartphone\",\"Samsung SM-A105FN\",\"Generic Smartphone\",\"Samsung SM-G965F\",\"Generic Smartphone\",\"Generic Smartphone\",\"Generic Smartphone\",\"Samsung SM-A202F\",\"Generic Smartphone\",\"Generic Smartphone\",\"Samsung SM-G920F\",\"Generic Smartphone\",\"Samsung SM-G960F\",\"Generic Smartphone\",\"HTC Desire $2\",\"Samsung SM-G930F\",\"Generic Smartphone\",\"Generic Smartphone\",\"Generic Smartphone\",\"I3312\",\"A0001\",\"Samsung SM-J330FN\",\"Generic Smartphone\",\"LG-$2\",\"Generic Smartphone\",\"Generic Smartphone\",\"Generic Smartphone\",\"MRD-LX1\",\"Samsung SM-A505FN\",\"Generic Smartphone\",\"Generic Smartphone\",\"Generic Smartphone\",\"Generic Smartphone\",\"Generic Smartphone\",\"Samsung SM-A202F\",\"Generic Smartphone\",\"Generic Smartphone\",\"Generic Smartphone\",\"Generic Smartphone\",\"Generic Smartphone\",\"Generic Smartphone\",\"Generic Smartphone\",\"Samsung SM-G960F\",\"Samsung SM-G950F\",\"Samsung SM-G977B\",\"Samsung SM-A105FN\",\"Samsung SM-G950F\",\"LG-$2\",\"Samsung SM-J415FN\",\"Samsung SM-J610FN\",\"Nokia undefined$2$3\",\"Generic Smartphone\",\"Generic Smartphone\",\"Generic Smartphone\",\"Samsung SM-G930F\",\"Generic Smartphone\",\"Generic Smartphone\",\"IMO $2\",\"Samsung SM-G900F\",\"Generic Smartphone\",\"Generic Smartphone\",\"Generic Smartphone\",\"Generic Smartphone\",\"Generic Smartphone\",\"Samsung SM-G965F\",\"Generic Smartphone\",\"Samsung SM-G960F\",\"Generic Smartphone\",\"Generic Smartphone\",\"Generic Smartphone\",\"Generic Smartphone\",\"Samsung SM-A530F\",\"Generic Smartphone\",\"Samsung SM-G950F\",\"Generic Smartphone\",\"XiaoMi MI MAX 3\",\"Samsung SM-G950F\",\"Generic Smartphone\",\"Samsung SM-G960F\",\"Generic Smartphone\",\"Nokia$2$3\",\"Generic Smartphone\",\"Generic Smartphone\",\"Generic Smartphone\",\"Generic Smartphone\",\"Samsung $2\",\"Samsung SM-G960F\",\"Generic Smartphone\",\"F3311\",\"Samsung SM-G960F\",\"Generic Smartphone\",\"Generic Smartphone\",\"iPhone\",\"Generic Smartphone\",\"Generic Smartphone\",\"Samsung SM-G965F\",\"Pixel 3\",\"Samsung SM-A600FN\",\"Generic Smartphone\",\"Generic Smartphone\",\"Samsung SM-G975F\",\"Generic Smartphone\",\"Samsung SM-G950F\",\"Generic Smartphone\",\"Samsung SM-A105FN\",\"Samsung SM-A105FN\",\"Generic Smartphone\",\"Generic Smartphone\",\"Generic Smartphone\",\"LG-$2\",\"Samsung SM-G955F\",\"Generic Smartphone\",\"Samsung SM-A405FN\",\"Generic Smartphone\",\"Generic Smartphone\",\"Generic Smartphone\",\"OnePlus ONEPLUS A5010\",\"Generic Smartphone\",\"Samsung SM-A202F\",\"Generic Smartphone\",\"Generic Smartphone\",\"Generic Smartphone\",\"Generic Smartphone\",\"Generic Smartphone\",\"Generic Smartphone\",\"TA-1033\",\"Pixel 3\",\"Generic Smartphone\",\"Samsung SM-A105FN\",\"Generic Smartphone\",\"Samsung SM-G960F\",\"Generic Smartphone\",\"Pixel 3a\",\"Generic Smartphone\",\"Samsung SM-G960F\",\"Generic Smartphone\",\"Samsung SM-N976B\",\"LG-$2\",\"Generic Smartphone\",\"Generic Smartphone\",\"Samsung SM-A505FN\",\"Generic Smartphone\",\"Generic Smartphone\",\"Samsung SM-A202F\",\"Generic Smartphone\",\"Generic Smartphone\",\"Generic Smartphone\",\"Generic Smartphone\",\"Generic Smartphone\",\"Samsung SM-G975F\",\"Generic Smartphone\",\"Generic Smartphone\",\"Generic Smartphone\",\"Generic Smartphone\",\"Samsung SM-G965F\",\"Samsung SM-A202F\",\"Generic Smartphone\",\"Generic Smartphone\",\"Generic Smartphone\",\"OnePlus ONEPLUS A6013\",\"ANE-LX1\",\"Generic Smartphone\",\"Samsung SM-G970F\",\"Samsung SM-G770F\",\"Generic Smartphone\",\"Samsung SM-A705FN\",\"Generic Smartphone\",\"Generic Smartphone\",\"Samsung SM-J530F\",\"Generic Smartphone\",\"Generic Smartphone\",\"Samsung SM-G960F\",\"Generic Smartphone\",\"Generic Smartphone\",\"Samsung SM-J320FN\",\"Samsung SM-G930F\",\"Generic Smartphone\",\"Generic Smartphone\",\"Generic Smartphone\",\"Generic Smartphone\",\"Samsung SM-G960F\",\"Generic Smartphone\",\"Samsung SM-G960F\",\"POT-LX1\",\"Samsung SM-G965F\",\"Generic Smartphone\",\"Generic Smartphone\",\"Samsung SM-G930F\",\"Generic Smartphone\",\"VOG-L29\",\"Generic Smartphone\",\"Generic Smartphone\",\"HTC One $2\",\"Samsung SM-G950F\",\"Samsung SM-A310F\",\"Generic Smartphone\",\"Samsung SM-A530F\",\"Generic Smartphone\",\"Generic Smartphone\",\"Generic Smartphone\",\"Generic Smartphone\",\"Samsung SM-A505FN\",\"Generic Smartphone\",\"Generic Smartphone\",\"Generic Smartphone\",\"Generic Smartphone\",\"Generic Smartphone\",\"Samsung SM-G920F\",\"OnePlus ONEPLUS A3000\",\"FIG-LX1\",\"Samsung SM-J530F\",\"Generic Smartphone\",\"Pixel 3\",\"Samsung SM-A530F\",\"Generic Smartphone\",\"Samsung SM-A202F\",\"Samsung SM-G935F\",\"Generic Smartphone\",\"Generic Smartphone\",\"Samsung SM-A600FN\",\"Generic Smartphone\",\"Generic Smartphone\",\"Generic Smartphone\",\"Generic Smartphone\",\"Generic Smartphone\",\"Generic Smartphone\",\"Generic Smartphone\",\"Generic Smartphone\",\"EVA-L09\",\"Generic Smartphone\",\"iPhone\",\"Generic Smartphone\",\"Generic Smartphone\",\"LG-$2\",\"Samsung SM-G955F\",\"Generic Smartphone\",\"Generic Smartphone\",\"Samsung SM-G986B\",\"Generic Smartphone\",\"Samsung SM-N976B\",\"PCT-L29\",\"Generic Smartphone\",\"Samsung SM-G970F\",\"Samsung SM-G970F\",\"Generic Smartphone\",\"Generic Smartphone\",\"Samsung SM-J500FN\",\"Generic Smartphone\",\"Generic Smartphone\",\"Samsung SM-A505FN\",\"Samsung SM-G965F\",\"Generic Smartphone\",\"Samsung SM-G935F\",\"Generic Smartphone\",\"Pixel 3a\",\"Generic Smartphone\",\"iPhone\",\"Samsung SM-G981B\",\"Nokia undefined$2$3\",\"Samsung SM-G965F\",\"Samsung SM-N960F\",\"Generic Smartphone\",\"MAR-LX1A\",\"Generic Smartphone\",\"Generic Smartphone\",\"Generic Smartphone\",\"Generic Smartphone\",\"Samsung SM-J330FN\",\"Generic Smartphone\",\"G3311\",\"FIG-LX1\",\"Samsung SM-A202F\",\"VCE-L22\",\"Generic Smartphone\",\"Pixel 2\",\"Generic Smartphone\",\"Samsung SM-G973F\",\"Samsung SM-G930F\",\"Samsung SM-G970F\",\"Generic Smartphone\",\"Generic Smartphone\",\"Samsung SM-J530F\",\"Samsung SM-G975F\",\"Generic Smartphone\",\"Samsung SM-J530F\",\"Samsung SM-N970F\",\"Samsung SM-A105FN\",\"Samsung SM-A105FN\",\"Samsung SM-G950F\",\"Samsung SM-A715F\",\"Generic Smartphone\",\"Samsung SM-G935F\",\"Generic Smartphone\",\"Samsung SM-G950F\",\"Generic Smartphone\",\"Generic Smartphone\",\"VOG-L29\",\"Generic Smartphone\",\"Generic Smartphone\",\"XiaoMi Redmi S2\",\"Generic Smartphone\",\"Samsung SM-J330FN\",\"Generic Smartphone\",\"Samsung SM-G975F\",\"Generic Smartphone\",\"Generic Smartphone\",\"Generic Smartphone\",\"Samsung SM-G973F\",\"Generic Smartphone\",\"Generic Smartphone\",\"E5823\",\"Generic Smartphone\",\"Generic Smartphone\",\"Generic Smartphone\",\"I3312\",\"Generic Smartphone\",\"Generic Smartphone\",\"MRD-LX1\",\"Moto $2\",\"Generic Smartphone\",\"Samsung SM-J600FN\",\"Samsung SM-A105FN\",\"Generic Smartphone\",\"Generic Smartphone\",\"Generic Smartphone\",\"Samsung SM-G973F\",\"Generic Smartphone\",\"Samsung SM-G950F\",\"Generic Smartphone\",\"Generic Smartphone\",\"Samsung SM-G960F\",\"Samsung SM-N960F\",\"VOG-L09\",\"Generic Smartphone\",\"Samsung SM-G960F\",\"Generic Smartphone\",\"Generic Smartphone\",\"Samsung SM-A705FN\",\"Generic Smartphone\",\"Generic Smartphone\",\"Samsung SM-G950F\",\"ANE-LX1\",\"Generic Smartphone\",\"Samsung SM-A705FN\",\"Generic Smartphone\",\"POT-LX1\",\"Generic Smartphone\",\"Samsung SM-G973F\",\"Generic Smartphone\",\"Generic Smartphone\",\"Generic Smartphone\",\"Generic Smartphone\",\"Samsung SM-A705FN\",\"Generic Smartphone\",\"Samsung SM-A520F\",\"Generic Smartphone\",\"Generic Smartphone\",\"Generic Smartphone\",\"Generic Smartphone\",\"Generic Smartphone\",\"Generic Smartphone\",\"Generic Smartphone\",\"Generic Smartphone\",\"Generic Smartphone\",\"Samsung SM-J330FN\",\"Generic Smartphone\",\"Generic Smartphone\",\"STF-L09\",\"Generic Smartphone\",\"I3312\",\"Moto $2\",\"HTC 10\",\"Generic Smartphone\",\"iPhone\",\"Generic Smartphone\",\"VOG-L29\",\"XiaoMi Redmi Note 7\",\"Generic Smartphone\",\"Generic Smartphone\",\"Generic Smartphone\",\"Samsung SM-G981B\",\"Samsung SM-A520F\",\"Generic Smartphone\",\"Generic Smartphone\",\"Generic Smartphone\",\"POT-LX1\",\"ELE-L29\",\"Huawei Browser\",\"Samsung SM-A202F\",\"Generic Smartphone\",\"Samsung SM-G955F\",\"Generic Smartphone\",\"Samsung SM-A920F\",\"Samsung SM-A520F\",\"Samsung SM-G900F\",\"Generic Smartphone\",\"Generic Smartphone\",\"Generic Smartphone\",\"iPhone\",\"Generic Smartphone\",\"Samsung SM-G960F\",\"Samsung SM-G930F\",\"VOG-L09\",\"LYA-L09\",\"Generic Smartphone\",\"Generic Smartphone\",\"Generic Smartphone\",\"Generic Smartphone\",\"Nokia undefined$2$3\",\"Samsung SM-G950F\",\"MAR-LX1A\",\"Samsung SM-G950F\",\"Samsung SM-A320FL\",\"Nokia$2$3\",\"CLT-L09\",\"Generic Smartphone\",\"Samsung SM-J415FN\",\"Samsung SM-G950F\",\"Generic Smartphone\",\"Generic Smartphone\",\"Samsung SM-G970F\",\"Generic Smartphone\",\"Generic Smartphone\",\"Generic Smartphone\",\"Samsung SM-G973F\",\"VOG-L29\",\"Samsung SM-A705FN\",\"Generic Smartphone\",\"Generic Smartphone\",\"Generic Smartphone\",\"Generic Smartphone\",\"Generic Smartphone\",\"Generic Smartphone\",\"Generic Smartphone\",\"Generic Smartphone\",\"Generic Smartphone\",\"Generic Smartphone\",\"Samsung SM-N960F\",\"Generic Smartphone\",\"Generic Smartphone\",\"HTC U12+\",\"Samsung SM-G770F\",\"Generic Smartphone\",\"Samsung SM-J330G\",\"Generic Smartphone\",\"Samsung SM-A105FN\",\"Generic Smartphone\",\"Generic Smartphone\",\"Samsung SM-G975F\",\"Generic Smartphone\",\"Generic Smartphone\",\"Generic Smartphone\",\"Generic Smartphone\",\"Generic Smartphone\",\"Generic Smartphone\",\"Samsung SM-J330FN\",\"Generic Smartphone\",\"I3312\",\"Generic Smartphone\",\"G3311\",\"Samsung SM-G973F\",\"Samsung SM-J320FN\",\"Generic Smartphone\",\"Generic Smartphone\",\"Generic Smartphone\",\"Generic Smartphone\",\"Generic Smartphone\",\"Generic Smartphone\",\"Generic Smartphone\",\"Generic Smartphone\",\"Samsung SM-G950F\",\"Samsung SM-J510FN\",\"Generic Smartphone\",\"XiaoMi Redmi 6A\",\"Generic Smartphone\",\"Generic Smartphone\",\"Generic Smartphone\",\"Generic Smartphone\",\"SNE-LX1\",\"Samsung SM-N976B\",\"Generic Smartphone\",\"Samsung SM-G960F\",\"Samsung SM-G935F\",\"Generic Smartphone\",\"Samsung SM-A105FN\",\"Generic Smartphone\",\"Generic Smartphone\",\"Generic Smartphone\",\"Generic Smartphone\",\"Generic Smartphone\",\"Generic Smartphone\",\"Generic Smartphone\",\"Samsung SM-G980F\",\"Generic Smartphone\",\"Generic Smartphone\",\"Nokia undefined$2$3\",\"Samsung SM-G935F\",\"LG-$2\",\"Generic Smartphone\",\"Samsung SM-G975F\",\"Generic Smartphone\",\"Generic Smartphone\",\"Generic Smartphone\",\"Samsung SM-A202F\",\"Generic Smartphone\",\"Generic Smartphone\",\"Samsung SM-A520F\",\"Generic Smartphone\",\"Generic Smartphone\",\"Samsung $2\",\"Generic Smartphone\",\"MRD-LX1\",\"Samsung SM-J320FN\",\"Samsung SM-G965U1\",\"Generic Smartphone\",\"Generic Smartphone\",\"Samsung SM-G960F\",\"Nokia$2$3\",\"Generic Smartphone\",\"Samsung SM-G900F\",\"iPhone\",\"iPhone\",\"Generic Smartphone\",\"Generic Smartphone\",\"Generic Smartphone\",\"Generic Smartphone\",\"Generic Smartphone\",\"Generic Smartphone\",\"Generic Smartphone\",\"Moto $2\",\"Generic Smartphone\",\"Generic Smartphone\",\"Generic Smartphone\",\"Generic Smartphone\",\"Generic Smartphone\",\"Generic Smartphone\",\"VTR-L09\",\"Generic Smartphone\",\"Generic Smartphone\",\"Generic Smartphone\",\"Samsung SM-G973F\",\"Samsung SM-G960F\",\"Generic Smartphone\",\"Generic Smartphone\",\"Samsung SM-A105FN\",\"Generic Smartphone\",\"Generic Smartphone\",\"Samsung SM-N960F\",\"Generic Smartphone\",\"Generic Smartphone\",\"Samsung SM-G973F\",\"Generic Smartphone\",\"Generic Smartphone\",\"Generic Smartphone\",\"Generic Smartphone\",\"Samsung SM-G960F\",\"Samsung SM-G960F\",\"Generic Smartphone\",\"Samsung SM-A320FL\",\"Generic Smartphone\",\"Generic Smartphone\",\"CLT-L09\",\"Generic Smartphone\",\"Generic Smartphone\",\"Generic Smartphone\",\"Samsung $2\",\"Generic Smartphone\",\"Generic Smartphone\",\"Samsung SM-G960F\",\"Generic Smartphone\",\"Generic Smartphone\",\"Samsung SM-A705FN\",\"Samsung SM-A520F\",\"Generic Smartphone\",\"Generic Smartphone\",\"Samsung SM-G960F\",\"Generic Smartphone\",\"Generic Smartphone\",\"Generic Smartphone\",\"Generic Smartphone\",\"Generic Smartphone\",\"Generic Smartphone\",\"Generic Smartphone\",\"Generic Smartphone\",\"Samsung SM-A202F\",\"Generic Smartphone\",\"Generic Smartphone\",\"Samsung SM-G970F\",\"Generic Smartphone\",\"MAR-LX1A\",\"Generic Smartphone\",\"Generic Smartphone\",\"Generic Smartphone\",\"Samsung SM-A405FN\",\"Samsung SM-N920I\",\"Samsung SM-G977B\",\"Generic Smartphone\",\"Generic Smartphone\",\"Generic Smartphone\",\"Generic Smartphone\",\"Generic Smartphone\",\"Nokia$2$3\",\"Generic Smartphone\",\"Generic Smartphone\",\"Samsung SM-N970F\",\"Generic Smartphone\",\"Generic Smartphone\",\"Generic Smartphone\",\"ELE-L09\",\"Generic Smartphone\",\"Samsung SM-G975F\",\"Samsung SM-G930F\",\"Generic Smartphone\",\"Generic Smartphone\",\"Generic Smartphone\",\"Samsung SM-G950F\",\"Generic Smartphone\",\"Generic Smartphone\",\"Samsung SM-J330FN\",\"Generic Smartphone\",\"Generic Smartphone\",\"Nokia$2$3\",\"Samsung SM-G950F\",\"Generic Smartphone\",\"Generic Smartphone\",\"Generic Smartphone\",\"Samsung SM-A105FN\",\"Samsung SM-G950F\",\"Samsung SM-J600FN\",\"Samsung SM-G975F\",\"MAR-LX1A\",\"Generic Smartphone\",\"Generic Smartphone\",\"Samsung SM-G950F\",\"CLT-L09\",\"Samsung SM-G950F\",\"Generic Smartphone\",\"Generic Smartphone\",\"Samsung SM-A300FU\",\"Samsung SM-G960F\",\"Generic Smartphone\",\"Samsung SM-A505FN\",\"Generic Smartphone\",\"Generic Smartphone\",\"Generic Smartphone\",\"Generic Smartphone\",\"POT-LX1\",\"Samsung SM-G980F\",\"Samsung SM-A515F\",\"Generic Smartphone\",\"PRA-LX1\",\"Generic Smartphone\",\"Generic Smartphone\",\"Generic Smartphone\",\"Generic Smartphone\",\"Generic Smartphone\",\"Generic Smartphone\",\"iPhone\",\"Generic Smartphone\",\"Generic Smartphone\",\"Samsung SM-G950F\",\"Generic Smartphone\",\"Generic Smartphone\",\"Samsung SM-N960F\",\"Generic Smartphone\",\"Generic Smartphone\",\"Samsung SM-A320FL\",\"Samsung SM-N950F\",\"Generic Smartphone\",\"Generic Smartphone\",\"Generic Smartphone\",\"Samsung SM-A405FN\",\"Generic Smartphone\",\"Generic Smartphone\",\"Samsung SM-A505FN\",\"Samsung SM-G900F\",\"Generic Smartphone\",\"Samsung SM-G986B\",\"Samsung SM-G973F\",\"EVR-N29\",\"Generic Smartphone\",\"I3312\",\"Generic Smartphone\",\"Generic Smartphone\",\"Generic Smartphone\",\"Generic Smartphone\",\"Generic Smartphone\",\"Generic Smartphone\",\"Samsung SM-G960F\",\"LYA-L09\",\"Samsung SM-G610F\",\"Generic Smartphone\",\"Generic Smartphone\",\"ANE-LX1\",\"Samsung SM-A920F\",\"Generic Smartphone\",\"Generic Smartphone\",\"Generic Smartphone\",\"iPhone\",\"Generic Smartphone\",\"Samsung SM-A405FN\",\"Generic Smartphone\",\"iPhone\",\"Generic Smartphone\",\"Samsung SM-A515F\",\"Samsung SM-G980F\",\"Generic Smartphone\",\"MAR-LX1A\",\"Generic Smartphone\",\"Generic Smartphone\",\"Samsung SM-G965F\",\"Generic Smartphone\",\"Generic Smartphone\",\"Generic Smartphone\",\"Generic Smartphone\",\"Samsung SM-G960F\",\"iPhone\",\"Generic Smartphone\",\"Generic Smartphone\",\"Generic Smartphone\",\"Generic Smartphone\",\"Samsung SM-A320FL\",\"Samsung SM-G960F\",\"Generic Smartphone\",\"Generic Smartphone\",\"VFD 820\",\"Generic Smartphone\",\"Generic Smartphone\",\"Samsung SM-A505FN\",\"CLT-L09\",\"Generic Smartphone\",\"Generic Smartphone\",\"Samsung SM-G960F\",\"Generic Smartphone\",\"LG-$2\",\"Generic Smartphone\",\"Samsung SM-G960F\",\"Samsung SM-G935F\",\"Pixel 4\",\"Samsung SM-J600FN\",\"Generic Smartphone\",\"I3312\",\"Generic Smartphone\",\"Samsung SM-A405FN\",\"Samsung SM-G930F\",\"Generic Smartphone\",\"Generic Smartphone\",\"Generic Smartphone\",\"Generic Smartphone\",\"Generic Smartphone\",\"Samsung SM-G950F\",\"Generic Smartphone\",\"iPhone\",\"Samsung SM-G935F\",\"Generic Smartphone\",\"Generic Smartphone\",\"Samsung SM-A300FU\",\"Generic Smartphone\",\"Generic Smartphone\",\"Generic Smartphone\",\"Generic Smartphone\",\"Generic Smartphone\",\"Generic Smartphone\",\"Generic Smartphone\",\"Pixel 2\",\"Generic Smartphone\",\"Generic Smartphone\",\"Samsung SM-G960F\",\"Samsung SM-G950F\",\"EML-L09\",\"Samsung SM-G950F\",\"Samsung SM-G770F\",\"Samsung SM-A405FN\",\"Generic Smartphone\",\"Samsung SM-G973F\",\"Samsung SM-A505FN\",\"Generic Smartphone\",\"Generic Smartphone\",\"Generic Smartphone\",\"Samsung SM-G965F\",\"Samsung SM-J330FN\",\"Generic Smartphone\",\"Generic Smartphone\",\"Samsung SM-A202F\",\"Generic Smartphone\",\"Generic Smartphone\",\"Generic Smartphone\",\"Samsung SM-G935F\",\"Samsung SM-G973F\",\"Samsung SM-G960F\",\"Generic Smartphone\",\"Samsung SM-J600FN\",\"Generic Smartphone\",\"Generic Smartphone\",\"Samsung SM-A505FN\",\"Generic Smartphone\",\"Pixel 4\",\"Generic Smartphone\",\"Generic Smartphone\",\"Generic Smartphone\",\"Samsung SM-N950F\",\"Samsung $2\",\"Generic Smartphone\",\"Generic Smartphone\",\"Samsung SM-A405FN\",\"Generic Smartphone\",\"Samsung SM-G988B\",\"Generic Smartphone\",\"Generic Smartphone\",\"Samsung SM-G920F\",\"Generic Smartphone\",\"Generic Smartphone\",\"Generic Smartphone\",\"Generic Smartphone\",\"Samsung SM-A202F\",\"Generic Smartphone\",\"DLI-L22\",\"Generic Smartphone\",\"Generic Smartphone\",\"Generic Smartphone\",\"Samsung SM-A105FN\",\"Generic Smartphone\",\"Generic Smartphone\",\"iPhone\",\"Generic Smartphone\",\"Generic Smartphone\",\"Generic Smartphone\",\"Generic Smartphone\",\"Moto $2\",\"Generic Smartphone\",\"Samsung SM-G986B\",\"Generic Smartphone\",\"Generic Smartphone\",\"Generic Smartphone\",\"Samsung SM-G960F\",\"Samsung SM-A530F\",\"Generic Smartphone\",\"Generic Smartphone\",\"iPhone\",\"Generic Smartphone\",\"Generic Smartphone\",\"Samsung SM-J330FN\",\"Generic Smartphone\",\"Nokia undefined$2$3\",\"Samsung SM-G935F\",\"Generic Smartphone\",\"Generic Smartphone\",\"Samsung SM-G960F\",\"Samsung SM-G975F\",\"Generic Smartphone\",\"Generic Smartphone\",\"Generic Smartphone\",\"Generic Smartphone\",\"Samsung SM-A520F\",\"Samsung SM-G950F\",\"Generic Smartphone\",\"Generic Smartphone\",\"Nokia undefined$2$3\",\"Generic Smartphone\",\"Generic Smartphone\",\"Generic Smartphone\",\"Generic Smartphone\",\"PRA-LX1\",\"Generic Smartphone\",\"Generic Smartphone\",\"Samsung SM-A705FN\",\"Samsung SM-G960F\",\"Samsung SM-A405FN\",\"Samsung SM-J810F\",\"Generic Smartphone\",\"Generic Smartphone\",\"Generic Smartphone\",\"Generic Smartphone\",\"Generic Smartphone\",\"Generic Smartphone\",\"Samsung SM-G950F\",\"Samsung SM-J530F\",\"Samsung SM-A320FL\",\"iPhone\",\"Generic Smartphone\",\"Samsung SM-G950F\",\"Generic Smartphone\",\"Samsung SM-A600FN\",\"XiaoMi MI 6\",\"ANE-LX1\",\"Samsung SM-G973F\",\"Samsung SM-A300FU\",\"Samsung SM-G925F\",\"Nokia undefined$2$3\",\"X4_Soul_Infinity_Z\",\"Generic Smartphone\",\"Samsung SM-A530F\",\"Samsung SM-G920F\",\"Generic Smartphone\",\"Generic Smartphone\",\"Samsung SM-A202F\",\"Samsung SM-A202F\",\"Generic Smartphone\",\"Samsung SM-G960F\",\"Generic Smartphone\",\"Samsung SM-A202F\",\"Generic Smartphone\",\"LYA-L09\",\"Generic Smartphone\",\"Generic Smartphone\",\"Generic Smartphone\",\"Generic Smartphone\",\"Samsung SM-J330F\",\"Samsung SM-G973F\",\"Generic Smartphone\",\"Generic Smartphone\",\"OnePlus ONEPLUS A6013\",\"Samsung SM-G960F\",\"Generic Smartphone\",\"Generic Smartphone\",\"Generic Smartphone\",\"Generic Smartphone\",\"Generic Smartphone\",\"Generic Smartphone\",\"Samsung SM-A750GN\",\"Generic Smartphone\",\"VFD 720\",\"Generic Smartphone\",\"Samsung SM-G975F\",\"Samsung SM-J600FN\",\"Samsung SM-G950F\",\"Generic Smartphone\",\"Generic Smartphone\",\"Generic Smartphone\",\"Generic Smartphone\",\"Generic Smartphone\",\"Generic Smartphone\",\"Samsung SM-A405FN\",\"Generic Smartphone\",\"Generic Smartphone\",\"Pixel 2\",\"Samsung SM-J610G\",\"VTR-L09\",\"POT-LX1\",\"Generic Smartphone\",\"Generic Smartphone\",\"Generic Smartphone\",\"Generic Smartphone\",\"Samsung SM-J330FN\",\"Generic Smartphone\",\"Generic Smartphone\",\"Generic Smartphone\",\"Samsung SM-A520F\",\"Generic Smartphone\",\"Generic Smartphone\",\"Samsung SM-G973F\",\"Generic Smartphone\",\"Samsung SM-G930F\",\"Samsung SM-G960F\",\"Generic Smartphone\",\"Generic Smartphone\",\"Samsung SM-N975F\",\"Generic Smartphone\",\"iPhone\",\"Generic Smartphone\",\"Generic Smartphone\",\"Generic Smartphone\",\"Generic Smartphone\",\"Generic Smartphone\",\"Generic Smartphone\",\"Samsung SM-A300FU\",\"Generic Smartphone\",\"Samsung SM-G930F\",\"Generic Smartphone\",\"POT-LX1\",\"Generic Smartphone\",\"Samsung SM-A520F\",\"Generic Smartphone\",\"Generic Smartphone\",\"CLT-L09\",\"Generic Smartphone\",\"Samsung SM-G965F\",\"Generic Smartphone\",\"Generic Smartphone\",\"Generic Smartphone\",\"Generic Smartphone\"],\"xaxis\":\"x\",\"yaxis\":\"y\",\"type\":\"histogram\"}],                        {\"template\":{\"data\":{\"histogram2dcontour\":[{\"type\":\"histogram2dcontour\",\"colorbar\":{\"outlinewidth\":0,\"ticks\":\"\"},\"colorscale\":[[0.0,\"#0d0887\"],[0.1111111111111111,\"#46039f\"],[0.2222222222222222,\"#7201a8\"],[0.3333333333333333,\"#9c179e\"],[0.4444444444444444,\"#bd3786\"],[0.5555555555555556,\"#d8576b\"],[0.6666666666666666,\"#ed7953\"],[0.7777777777777778,\"#fb9f3a\"],[0.8888888888888888,\"#fdca26\"],[1.0,\"#f0f921\"]]}],\"choropleth\":[{\"type\":\"choropleth\",\"colorbar\":{\"outlinewidth\":0,\"ticks\":\"\"}}],\"histogram2d\":[{\"type\":\"histogram2d\",\"colorbar\":{\"outlinewidth\":0,\"ticks\":\"\"},\"colorscale\":[[0.0,\"#0d0887\"],[0.1111111111111111,\"#46039f\"],[0.2222222222222222,\"#7201a8\"],[0.3333333333333333,\"#9c179e\"],[0.4444444444444444,\"#bd3786\"],[0.5555555555555556,\"#d8576b\"],[0.6666666666666666,\"#ed7953\"],[0.7777777777777778,\"#fb9f3a\"],[0.8888888888888888,\"#fdca26\"],[1.0,\"#f0f921\"]]}],\"heatmap\":[{\"type\":\"heatmap\",\"colorbar\":{\"outlinewidth\":0,\"ticks\":\"\"},\"colorscale\":[[0.0,\"#0d0887\"],[0.1111111111111111,\"#46039f\"],[0.2222222222222222,\"#7201a8\"],[0.3333333333333333,\"#9c179e\"],[0.4444444444444444,\"#bd3786\"],[0.5555555555555556,\"#d8576b\"],[0.6666666666666666,\"#ed7953\"],[0.7777777777777778,\"#fb9f3a\"],[0.8888888888888888,\"#fdca26\"],[1.0,\"#f0f921\"]]}],\"heatmapgl\":[{\"type\":\"heatmapgl\",\"colorbar\":{\"outlinewidth\":0,\"ticks\":\"\"},\"colorscale\":[[0.0,\"#0d0887\"],[0.1111111111111111,\"#46039f\"],[0.2222222222222222,\"#7201a8\"],[0.3333333333333333,\"#9c179e\"],[0.4444444444444444,\"#bd3786\"],[0.5555555555555556,\"#d8576b\"],[0.6666666666666666,\"#ed7953\"],[0.7777777777777778,\"#fb9f3a\"],[0.8888888888888888,\"#fdca26\"],[1.0,\"#f0f921\"]]}],\"contourcarpet\":[{\"type\":\"contourcarpet\",\"colorbar\":{\"outlinewidth\":0,\"ticks\":\"\"}}],\"contour\":[{\"type\":\"contour\",\"colorbar\":{\"outlinewidth\":0,\"ticks\":\"\"},\"colorscale\":[[0.0,\"#0d0887\"],[0.1111111111111111,\"#46039f\"],[0.2222222222222222,\"#7201a8\"],[0.3333333333333333,\"#9c179e\"],[0.4444444444444444,\"#bd3786\"],[0.5555555555555556,\"#d8576b\"],[0.6666666666666666,\"#ed7953\"],[0.7777777777777778,\"#fb9f3a\"],[0.8888888888888888,\"#fdca26\"],[1.0,\"#f0f921\"]]}],\"surface\":[{\"type\":\"surface\",\"colorbar\":{\"outlinewidth\":0,\"ticks\":\"\"},\"colorscale\":[[0.0,\"#0d0887\"],[0.1111111111111111,\"#46039f\"],[0.2222222222222222,\"#7201a8\"],[0.3333333333333333,\"#9c179e\"],[0.4444444444444444,\"#bd3786\"],[0.5555555555555556,\"#d8576b\"],[0.6666666666666666,\"#ed7953\"],[0.7777777777777778,\"#fb9f3a\"],[0.8888888888888888,\"#fdca26\"],[1.0,\"#f0f921\"]]}],\"mesh3d\":[{\"type\":\"mesh3d\",\"colorbar\":{\"outlinewidth\":0,\"ticks\":\"\"}}],\"scatter\":[{\"fillpattern\":{\"fillmode\":\"overlay\",\"size\":10,\"solidity\":0.2},\"type\":\"scatter\"}],\"parcoords\":[{\"type\":\"parcoords\",\"line\":{\"colorbar\":{\"outlinewidth\":0,\"ticks\":\"\"}}}],\"scatterpolargl\":[{\"type\":\"scatterpolargl\",\"marker\":{\"colorbar\":{\"outlinewidth\":0,\"ticks\":\"\"}}}],\"bar\":[{\"error_x\":{\"color\":\"#2a3f5f\"},\"error_y\":{\"color\":\"#2a3f5f\"},\"marker\":{\"line\":{\"color\":\"#E5ECF6\",\"width\":0.5},\"pattern\":{\"fillmode\":\"overlay\",\"size\":10,\"solidity\":0.2}},\"type\":\"bar\"}],\"scattergeo\":[{\"type\":\"scattergeo\",\"marker\":{\"colorbar\":{\"outlinewidth\":0,\"ticks\":\"\"}}}],\"scatterpolar\":[{\"type\":\"scatterpolar\",\"marker\":{\"colorbar\":{\"outlinewidth\":0,\"ticks\":\"\"}}}],\"histogram\":[{\"marker\":{\"pattern\":{\"fillmode\":\"overlay\",\"size\":10,\"solidity\":0.2}},\"type\":\"histogram\"}],\"scattergl\":[{\"type\":\"scattergl\",\"marker\":{\"colorbar\":{\"outlinewidth\":0,\"ticks\":\"\"}}}],\"scatter3d\":[{\"type\":\"scatter3d\",\"line\":{\"colorbar\":{\"outlinewidth\":0,\"ticks\":\"\"}},\"marker\":{\"colorbar\":{\"outlinewidth\":0,\"ticks\":\"\"}}}],\"scattermapbox\":[{\"type\":\"scattermapbox\",\"marker\":{\"colorbar\":{\"outlinewidth\":0,\"ticks\":\"\"}}}],\"scatterternary\":[{\"type\":\"scatterternary\",\"marker\":{\"colorbar\":{\"outlinewidth\":0,\"ticks\":\"\"}}}],\"scattercarpet\":[{\"type\":\"scattercarpet\",\"marker\":{\"colorbar\":{\"outlinewidth\":0,\"ticks\":\"\"}}}],\"carpet\":[{\"aaxis\":{\"endlinecolor\":\"#2a3f5f\",\"gridcolor\":\"white\",\"linecolor\":\"white\",\"minorgridcolor\":\"white\",\"startlinecolor\":\"#2a3f5f\"},\"baxis\":{\"endlinecolor\":\"#2a3f5f\",\"gridcolor\":\"white\",\"linecolor\":\"white\",\"minorgridcolor\":\"white\",\"startlinecolor\":\"#2a3f5f\"},\"type\":\"carpet\"}],\"table\":[{\"cells\":{\"fill\":{\"color\":\"#EBF0F8\"},\"line\":{\"color\":\"white\"}},\"header\":{\"fill\":{\"color\":\"#C8D4E3\"},\"line\":{\"color\":\"white\"}},\"type\":\"table\"}],\"barpolar\":[{\"marker\":{\"line\":{\"color\":\"#E5ECF6\",\"width\":0.5},\"pattern\":{\"fillmode\":\"overlay\",\"size\":10,\"solidity\":0.2}},\"type\":\"barpolar\"}],\"pie\":[{\"automargin\":true,\"type\":\"pie\"}]},\"layout\":{\"autotypenumbers\":\"strict\",\"colorway\":[\"#636efa\",\"#EF553B\",\"#00cc96\",\"#ab63fa\",\"#FFA15A\",\"#19d3f3\",\"#FF6692\",\"#B6E880\",\"#FF97FF\",\"#FECB52\"],\"font\":{\"color\":\"#2a3f5f\"},\"hovermode\":\"closest\",\"hoverlabel\":{\"align\":\"left\"},\"paper_bgcolor\":\"white\",\"plot_bgcolor\":\"#E5ECF6\",\"polar\":{\"bgcolor\":\"#E5ECF6\",\"angularaxis\":{\"gridcolor\":\"white\",\"linecolor\":\"white\",\"ticks\":\"\"},\"radialaxis\":{\"gridcolor\":\"white\",\"linecolor\":\"white\",\"ticks\":\"\"}},\"ternary\":{\"bgcolor\":\"#E5ECF6\",\"aaxis\":{\"gridcolor\":\"white\",\"linecolor\":\"white\",\"ticks\":\"\"},\"baxis\":{\"gridcolor\":\"white\",\"linecolor\":\"white\",\"ticks\":\"\"},\"caxis\":{\"gridcolor\":\"white\",\"linecolor\":\"white\",\"ticks\":\"\"}},\"coloraxis\":{\"colorbar\":{\"outlinewidth\":0,\"ticks\":\"\"}},\"colorscale\":{\"sequential\":[[0.0,\"#0d0887\"],[0.1111111111111111,\"#46039f\"],[0.2222222222222222,\"#7201a8\"],[0.3333333333333333,\"#9c179e\"],[0.4444444444444444,\"#bd3786\"],[0.5555555555555556,\"#d8576b\"],[0.6666666666666666,\"#ed7953\"],[0.7777777777777778,\"#fb9f3a\"],[0.8888888888888888,\"#fdca26\"],[1.0,\"#f0f921\"]],\"sequentialminus\":[[0.0,\"#0d0887\"],[0.1111111111111111,\"#46039f\"],[0.2222222222222222,\"#7201a8\"],[0.3333333333333333,\"#9c179e\"],[0.4444444444444444,\"#bd3786\"],[0.5555555555555556,\"#d8576b\"],[0.6666666666666666,\"#ed7953\"],[0.7777777777777778,\"#fb9f3a\"],[0.8888888888888888,\"#fdca26\"],[1.0,\"#f0f921\"]],\"diverging\":[[0,\"#8e0152\"],[0.1,\"#c51b7d\"],[0.2,\"#de77ae\"],[0.3,\"#f1b6da\"],[0.4,\"#fde0ef\"],[0.5,\"#f7f7f7\"],[0.6,\"#e6f5d0\"],[0.7,\"#b8e186\"],[0.8,\"#7fbc41\"],[0.9,\"#4d9221\"],[1,\"#276419\"]]},\"xaxis\":{\"gridcolor\":\"white\",\"linecolor\":\"white\",\"ticks\":\"\",\"title\":{\"standoff\":15},\"zerolinecolor\":\"white\",\"automargin\":true,\"zerolinewidth\":2},\"yaxis\":{\"gridcolor\":\"white\",\"linecolor\":\"white\",\"ticks\":\"\",\"title\":{\"standoff\":15},\"zerolinecolor\":\"white\",\"automargin\":true,\"zerolinewidth\":2},\"scene\":{\"xaxis\":{\"backgroundcolor\":\"#E5ECF6\",\"gridcolor\":\"white\",\"linecolor\":\"white\",\"showbackground\":true,\"ticks\":\"\",\"zerolinecolor\":\"white\",\"gridwidth\":2},\"yaxis\":{\"backgroundcolor\":\"#E5ECF6\",\"gridcolor\":\"white\",\"linecolor\":\"white\",\"showbackground\":true,\"ticks\":\"\",\"zerolinecolor\":\"white\",\"gridwidth\":2},\"zaxis\":{\"backgroundcolor\":\"#E5ECF6\",\"gridcolor\":\"white\",\"linecolor\":\"white\",\"showbackground\":true,\"ticks\":\"\",\"zerolinecolor\":\"white\",\"gridwidth\":2}},\"shapedefaults\":{\"line\":{\"color\":\"#2a3f5f\"}},\"annotationdefaults\":{\"arrowcolor\":\"#2a3f5f\",\"arrowhead\":0,\"arrowwidth\":1},\"geo\":{\"bgcolor\":\"white\",\"landcolor\":\"#E5ECF6\",\"subunitcolor\":\"white\",\"showland\":true,\"showlakes\":true,\"lakecolor\":\"white\"},\"title\":{\"x\":0.05},\"mapbox\":{\"style\":\"light\"}}},\"xaxis\":{\"anchor\":\"y\",\"domain\":[0.0,1.0],\"title\":{\"text\":\"device_make\"}},\"yaxis\":{\"anchor\":\"x\",\"domain\":[0.0,1.0],\"title\":{\"text\":\"count\"}},\"legend\":{\"tracegroupgap\":0},\"margin\":{\"t\":60},\"barmode\":\"relative\"},                        {\"responsive\": true}                    ).then(function(){\n",
       "                            \n",
       "var gd = document.getElementById('e3949914-1d1a-4abf-aa20-823c9777a922');\n",
       "var x = new MutationObserver(function (mutations, observer) {{\n",
       "        var display = window.getComputedStyle(gd).display;\n",
       "        if (!display || display === 'none') {{\n",
       "            console.log([gd, 'removed!']);\n",
       "            Plotly.purge(gd);\n",
       "            observer.disconnect();\n",
       "        }}\n",
       "}});\n",
       "\n",
       "// Listen for the removal of the full notebook cells\n",
       "var notebookContainer = gd.closest('#notebook-container');\n",
       "if (notebookContainer) {{\n",
       "    x.observe(notebookContainer, {childList: true});\n",
       "}}\n",
       "\n",
       "// Listen for the clearing of the current output cell\n",
       "var outputEl = gd.closest('.output');\n",
       "if (outputEl) {{\n",
       "    x.observe(outputEl, {childList: true});\n",
       "}}\n",
       "\n",
       "                        })                };                });            </script>        </div>"
      ]
     },
     "metadata": {},
     "output_type": "display_data"
    }
   ],
   "source": [
    "fig = px.histogram(response, x=\"device_make\")\n",
    "fig.show()"
   ]
  },
  {
   "cell_type": "code",
   "execution_count": null,
   "id": "a620c7ac",
   "metadata": {},
   "outputs": [],
   "source": []
  }
 ],
 "metadata": {
  "kernelspec": {
   "display_name": "Python 3 (ipykernel)",
   "language": "python",
   "name": "python3"
  },
  "language_info": {
   "codemirror_mode": {
    "name": "ipython",
    "version": 3
   },
   "file_extension": ".py",
   "mimetype": "text/x-python",
   "name": "python",
   "nbconvert_exporter": "python",
   "pygments_lexer": "ipython3",
   "version": "3.9.7"
  }
 },
 "nbformat": 4,
 "nbformat_minor": 5
}
